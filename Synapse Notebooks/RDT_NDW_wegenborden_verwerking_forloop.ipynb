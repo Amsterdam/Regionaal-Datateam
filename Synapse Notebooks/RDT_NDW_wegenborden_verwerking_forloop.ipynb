{
  "description": null,
  "sessionProperties": {
    "driverMemory": "28g",
    "driverCores": 4,
    "executorMemory": "28g",
    "executorCores": 4,
    "numExecutors": 2
  },
  "metadata": {
    "kernelspec": {
      "name": "synapse_pyspark",
      "display_name": "Synapse PySpark"
    },
    "language_info": {
      "name": "python",
      "codemirror_mode": null
    },
    "a365ComputeOptions": {
      "id": "/subscriptions/00000000-0000-0000-0000-000000000000/resourceGroups/rg-resourcename/providers/Microsoft.Synapse/workspaces/resourcename/bigDataPools/sparkpool",
      "name": "sparkpool",
      "type": "Spark",
      "endpoint": "https://resourcename.dev.azuresynapse.net/livyApi/versions/2019-11-01-preview/sparkPools/sparkpool",
      "auth": {
        "type": "AAD",
        "authResource": "https://dev.azuresynapse.net",
        "authHeader": null
      },
      "sparkVersion": "3.1",
      "nodeCount": 10,
      "cores": 4,
      "memory": 28,
      "extraHeader": null
    },
    "sessionKeepAliveTimeout": 30,
    "saveOutput": true,
    "enableDebugMode": false
  },
  "nbformat": 4,
  "nbformat_minor": 2,
  "cells": [
    {
      "cell_type": "markdown",
      "metadata": {
        "nteract": {
          "transient": {
            "deleting": false
          }
        }
      },
      "source": [
        "# Koppelen van borden- en wegenbestanden\r\n",
        "Wegenbestand wordt omgezet naar een directed graph met de relevante restrictie-type verkeersborden (type-C) gekoppeld aan elk wegsegment. Deze graph is geschikt voor een kortste pad algoritme. Deze dataset is het basis wegenbestand die gebruikt wordt voor diverse casussen binnen dit project."
      ],
      "attachments": null,
      "outputs": []
    },
    {
      "cell_type": "code",
      "metadata": {
        "jupyter": {
          "source_hidden": false,
          "outputs_hidden": false
        },
        "nteract": {
          "transient": {
            "deleting": false
          }
        }
      },
      "source": [
        "import psycopg2\r\n",
        "try:\r\n",
        "    # get secret values from keyvault\r\n",
        "    postgres_pw = TokenLibrary.getSecret(\"redacted\", \"redacted\", \"redacted\")\r\n",
        "    # make connection\r\n",
        "    conn = psycopg2.connect(dbname=\"rdt\",user=\"user\",host=\"host\",password=postgres_pw)\r\n",
        "    conn.autocommit = True\r\n",
        "    cur=conn.cursor()\r\n",
        "    print(\"Database connected\")\r\n",
        "except:\r\n",
        "    print(\"I am unable to connect to the database\")"
      ],
      "attachments": null,
      "outputs": [],
      "execution_count": 1
    },
    {
      "cell_type": "code",
      "metadata": {
        "jupyter": {
          "source_hidden": false,
          "outputs_hidden": false
        },
        "nteract": {
          "transient": {
            "deleting": false
          }
        }
      },
      "source": [
        "subselection_string=\"('Noord-Holland','Flevoland')\"\r\n",
        "# subselection_string=\"('Noord-Holland','Flevoland','Utrecht')\""
      ],
      "attachments": null,
      "outputs": [],
      "execution_count": 2
    },
    {
      "cell_type": "markdown",
      "metadata": {
        "nteract": {
          "transient": {
            "deleting": false
          }
        }
      },
      "source": [
        "Selectie van gemeentes in het interessegebied. Sommige koppelingen schalen zeer nadelig, door opslitsing per gemeente kan de rekentijd acceptabel gehouden worden"
      ],
      "attachments": null,
      "outputs": []
    },
    {
      "cell_type": "code",
      "metadata": {
        "jupyter": {
          "source_hidden": false,
          "outputs_hidden": false
        },
        "nteract": {
          "transient": {
            "deleting": false
          }
        }
      },
      "source": [
        "sql=f'''\r\n",
        "SELECT  g.statcode\r\n",
        "FROM    stg_ndw_wegen.cbs_gemeentegrenzen_2023 g,\r\n",
        "        stg_ndw_wegen.cbs_provinciegrenzen_2023 p\r\n",
        "WHERE   ST_Within(g.geom,p.geom)\r\n",
        "AND     p.statnaam IN {subselection_string}'''\r\n",
        "cur.execute(sql)\r\n",
        "data=cur.fetchall()\r\n",
        "data = [item for sublist in data for item in sublist]\r\n",
        "# print(data)"
      ],
      "attachments": null,
      "outputs": [],
      "execution_count": 3
    },
    {
      "cell_type": "markdown",
      "metadata": {
        "nteract": {
          "transient": {
            "deleting": false
          }
        }
      },
      "source": [
        "## Make subselection"
      ],
      "attachments": null,
      "outputs": []
    },
    {
      "cell_type": "code",
      "metadata": {
        "jupyter": {
          "source_hidden": false,
          "outputs_hidden": false
        },
        "nteract": {
          "transient": {
            "deleting": false
          }
        }
      },
      "source": [
        "sql=f'''drop table if exists stg_ndw_wegen.nwb_raw_subselection;\r\n",
        "CREATE TABLE stg_ndw_wegen.nwb_raw_subselection\r\n",
        "AS (\r\n",
        "    select w.*\r\n",
        "    FROM (\r\n",
        "            SELECT *, ST_GeomFromText(shape,28992) as geom\r\n",
        "            FROM stg_ndw_wegen.nwb_raw\r\n",
        "        ) as w\r\n",
        "        ,(\r\n",
        "            SELECT ST_Union(ARRAY_AGG(geom)) as geom\r\n",
        "            FROM stg_ndw_wegen.cbs_provinciegrenzen_2023\r\n",
        "            WHERE statnaam IN {subselection_string}\r\n",
        "            GROUP BY rubriek\r\n",
        "        ) as p\r\n",
        "    WHERE ST_Within(w.geom,p.geom)\r\n",
        ");'''\r\n",
        "cur.execute(sql)"
      ],
      "attachments": null,
      "outputs": [],
      "execution_count": 3
    },
    {
      "cell_type": "code",
      "metadata": {
        "jupyter": {
          "source_hidden": false,
          "outputs_hidden": false
        },
        "nteract": {
          "transient": {
            "deleting": false
          }
        }
      },
      "source": [
        "sql=f'''drop table if exists stg_ndw_borden.ndw_bebording_raw_geom_subselection;\r\n",
        "CREATE TABLE stg_ndw_borden.ndw_bebording_raw_geom_subselection\r\n",
        "AS (\r\n",
        "    SELECT bc.*\r\n",
        "    FROM (\r\n",
        "            SELECT *, ST_transform(ST_SetSRID(ST_MakePoint(\"location.wgs84.longitude\"::float, \"location.wgs84.latitude\"::float), 4326),28992) as geom\r\n",
        "            FROM stg_ndw_borden.ndw_bebording_raw_catc\r\n",
        "            WHERE black_code NOT IN ('inapplicable','Inapplicable')\r\n",
        "            AND black_code != '21-7.5' -- verkeerd uitgelezen zone-eind bord\r\n",
        "        ) as bc\r\n",
        "        ,(\r\n",
        "            SELECT ST_Union(ARRAY_AGG(geom)) as geom\r\n",
        "            FROM stg_ndw_wegen.cbs_provinciegrenzen_2023\r\n",
        "            WHERE statnaam IN {subselection_string}\r\n",
        "            GROUP BY rubriek\r\n",
        "        ) as p\r\n",
        "    WHERE ST_Within(bc.geom,p.geom)\r\n",
        "    );'''\r\n",
        "cur.execute(sql)"
      ],
      "attachments": null,
      "outputs": [],
      "execution_count": 4
    },
    {
      "cell_type": "markdown",
      "metadata": {
        "nteract": {
          "transient": {
            "deleting": false
          }
        }
      },
      "source": [
        "## Wegenbestand"
      ],
      "attachments": null,
      "outputs": []
    },
    {
      "cell_type": "code",
      "metadata": {
        "jupyter": {
          "source_hidden": false,
          "outputs_hidden": false
        },
        "nteract": {
          "transient": {
            "deleting": false
          }
        }
      },
      "source": [
        "sql='''drop table if exists prd_ndw_wegen.nwb_wegvakken_directed;\r\n",
        "CREATE TABLE prd_ndw_wegen.nwb_wegvakken_directed\r\n",
        "AS (\r\n",
        "    select w.wvk_id*-1 as id,\r\n",
        "        w.jte_id_beg  as source,\r\n",
        "        w.jte_id_end as target,\r\n",
        "        frc as frc,\r\n",
        "        1 as speed,  \r\n",
        "        geom as geom\r\n",
        "    from stg_ndw_wegen.nwb_raw_subselection AS w\r\n",
        "    where rijrichtng in ('B','H','O') \r\n",
        "    union all \r\n",
        "    select w.wvk_id as id,\r\n",
        "        w.jte_id_end   as source, -- dit is bewust omgedraaid \r\n",
        "        w.jte_id_beg   as target, -- dit is bewust omgedraaid\r\n",
        "        frc as frc, \r\n",
        "        1 as speed, \r\n",
        "        st_reverse(geom) as geom -- dit is bewust omgedraaid\r\n",
        "    from stg_ndw_wegen.nwb_raw_subselection AS w\r\n",
        "    where rijrichtng in ('B','O')\r\n",
        "    );'''\r\n",
        "cur.execute(sql)\r\n",
        "sql='''CREATE INDEX nwb_wegvakken_directed_geomidx\r\n",
        "\tON prd_ndw_wegen.nwb_wegvakken_directed\r\n",
        "  \tUSING GIST (geom);\r\n",
        "    ANALYZE prd_ndw_wegen.nwb_wegvakken_directed;'''\r\n",
        "cur.execute(sql)"
      ],
      "attachments": null,
      "outputs": [],
      "execution_count": 5
    },
    {
      "cell_type": "code",
      "metadata": {
        "jupyter": {
          "source_hidden": false,
          "outputs_hidden": false
        },
        "nteract": {
          "transient": {
            "deleting": false
          }
        }
      },
      "source": [
        "sql='''drop table if exists prd_ndw_wegen.nwb_wegvakken_nodes;\r\n",
        "CREATE TABLE prd_ndw_wegen.nwb_wegvakken_nodes\r\n",
        "AS (\r\n",
        "    select source as node,\r\n",
        "        st_startpoint(st_linemerge(geom)) as geom\r\n",
        "    from prd_ndw_wegen.nwb_wegvakken_directed\r\n",
        "    union all \r\n",
        "    select  target as node,\r\n",
        "        st_endpoint(st_linemerge(geom)) as geom\r\n",
        "    from prd_ndw_wegen.nwb_wegvakken_directed\r\n",
        "    );'''\r\n",
        "cur.execute(sql)"
      ],
      "attachments": null,
      "outputs": [],
      "execution_count": 6
    },
    {
      "cell_type": "code",
      "metadata": {
        "jupyter": {
          "source_hidden": false,
          "outputs_hidden": false
        },
        "nteract": {
          "transient": {
            "deleting": false
          }
        }
      },
      "source": [
        "sql='''drop table if exists prd_ndw_wegen.nwb_wegvakken_oneway;\r\n",
        "CREATE TABLE prd_ndw_wegen.nwb_wegvakken_oneway\r\n",
        "AS (\r\n",
        "    select w.wvk_id as id,\r\n",
        "        w.jte_id_beg  as source,\r\n",
        "        w.jte_id_end as target,\r\n",
        "        frc as frc, \r\n",
        "        geom as geom\r\n",
        "    from stg_ndw_wegen.nwb_raw_subselection AS w\r\n",
        "    where rijrichtng ='H'\r\n",
        ");'''\r\n",
        "cur.execute(sql)"
      ],
      "attachments": null,
      "outputs": [],
      "execution_count": 7
    },
    {
      "cell_type": "markdown",
      "metadata": {
        "nteract": {
          "transient": {
            "deleting": false
          }
        }
      },
      "source": [
        "## Bordenbestand"
      ],
      "attachments": null,
      "outputs": []
    },
    {
      "cell_type": "code",
      "metadata": {
        "jupyter": {
          "source_hidden": false,
          "outputs_hidden": false
        },
        "nteract": {
          "transient": {
            "deleting": false
          }
        }
      },
      "source": [
        "sql='''drop table if exists int_ndw_borden.ndw_bebording_verrijkt_1;\r\n",
        "CREATE TABLE int_ndw_borden.ndw_bebording_verrijkt_1\r\n",
        "AS (\r\n",
        "\tselect b.id as bord_id,\r\n",
        "\t\t-- case when b.textsigns is null then 'verbod' else 'onbekend'  end as geldigheid,\r\n",
        "\t\tcase when text_signs = '{}' then 'verbod' when text_signs = '{\"\"}' then 'verbod' else 'onbekend'  end as geldigheid,\r\n",
        "\t\tb.rvv_code,\r\n",
        "\t\tb.text_signs as bord_text,\r\n",
        "\t\tb.black_code as tekst_waarde,\r\n",
        "\t\tb.\"location.wgs84.latitude\" as lat,\r\n",
        "\t\tb.\"location.wgs84.longitude\" as lon, \r\n",
        "\t\tcase when b.\"location.side\" = 'N'  then 0\r\n",
        "\t\t\twhen b.\"location.side\" = 'O'  then 90\r\n",
        "\t\t\twhen b.\"location.side\" = 'Z'  then 180\r\n",
        "\t\t\twhen b.\"location.side\" = 'W'  then 270\r\n",
        "\t\t\telse 0 end as  kijkrichting,\r\n",
        "\t\tb.\"location.road.name\" as straatnaam,\r\n",
        "\t\tb.\"details.image\" as url_foto,\r\n",
        "\t\tconcat ('https://www.google.com/maps/place/',b.\"location.wgs84.latitude\",'+',b.\"location.wgs84.longitude\") as google_url,\r\n",
        "\t\tb.\"location.road.wvk_id\" as nwb_wegvak_id_volgens_ndw,\r\n",
        "\t\tgeom as geom\r\n",
        "\tfrom stg_ndw_borden.ndw_bebording_raw_geom_subselection AS b\r\n",
        "\torder by b.text_signs desc\r\n",
        "\t);'''\r\n",
        "cur.execute(sql)\r\n",
        "sql='''CREATE INDEX ndw_bebording_verrijkt_1_geomidx\r\n",
        "\tON int_ndw_borden.ndw_bebording_verrijkt_1\r\n",
        "  \tUSING GIST (geom);\r\n",
        "\tANALYZE int_ndw_borden.ndw_bebording_verrijkt_1;'''\r\n",
        "cur.execute(sql)"
      ],
      "attachments": null,
      "outputs": [],
      "execution_count": 8
    },
    {
      "cell_type": "code",
      "metadata": {
        "jupyter": {
          "source_hidden": false,
          "outputs_hidden": false
        },
        "nteract": {
          "transient": {
            "deleting": false
          }
        }
      },
      "source": [
        "sql='''drop table if exists int_ndw_wegen.nwb_wegvakken_directed_offset;\r\n",
        "CREATE TABLE int_ndw_wegen.nwb_wegvakken_directed_offset\r\n",
        "AS (\r\n",
        "    SELECT w.*, ST_OffsetCurve(geom,-0.1) as geom_offset\r\n",
        "    FROM prd_ndw_wegen.nwb_wegvakken_directed w\r\n",
        ");'''\r\n",
        "cur.execute(sql)"
      ],
      "attachments": null,
      "outputs": [],
      "execution_count": 12
    },
    {
      "cell_type": "code",
      "metadata": {
        "jupyter": {
          "source_hidden": false,
          "outputs_hidden": false
        },
        "nteract": {
          "transient": {
            "deleting": false
          }
        }
      },
      "source": [
        "for gm_code in data:\r\n",
        "    print(gm_code)\r\n",
        "    sql_sub=f'''drop table if exists int_ndw_borden.ndw_bebording_verrijkt_1_sub;\r\n",
        "    CREATE TABLE int_ndw_borden.ndw_bebording_verrijkt_1_sub\r\n",
        "    AS (\r\n",
        "        SELECT  b.*\r\n",
        "        FROM    int_ndw_borden.ndw_bebording_verrijkt_1 b,\r\n",
        "                stg_ndw_wegen.cbs_gemeentegrenzen_2023 g\r\n",
        "        WHERE   ST_Within(b.geom,g.geom)\r\n",
        "        AND     g.statcode = '{gm_code}'\r\n",
        "    );'''\r\n",
        "    cur.execute(sql_sub)\r\n",
        "    sql_sub2=f'''drop table if exists int_ndw_wegen.nwb_wegvakken_directed_offset_sub;\r\n",
        "    CREATE TABLE int_ndw_wegen.nwb_wegvakken_directed_offset_sub\r\n",
        "    AS (\r\n",
        "        SELECT  w.*\r\n",
        "        FROM    int_ndw_wegen.nwb_wegvakken_directed_offset w,\r\n",
        "                stg_ndw_wegen.cbs_gemeentegrenzen_2023 g\r\n",
        "        WHERE   ST_Within(w.geom,g.geom)\r\n",
        "        AND     g.statcode = '{gm_code}'\r\n",
        "    );'''\r\n",
        "    cur.execute(sql_sub2)\r\n",
        "    sql=f'''drop table if exists int_ndw_borden.ndw_bebording_verrijkt_2_{gm_code};\r\n",
        "    CREATE TABLE int_ndw_borden.ndw_bebording_verrijkt_2_{gm_code}\r\n",
        "    AS (\r\n",
        "        select \r\n",
        "            bord_id, geldigheid, lat, lon, kijkrichting, straatnaam, url_foto, google_url, nwb_wegvak_id_volgens_ndw, geom,\r\n",
        "            rvv_code as rvv_modelnummer, \r\n",
        "            bord_text as onderbord_tekst,\r\n",
        "            tekst_waarde, \r\n",
        "            id as _wegvak_id_volgens_script,\r\n",
        "            id as link_gevalideerd\r\n",
        "        from (\r\n",
        "            SELECT b.*\r\n",
        "                ,roads_closest.ID::INT\r\n",
        "                ,roads_closest.afstand\r\n",
        "            FROM int_ndw_borden.ndw_bebording_verrijkt_1_sub AS b\r\n",
        "            CROSS JOIN LATERAL (\r\n",
        "                SELECT b.geom <-> n.geom_offset as afstand\r\n",
        "                    , n.ID\r\n",
        "                FROM int_ndw_wegen.nwb_wegvakken_directed_offset_sub as n\r\n",
        "                WHERE st_dwithin(b.geom,n.geom_offset,50)=true\r\n",
        "                ORDER BY afstand \r\n",
        "                LIMIT 1\r\n",
        "            ) as roads_closest\r\n",
        "        ) as sub\r\n",
        "    );'''\r\n",
        "    cur.execute(sql)"
      ],
      "attachments": null,
      "outputs": [],
      "execution_count": 7
    },
    {
      "cell_type": "code",
      "metadata": {
        "jupyter": {
          "source_hidden": false,
          "outputs_hidden": false
        },
        "nteract": {
          "transient": {
            "deleting": false
          }
        }
      },
      "source": [
        "sql_union='''drop table if exists int_ndw_borden.ndw_bebording_verrijkt_2;\r\n",
        "CREATE TABLE int_ndw_borden.ndw_bebording_verrijkt_2\r\n",
        "AS ('''\r\n",
        "gm_code_last = data[-1]\r\n",
        "for gm_code in data:\r\n",
        "    sql_union+=f'''select *\r\n",
        "    from int_ndw_borden.ndw_bebording_verrijkt_2_{gm_code}\r\n",
        "    '''\r\n",
        "    if not gm_code == gm_code_last:\r\n",
        "        sql_union+='''union all\r\n",
        "        '''\r\n",
        "sql_union+=''');'''\r\n",
        "# print(sql_union)\r\n",
        "cur.execute(sql_union)"
      ],
      "attachments": null,
      "outputs": [],
      "execution_count": 10
    },
    {
      "cell_type": "code",
      "metadata": {
        "jupyter": {
          "source_hidden": false,
          "outputs_hidden": false
        },
        "nteract": {
          "transient": {
            "deleting": false
          }
        }
      },
      "source": [
        "sql='''drop table if exists prd_ndw_borden.ndw_bebording_verrijkt_3;\r\n",
        "CREATE TABLE prd_ndw_borden.ndw_bebording_verrijkt_3\r\n",
        "AS (\r\n",
        "    select bord_id,geldigheid,lat,lon,kijkrichting,straatnaam,url_foto,google_url,nwb_wegvak_id_volgens_ndw,geom,rvv_modelnummer,onderbord_tekst,_wegvak_id_volgens_script,link_gevalideerd,tekst_waarde\r\n",
        "    FROM int_ndw_borden.ndw_bebording_verrijkt_2 AS b2\r\n",
        ");'''\r\n",
        "cur.execute(sql)\r\n",
        "# No longer needed, as base dataset now containt tekst_waarde\r\n",
        "# Kepts as a copy of bebording_verrijkt_2, for legacy purposes"
      ],
      "attachments": null,
      "outputs": [],
      "execution_count": 11
    },
    {
      "cell_type": "code",
      "metadata": {
        "jupyter": {
          "source_hidden": false,
          "outputs_hidden": false
        },
        "nteract": {
          "transient": {
            "deleting": false
          }
        }
      },
      "source": [
        "sql='''-- verrijkte borden koppelen aan netwerk \r\n",
        "drop table if exists prd_ndw_borden.nwb_wegvakken_bebording;\r\n",
        "CREATE TABLE prd_ndw_borden.nwb_wegvakken_bebording\r\n",
        "AS (\r\n",
        "\tselect\r\n",
        "\t\tsub.id::int,\r\n",
        "\t\tsub.source::int,\r\n",
        "\t\tsub.target::int,\r\n",
        "\t\tsub.speed as spd, \r\n",
        "\t\tcase\r\n",
        "\t\t\twhen speed is null then -1\r\n",
        "\t\t\twhen speed = 0 then -1\r\n",
        "\t\t\telse st_length(geom)/(speed/3.6) \r\n",
        "\t\tend as cost,\r\n",
        "\t\tc01,c06,c07,c07a,c07b,c08,c09,c10,c11,c12,c17, c18, c19, c20, c21,\r\n",
        "\t\tsub.geom\r\n",
        "\tfrom (\r\n",
        "\t\tselect  id , source, target,  speed,  st_transform(geom,4326) as geom\r\n",
        "\t\tfrom prd_ndw_wegen.nwb_wegvakken_directed\r\n",
        "\t\t\t) as sub\r\n",
        "\t\tleft join (\r\n",
        "\t\t\tselect  vb.link_gevalideerd as linknr_vma,\r\n",
        "\t\t\t\tmin(case when vb.rvv_modelnummer = 'C1' then 1 else NULL end) as c01,\r\n",
        "\t\t\t\tmin(case when vb.rvv_modelnummer = 'C6' then 1 else NULL end) as c06,\r\n",
        "\t\t\t\tmin(case when vb.rvv_modelnummer LIKE 'C7%' AND vb.rvv_modelnummer NOT LIKE 'C7A%' AND vb.rvv_modelnummer NOT LIKE 'C7B%' then 1 else NULL end) as c07,\r\n",
        "\t\t\t\tmin(case when vb.rvv_modelnummer = 'C7A' then 1 else NULL end) as c07a,\r\n",
        "\t\t\t\tmin(case when vb.rvv_modelnummer = 'C7B' then 1 else NULL end) as c07b,\r\n",
        "\t\t\t\tmin(case when vb.rvv_modelnummer = 'C8' then 1 else NULL end) as c08,\r\n",
        "\t\t\t\tmin(case when vb.rvv_modelnummer = 'C9' then 1 else NULL end) as c09,\r\n",
        "\t\t\t\tmin(case when vb.rvv_modelnummer = 'C10' then 1 else NULL end) as c10,\r\n",
        "\t\t\t\tmin(case when vb.rvv_modelnummer = 'C11' then 1 else NULL end) as c11,\r\n",
        "\t\t\t\tmin(case when vb.rvv_modelnummer = 'C12' then 1 else NULL end) as c12,\r\n",
        "\t\t\t\tmin(case when vb.rvv_modelnummer = 'C17' then REPLACE(vb.tekst_waarde,',','.')::float else NULL end) as c17,\r\n",
        "\t\t\t\tmin(case when vb.rvv_modelnummer = 'C18' then REPLACE(vb.tekst_waarde,',','.')::float else NULL end) as c18,\r\n",
        "\t\t\t\tmin(case when vb.rvv_modelnummer = 'C19' then REPLACE(vb.tekst_waarde,',','.')::float else NULL end) as c19,\r\n",
        "\t\t\t\tmin(case when vb.rvv_modelnummer = 'C20' then REPLACE(vb.tekst_waarde,',','.')::float else NULL end) as c20,\r\n",
        "\t\t\t\tmin(case when vb.rvv_modelnummer = 'C21' or vb.rvv_modelnummer = 'C21_ZB' then REPLACE(vb.tekst_waarde,',','.')::float else NULL end) as c21\r\n",
        "\t\t\tfrom  prd_ndw_borden.ndw_bebording_verrijkt_3 AS vb\r\n",
        "\t\t\twhere  vb.link_gevalideerd  <> 0\r\n",
        "\t\t\tand vb.tekst_waarde NOT LIKE 'Z%'\r\n",
        "\t\t\tand vb.tekst_waarde NOT IN ('Inapplicable','inapplicable')\r\n",
        "\t\t\tand vb.tekst_waarde != '21-7.5' -- verkeerd uitgelezen zone-eind bord\r\n",
        "\t\t\tand geldigheid in ('verbod')\r\n",
        "\t\t\tgroup by  vb.link_gevalideerd\r\n",
        "\t\t\t) as borden\r\n",
        "\t\ton sub.id=borden.linknr_vma\r\n",
        "\t);'''\r\n",
        "cur.execute(sql)\r\n",
        "sql='''CREATE INDEX nwb_wegvakken_bebording_geomidx\r\n",
        "\tON prd_ndw_borden.nwb_wegvakken_bebording\r\n",
        "  \tUSING GIST (geom);\r\n",
        "\tANALYZE prd_ndw_borden.nwb_wegvakken_bebording;'''\r\n",
        "cur.execute(sql)"
      ],
      "attachments": null,
      "outputs": [],
      "execution_count": 6
    }
  ],
  "entityState": null,
  "renameOperationDetails": null,
  "targetSparkConfiguration": null
}
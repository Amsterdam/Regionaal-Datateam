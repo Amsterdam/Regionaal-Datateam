{
  "description": null,
  "sessionProperties": {
    "driverMemory": "28g",
    "driverCores": 4,
    "executorMemory": "28g",
    "executorCores": 4,
    "numExecutors": 2
  },
  "metadata": {
    "kernelspec": {
      "name": "synapse_pyspark",
      "display_name": "python"
    },
    "language_info": {
      "name": "python",
      "codemirror_mode": null
    },
    "a365ComputeOptions": {
      "id": "/subscriptions/00000000-0000-0000-0000-000000000000/resourceGroups/rg-redacted/providers/Microsoft.Synapse/workspaces/redacted/bigDataPools/redacted",
      "name": "redacted",
      "type": "Spark",
      "endpoint": "https://redacted.dev.azuresynapse.net/livyApi/versions/2019-11-01-preview/sparkPools/redacted",
      "auth": {
        "type": "AAD",
        "authResource": "https://dev.azuresynapse.net",
        "authHeader": null
      },
      "sparkVersion": "3.1",
      "nodeCount": 10,
      "cores": 4,
      "memory": 28,
      "extraHeader": null
    },
    "sessionKeepAliveTimeout": 30,
    "saveOutput": true,
    "enableDebugMode": false
  },
  "nbformat": 4,
  "nbformat_minor": 2,
  "cells": [
    {
      "cell_type": "markdown",
      "metadata": {
        "nteract": {
          "transient": {
            "deleting": false
          }
        }
      },
      "source": [
        ""
      ],
      "attachments": null,
      "outputs": []
    },
    {
      "cell_type": "code",
      "metadata": {
        "jupyter": {
          "source_hidden": false,
          "outputs_hidden": false
        },
        "nteract": {
          "transient": {
            "deleting": false
          }
        }
      },
      "source": [
        "import psycopg2\r\n",
        "try:\r\n",
        "    # get secret values from keyvault\r\n",
        "    postgres_pw = TokenLibrary.getSecret(\"redacted\", \"redacted\", \"redacted\")\r\n",
        "    # make connection\r\n",
        "    conn = psycopg2.connect(dbname=\"rdt_dev\",user=\"redacted\",host=\"redacted\",password=postgres_pw)\r\n",
        "    conn.autocommit = True\r\n",
        "    cur=conn.cursor()\r\n",
        "    print(\"Database connected\")\r\n",
        "except:\r\n",
        "    print(\"I am unable to connect to the database\")"
      ],
      "attachments": null,
      "outputs": []
    },
    {
      "cell_type": "code",
      "metadata": {
        "jupyter": {
          "source_hidden": false,
          "outputs_hidden": false
        },
        "nteract": {
          "transient": {
            "deleting": false
          }
        }
      },
      "source": [
        "sql=f'''CREATE SCHEMA IF NOT EXISTS metadata;\r\n",
        "CREATE TABLE IF NOT EXISTS metadata.tableupdates (\r\n",
        "    dbname      VARCHAR(255),\r\n",
        "    schemaname  VARCHAR(255),\r\n",
        "    tablename   VARCHAR(255),\r\n",
        "    last_update TIMESTAMPTZ,\r\n",
        "    scriptname  VARCHAR(255),\r\n",
        "    updatetype  VARCHAR(255),\r\n",
        "    primary key(dbname, schemaname, tablename)\r\n",
        ");'''\r\n",
        "cur.execute(sql)"
      ],
      "attachments": null,
      "outputs": []
    },
    {
      "cell_type": "code",
      "metadata": {
        "jupyter": {
          "source_hidden": false,
          "outputs_hidden": false
        },
        "nteract": {
          "transient": {
            "deleting": false
          }
        }
      },
      "source": [
        "sql=f'''CREATE PROCEDURE update_metadata(var_dbname VARCHAR, var_schemaname VARCHAR, var_tablename VARCHAR, var_last_update TIMESTAMPTZ, var_scriptname VARCHAR, var_updatetype VARCHAR)\r\n",
        "LANGUAGE SQL\r\n",
        "AS $$\r\n",
        "    INSERT INTO metadata.tableupdates (dbname, schemaname, tablename, last_update, scriptname, updatetype)\r\n",
        "    VALUES      (var_dbname, var_schemaname, var_tablename, var_last_update, var_scriptname, var_updatetype)\r\n",
        "    ON CONFLICT (dbname, schemaname, tablename)\r\n",
        "    DO UPDATE SET\r\n",
        "        last_update = EXCLUDED.last_update\r\n",
        "        ,scriptname = EXCLUDED.scriptname\r\n",
        "        ,updatetype = EXCLUDED.updatetype;\r\n",
        "$$;'''\r\n",
        "cur.execute(sql)"
      ],
      "attachments": null,
      "outputs": []
    },
    {
      "cell_type": "code",
      "metadata": {
        "jupyter": {
          "source_hidden": false,
          "outputs_hidden": false
        },
        "nteract": {
          "transient": {
            "deleting": false
          }
        }
      },
      "source": [
        "# Example update call by scripts\r\n",
        "# sql_meta='''CALL update_metadata('rdt_dev','stg_...','...',NOW(),'notebookname','calculation');'''\r\n",
        "# cur.execute(sql_meta)"
      ],
      "attachments": null,
      "outputs": []
    }
  ],
  "entityState": null,
  "renameOperationDetails": null,
  "targetSparkConfiguration": null
}
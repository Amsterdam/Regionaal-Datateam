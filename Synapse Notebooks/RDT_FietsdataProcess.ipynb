{
  "description": null,
  "sessionProperties": {
    "driverMemory": "28g",
    "driverCores": 4,
    "executorMemory": "28g",
    "executorCores": 4,
    "numExecutors": 2
  },
  "metadata": {
    "kernelspec": {
      "name": "synapse_pyspark",
      "display_name": "python"
    },
    "language_info": {
      "name": "python",
      "codemirror_mode": null
    },
    "a365ComputeOptions": null,
    "sessionKeepAliveTimeout": 30,
    "saveOutput": true,
    "enableDebugMode": false
  },
  "nbformat": 4,
  "nbformat_minor": 2,
  "cells": [
    {
      "cell_type": "markdown",
      "metadata": {
        "nteract": {
          "transient": {
            "deleting": false
          }
        }
      },
      "source": [
        "# Fietsdata processing\r\n",
        "Verwerken van ruwe fietstellingdata naar data geaggregeerd per 24h, gekoppeld aan een wegdeel en verschillende databronnen samengenomen."
      ],
      "attachments": null,
      "outputs": []
    },
    {
      "cell_type": "code",
      "metadata": null,
      "source": [
        "import psycopg2\r\n",
        "try:\r\n",
        "    postgres_pw = TokenLibrary.getSecret(\"redacted\", \"redacted\", \"redacted\")\r\n",
        "    conn = psycopg2.connect(dbname=\"rdt\",user=\"user\",host=\"host\",password=postgres_pw)\r\n",
        "    conn.autocommit = True\r\n",
        "    cur=conn.cursor()\r\n",
        "    print(\"Database connected\")\r\n",
        "except:\r\n",
        "    print(\"I am unable to connect to the database\")"
      ],
      "attachments": null,
      "outputs": []
    },
    {
      "cell_type": "code",
      "metadata": {
        "jupyter": {
          "source_hidden": false,
          "outputs_hidden": false
        },
        "nteract": {
          "transient": {
            "deleting": false
          }
        }
      },
      "source": [
        "# Wegenbestand\r\n",
        "sql='''DROP TABLE IF EXISTS int_fietsdata.doorfietsroute_cleaned;\r\n",
        "CREATE TABLE int_fietsdata.doorfietsroute_cleaned AS (\r\n",
        "    select geom,wvk_id,jte_id_beg,jte_id_end,wegbehsrt,rpe_code,rijrichtng,stt_naam,stt_bron,wpsnaam\r\n",
        "        ,gme_id,gme_naam,wegbehcode,wegbehnaam,geobron_id,geobron_nm,bronjaar,frc\r\n",
        "    from stg_fietsdata.doorfietsroute\r\n",
        ");'''\r\n",
        "cur.execute(sql)"
      ],
      "attachments": null,
      "outputs": []
    },
    {
      "cell_type": "markdown",
      "metadata": {
        "nteract": {
          "transient": {
            "deleting": false
          }
        }
      },
      "source": [
        "## PNH Measurement sites data prep\r\n",
        "Adding geom and road_id"
      ],
      "attachments": null,
      "outputs": []
    },
    {
      "cell_type": "code",
      "metadata": {
        "jupyter": {
          "source_hidden": false,
          "outputs_hidden": false
        },
        "nteract": {
          "transient": {
            "deleting": false
          }
        }
      },
      "source": [
        "# lon/lat to geom\r\n",
        "sql='''DROP TABLE IF EXISTS int_fietsdata.pnh_fietstellingen_measurement_sites_geom;\r\n",
        "CREATE TABLE int_fietsdata.pnh_fietstellingen_measurement_sites_geom AS (\r\n",
        "    select \"measurePoint\", \"ndwLocationId\", source, bearing, s.name as streetname\r\n",
        "        ,ST_Transform(ST_SetSRID(ST_MakePoint(longitude, latitude), 4326),28992) as geom\r\n",
        "    FROM stg_fietsdata.pnh_fietstellingen_measurement_sites as s\r\n",
        ");'''\r\n",
        "cur.execute(sql)"
      ],
      "attachments": null,
      "outputs": []
    },
    {
      "cell_type": "code",
      "metadata": {
        "jupyter": {
          "source_hidden": false,
          "outputs_hidden": false
        },
        "nteract": {
          "transient": {
            "deleting": false
          }
        }
      },
      "source": [
        "# geom to road_id, based on NDW dataset\r\n",
        "sql='''DROP TABLE IF EXISTS int_fietsdata.pnh_fietstellingen_measurement_sites_geom_road_id;\r\n",
        "CREATE TABLE int_fietsdata.pnh_fietstellingen_measurement_sites_geom_road_id AS (\r\n",
        "    select g.\"measurePoint\", g.\"ndwLocationId\", g.source, g.bearing, g.streetname\r\n",
        "        , abs(r.wvk_id) as road_id, r.geom, r.dist\r\n",
        "    from int_fietsdata.pnh_fietstellingen_measurement_sites_geom as g\r\n",
        "    CROSS JOIN LATERAL (\r\n",
        "        SELECT roads.wvk_id, roads.geom, roads.geom <-> g.geom AS dist\r\n",
        "        FROM int_fietsdata.doorfietsroute_cleaned as roads\r\n",
        "        ORDER BY dist\r\n",
        "        LIMIT 1\r\n",
        "    ) as r\r\n",
        "    where r.dist < 50\r\n",
        ");'''\r\n",
        "cur.execute(sql)"
      ],
      "attachments": null,
      "outputs": []
    },
    {
      "cell_type": "markdown",
      "metadata": {
        "nteract": {
          "transient": {
            "deleting": false
          }
        }
      },
      "source": [
        "## PNH Measured counts data prep\r\n",
        "Aggregate per 24h\r\n",
        "\r\n",
        "Create a table containing only road_id, datetime, (24h aggregate) counts"
      ],
      "attachments": null,
      "outputs": []
    },
    {
      "cell_type": "code",
      "metadata": {
        "jupyter": {
          "source_hidden": false,
          "outputs_hidden": false
        },
        "nteract": {
          "transient": {
            "deleting": false
          }
        }
      },
      "source": [
        "# unix timestamp to postgres datetime\r\n",
        "sql='''DROP TABLE IF EXISTS int_fietsdata.pnh_fietstellingen_measured_data_datetime;\r\n",
        "CREATE TABLE int_fietsdata.pnh_fietstellingen_measured_data_datetime AS (\r\n",
        "    select \"measurePoint\",to_timestamp(start) as startTime,to_timestamp(\"end\") as endTime,\"bothDirections\",\"countTo\",\"countFrom\",source\r\n",
        "    FROM stg_fietsdata.pnh_fietstellingen_measured_data as d\r\n",
        ");'''\r\n",
        "cur.execute(sql)"
      ],
      "attachments": null,
      "outputs": []
    },
    {
      "cell_type": "code",
      "metadata": {
        "jupyter": {
          "source_hidden": false,
          "outputs_hidden": false
        },
        "nteract": {
          "transient": {
            "deleting": false
          }
        }
      },
      "source": [
        "# aggregate per 24h\r\n",
        "sql='''DROP TABLE IF EXISTS int_fietsdata.pnh_fietstellingen_measured_data_24h;\r\n",
        "CREATE TABLE int_fietsdata.pnh_fietstellingen_measured_data_24h AS (\r\n",
        "    select \"measurePoint\",source,startTime::date as measurementdate,sum(\"bothDirections\") as counts\r\n",
        "    FROM int_fietsdata.pnh_fietstellingen_measured_data_datetime as d\r\n",
        "    GROUP BY \"measurePoint\",source,startTime::date\r\n",
        "    ORDER BY startTime::date, \"measurePoint\"\r\n",
        ");'''\r\n",
        "cur.execute(sql)"
      ],
      "attachments": null,
      "outputs": []
    },
    {
      "cell_type": "code",
      "metadata": {
        "jupyter": {
          "source_hidden": false,
          "outputs_hidden": false
        },
        "nteract": {
          "transient": {
            "deleting": false
          }
        }
      },
      "source": [
        "# using measurePoint and source, find correct road_id\r\n",
        "sql='''DROP TABLE IF EXISTS prd_fietsdata.pnh_fietstellingen_measured_data_24h_road_id;\r\n",
        "CREATE TABLE prd_fietsdata.pnh_fietstellingen_measured_data_24h_road_id AS (\r\n",
        "    select d.\"measurePoint\" as beschrijving, d.measurementdate, d.counts::float as counts_BothWaysSummed\r\n",
        "    , s.road_id, s.geom\r\n",
        "    FROM int_fietsdata.pnh_fietstellingen_measured_data_24h as d\r\n",
        "    -- join twice, as column d.source is mixed data\r\n",
        "    inner join int_fietsdata.pnh_fietstellingen_measurement_sites_geom_road_id as s\r\n",
        "    on d.source = s.source AND d.\"measurePoint\" = s.\"measurePoint\"\r\n",
        "    union\r\n",
        "    select d.\"measurePoint\" as beschrijving, d.measurementdate, d.counts::float as counts_BothWaysSummed\r\n",
        "    , s2.road_id, s2.geom\r\n",
        "    FROM int_fietsdata.pnh_fietstellingen_measured_data_24h as d\r\n",
        "    inner join int_fietsdata.pnh_fietstellingen_measurement_sites_geom_road_id as s2\r\n",
        "    on d.source = s2.source AND d.\"measurePoint\" = s2.\"ndwLocationId\"\r\n",
        ");'''\r\n",
        "cur.execute(sql)"
      ],
      "attachments": null,
      "outputs": []
    },
    {
      "cell_type": "markdown",
      "metadata": {
        "nteract": {
          "transient": {
            "deleting": false
          }
        }
      },
      "source": [
        "## NDW fietsdata prep\r\n",
        "make table with distinct measurement sites (based on name)\r\n",
        "for each site:\r\n",
        "- lon/lat to point\r\n",
        "- point to road_id\r\n",
        "- add geom based on road_id\r\n",
        "\r\n",
        "for each datapoint/measurement:\r\n",
        "- aggregate to 24h\r\n",
        "- connect to road_id and geom using location name"
      ],
      "attachments": null,
      "outputs": []
    },
    {
      "cell_type": "code",
      "metadata": {
        "jupyter": {
          "source_hidden": false,
          "outputs_hidden": false
        },
        "nteract": {
          "transient": {
            "deleting": false
          }
        }
      },
      "source": [
        "# distinct measurement sites\r\n",
        "sql='''DROP TABLE IF EXISTS int_fietsdata.ndw_fietstellingen_measurement_sites_geom;\r\n",
        "CREATE TABLE int_fietsdata.ndw_fietstellingen_measurement_sites_geom AS (\r\n",
        "    select DISTINCT locatiecode, naam, breedtegraad, lengtegraad\r\n",
        "        ,ST_Transform(ST_SetSRID(ST_MakePoint(lengtegraad::float,breedtegraad::float), 4326),28992) as geom\r\n",
        "    FROM stg_fietsdata.\"fiets-data-export-schiphol\" as d\r\n",
        ");'''\r\n",
        "cur.execute(sql)"
      ],
      "attachments": null,
      "outputs": []
    },
    {
      "cell_type": "code",
      "metadata": {
        "jupyter": {
          "source_hidden": false,
          "outputs_hidden": false
        },
        "nteract": {
          "transient": {
            "deleting": false
          }
        }
      },
      "source": [
        "# geom to road_id, based on NDW dataset\r\n",
        "sql='''DROP TABLE IF EXISTS int_fietsdata.ndw_fietstellingen_measurement_sites_geom_roadid;\r\n",
        "CREATE TABLE int_fietsdata.ndw_fietstellingen_measurement_sites_geom_roadid AS (\r\n",
        "    select g.locatiecode, g.naam\r\n",
        "        , abs(r.wvk_id) as road_id, r.geom, r.dist\r\n",
        "    from int_fietsdata.ndw_fietstellingen_measurement_sites_geom as g\r\n",
        "    CROSS JOIN LATERAL (\r\n",
        "        SELECT roads.wvk_id, roads.geom, roads.geom <-> g.geom AS dist\r\n",
        "        FROM int_fietsdata.doorfietsroute_cleaned as roads\r\n",
        "        ORDER BY dist\r\n",
        "        LIMIT 1\r\n",
        "    ) as r\r\n",
        "    where r.dist < 50\r\n",
        ");'''\r\n",
        "cur.execute(sql)"
      ],
      "attachments": null,
      "outputs": []
    },
    {
      "cell_type": "code",
      "metadata": {
        "jupyter": {
          "source_hidden": false,
          "outputs_hidden": false
        },
        "nteract": {
          "transient": {
            "deleting": false
          }
        }
      },
      "source": [
        "# unix timestamp to postgres datetime\r\n",
        "sql='''DROP TABLE IF EXISTS int_fietsdata.ndw_fietstellingen_measured_data_datetime;\r\n",
        "CREATE TABLE int_fietsdata.ndw_fietstellingen_measured_data_datetime AS (\r\n",
        "    select locatiecode,naam,to_timestamp(begintijd,'YYYY-MM-DD HH24:MI:SS') as startTime, intensiteit_beide_richtingen\r\n",
        "    FROM stg_fietsdata.\"fiets-data-export-schiphol\" as d\r\n",
        ");'''\r\n",
        "cur.execute(sql)"
      ],
      "attachments": null,
      "outputs": []
    },
    {
      "cell_type": "code",
      "metadata": {
        "jupyter": {
          "source_hidden": false,
          "outputs_hidden": false
        },
        "nteract": {
          "transient": {
            "deleting": false
          }
        }
      },
      "source": [
        "# aggregate per 24h\r\n",
        "sql='''DROP TABLE IF EXISTS int_fietsdata.ndw_fietstellingen_measured_data_24h;\r\n",
        "CREATE TABLE int_fietsdata.ndw_fietstellingen_measured_data_24h AS (\r\n",
        "    select locatiecode,naam,startTime::date as measurementdate,sum(intensiteit_beide_richtingen::float) as counts\r\n",
        "    FROM int_fietsdata.ndw_fietstellingen_measured_data_datetime as d\r\n",
        "    WHERE intensiteit_beide_richtingen!=''\r\n",
        "    GROUP BY locatiecode,naam,startTime::date\r\n",
        "    ORDER BY startTime::date, locatiecode\r\n",
        ");'''\r\n",
        "cur.execute(sql)"
      ],
      "attachments": null,
      "outputs": []
    },
    {
      "cell_type": "code",
      "metadata": {
        "jupyter": {
          "source_hidden": false,
          "outputs_hidden": false
        },
        "nteract": {
          "transient": {
            "deleting": false
          }
        }
      },
      "source": [
        "# using measurePoint and source, find correct road_id\r\n",
        "sql='''DROP TABLE IF EXISTS prd_fietsdata.ndw_fietstellingen_measured_data_24h_road_id;\r\n",
        "CREATE TABLE prd_fietsdata.ndw_fietstellingen_measured_data_24h_road_id AS (\r\n",
        "    select d.locatiecode as beschrijving, d.measurementdate, d.counts as counts_BothWaysSummed\r\n",
        "    , s.road_id, s.geom\r\n",
        "    FROM int_fietsdata.ndw_fietstellingen_measured_data_24h as d\r\n",
        "    inner join int_fietsdata.ndw_fietstellingen_measurement_sites_geom_roadid as s\r\n",
        "    on d.locatiecode = s.locatiecode\r\n",
        ");'''\r\n",
        "cur.execute(sql)"
      ],
      "attachments": null,
      "outputs": []
    },
    {
      "cell_type": "markdown",
      "metadata": {
        "nteract": {
          "transient": {
            "deleting": false
          }
        }
      },
      "source": [
        "## Interpolation of datapoints"
      ],
      "attachments": null,
      "outputs": []
    },
    {
      "cell_type": "code",
      "metadata": {
        "jupyter": {
          "source_hidden": false,
          "outputs_hidden": false
        },
        "nteract": {
          "transient": {
            "deleting": false
          }
        }
      },
      "source": [
        "# Currently implemented as pilot; only for 09-09-2022\r\n",
        "%run RDT_FietsdataInterpolate"
      ],
      "attachments": null,
      "outputs": []
    },
    {
      "cell_type": "markdown",
      "metadata": {
        "nteract": {
          "transient": {
            "deleting": false
          }
        }
      },
      "source": [
        "## Fietsdata combinatie in 1 tabel"
      ],
      "attachments": null,
      "outputs": []
    },
    {
      "cell_type": "code",
      "metadata": {
        "jupyter": {
          "source_hidden": false,
          "outputs_hidden": false
        },
        "nteract": {
          "transient": {
            "deleting": false
          }
        }
      },
      "source": [
        "# using measurePoint and source, find correct road_id\r\n",
        "sql='''DROP TABLE IF EXISTS int_fietsdata.fietstellingen_24h_road_id;\r\n",
        "CREATE TABLE int_fietsdata.fietstellingen_24h_road_id AS (\r\n",
        "    SELECT 'ndw' as source\r\n",
        "        , n.beschrijving, n.measurementdate, n.counts_BothWaysSummed, n.road_id\r\n",
        "        ,n.geom\r\n",
        "    from prd_fietsdata.ndw_fietstellingen_measured_data_24h_road_id as n\r\n",
        "    union\r\n",
        "    SELECT 'pnh' as source\r\n",
        "        , p.beschrijving, p.measurementdate, p.counts_BothWaysSummed, p.road_id\r\n",
        "        ,p.geom\r\n",
        "    from prd_fietsdata.pnh_fietstellingen_measured_data_24h_road_id as p\r\n",
        "    union\r\n",
        "    SELECT *\r\n",
        "    from prd_fietsdata.fietstellingen_24h_road_id_interpolated as p\r\n",
        ");\r\n",
        "\r\n",
        "DROP TABLE IF EXISTS prd_fietsdata.fietstellingen_24h_road_id_4326;\r\n",
        "CREATE TABLE prd_fietsdata.fietstellingen_24h_road_id_4326 AS (\r\n",
        "    SELECT source, beschrijving, measurementdate, counts_BothWaysSummed, road_id\r\n",
        "        ,ST_Transform(geom,4326) as geom\r\n",
        "    from int_fietsdata.fietstellingen_24h_road_id\r\n",
        ");'''\r\n",
        "cur.execute(sql)"
      ],
      "attachments": null,
      "outputs": []
    }
  ],
  "entityState": null,
  "renameOperationDetails": null,
  "targetSparkConfiguration": null
}
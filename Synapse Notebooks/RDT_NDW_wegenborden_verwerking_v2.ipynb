{
  "description": "Op basis van NDW wegvak+kijkrichting",
  "sessionProperties": {
    "driverMemory": "28g",
    "driverCores": 4,
    "executorMemory": "28g",
    "executorCores": 4,
    "numExecutors": 2
  },
  "metadata": {
    "kernelspec": {
      "name": "synapse_pyspark",
      "display_name": "Synapse PySpark"
    },
    "language_info": {
      "name": "python",
      "codemirror_mode": null
    },
    "a365ComputeOptions": {
      "id": "/subscriptions/00000000-0000-0000-0000-000000000000/resourceGroups/rg-redacted/providers/Microsoft.Synapse/workspaces/redacted/bigDataPools/redacted",
      "name": "redacted",
      "type": "Spark",
      "endpoint": "https://redacted.dev.azuresynapse.net/livyApi/versions/2019-11-01-preview/sparkPools/redacted",
      "auth": {
        "type": "AAD",
        "authResource": "https://dev.azuresynapse.net",
        "authHeader": null
      },
      "sparkVersion": "3.1",
      "nodeCount": 10,
      "cores": 4,
      "memory": 28,
      "extraHeader": null
    },
    "sessionKeepAliveTimeout": 30,
    "saveOutput": true,
    "enableDebugMode": false
  },
  "nbformat": 4,
  "nbformat_minor": 2,
  "cells": [
    {
      "cell_type": "markdown",
      "metadata": {
        "nteract": {
          "transient": {
            "deleting": false
          }
        }
      },
      "source": [
        "# Koppelen van borden- en wegenbestanden\r\n",
        "Wegenbestand wordt omgezet naar een directed graph met de relevante restrictie-type verkeersborden (type-C) gekoppeld aan elk wegsegment. Deze graph is geschikt voor een kortste pad algoritme. Deze dataset is het basis wegenbestand die gebruikt wordt voor diverse casussen binnen dit project."
      ],
      "attachments": null,
      "outputs": []
    },
    {
      "cell_type": "code",
      "metadata": {
        "jupyter": {
          "source_hidden": false,
          "outputs_hidden": false
        },
        "nteract": {
          "transient": {
            "deleting": false
          }
        }
      },
      "source": [
        "import psycopg2\r\n",
        "try:\r\n",
        "    # get secret values from keyvault\r\n",
        "    postgres_pw = TokenLibrary.getSecret(\"redacted\", \"redacted\", \"redacted\")\r\n",
        "    # make connection\r\n",
        "    conn = psycopg2.connect(dbname=\"rdt_dev\",user=\"redacted\",host=\"redacted\",password=postgres_pw)\r\n",
        "    conn.autocommit = True\r\n",
        "    cur=conn.cursor()\r\n",
        "    print(\"Database connected\")\r\n",
        "except:\r\n",
        "    print(\"I am unable to connect to the database\")"
      ],
      "attachments": null,
      "outputs": [],
      "execution_count": 1
    },
    {
      "cell_type": "code",
      "metadata": {
        "jupyter": {
          "source_hidden": false,
          "outputs_hidden": false
        },
        "nteract": {
          "transient": {
            "deleting": false
          }
        }
      },
      "source": [
        "# subselection_string=\"('Noord-Holland','Flevoland')\"\r\n",
        "subselection_string=\"('Noord-Holland','Flevoland','Utrecht')\""
      ],
      "attachments": null,
      "outputs": []
    },
    {
      "cell_type": "markdown",
      "metadata": {
        "nteract": {
          "transient": {
            "deleting": false
          }
        }
      },
      "source": [
        "Selectie van gemeentes in het interessegebied. Sommige koppelingen schalen zeer nadelig, door opslitsing per gemeente kan de rekentijd acceptabel gehouden worden"
      ],
      "attachments": null,
      "outputs": []
    },
    {
      "cell_type": "code",
      "metadata": {
        "jupyter": {
          "source_hidden": false,
          "outputs_hidden": false
        },
        "nteract": {
          "transient": {
            "deleting": false
          }
        }
      },
      "source": [
        "sql=f'''\r\n",
        "SELECT  g.statcode\r\n",
        "FROM    stg_ndw_wegen.cbs_gemeentegrenzen_2023 g,\r\n",
        "        stg_ndw_wegen.cbs_provinciegrenzen_2023 p\r\n",
        "WHERE   ST_Within(g.geom,p.geom)\r\n",
        "AND     p.statnaam IN {subselection_string}'''\r\n",
        "cur.execute(sql)\r\n",
        "data=cur.fetchall()\r\n",
        "data = [item for sublist in data for item in sublist]\r\n",
        "# print(data)"
      ],
      "attachments": null,
      "outputs": []
    },
    {
      "cell_type": "markdown",
      "metadata": {
        "nteract": {
          "transient": {
            "deleting": false
          }
        }
      },
      "source": [
        "## Make subselection"
      ],
      "attachments": null,
      "outputs": []
    },
    {
      "cell_type": "code",
      "metadata": {
        "jupyter": {
          "source_hidden": false,
          "outputs_hidden": false
        },
        "nteract": {
          "transient": {
            "deleting": false
          }
        }
      },
      "source": [
        "sql=f'''drop table if exists stg_ndw_wegen.nwb_raw_subselection;\r\n",
        "CREATE TABLE stg_ndw_wegen.nwb_raw_subselection\r\n",
        "AS (\r\n",
        "    select w.*\r\n",
        "    FROM (\r\n",
        "            SELECT  *, ST_GeomFromText(shape,28992) as geom\r\n",
        "            FROM    stg_ndw_wegen.nwb_raw\r\n",
        "            --WHERE   bst_code NOT IN ('PST','DST','BU','OVB','CADO','VV','FP','VP','RP') -- Zie https://downloads.rijkswaterstaatdata.nl/nwb-wegen/productinfo/beschrijvende_documentatie/Gebruikershandleiding_NWB_Wegen_v1.1.docx\r\n",
        "            WHERE   bst_code NOT IN ('DST','CADO','VV','FP','VP','RP') -- Zie https://downloads.rijkswaterstaatdata.nl/nwb-wegen/productinfo/beschrijvende_documentatie/Gebruikershandleiding_NWB_Wegen_v1.1.docx\r\n",
        "            OR      bst_code IS NULL\r\n",
        "        ) as w\r\n",
        "        ,(\r\n",
        "            SELECT  ST_Union(ARRAY_AGG(geom)) as geom\r\n",
        "            FROM    stg_ndw_wegen.cbs_provinciegrenzen_2023 c\r\n",
        "            WHERE   statnaam IN {subselection_string}\r\n",
        "            GROUP BY rubriek\r\n",
        "        ) as p\r\n",
        "    WHERE ST_Within(w.geom,p.geom)\r\n",
        ");'''\r\n",
        "cur.execute(sql)\r\n",
        "sql_meta='''CALL update_metadata('rdt_dev'::VARCHAR,'stg_ndw_wegen'::VARCHAR,'nwb_raw_subselection'::VARCHAR,NOW(),'RDT_NDW_wegenborden_verwerking_v2'::VARCHAR,'subset'::VARCHAR);'''\r\n",
        "cur.execute(sql_meta)"
      ],
      "attachments": null,
      "outputs": []
    },
    {
      "cell_type": "code",
      "metadata": {
        "jupyter": {
          "source_hidden": false,
          "outputs_hidden": false
        },
        "nteract": {
          "transient": {
            "deleting": false
          }
        }
      },
      "source": [
        "sql=f'''drop table if exists stg_ndw_borden.ndw_bebording_raw_geom_subselection;\r\n",
        "CREATE TABLE stg_ndw_borden.ndw_bebording_raw_geom_subselection\r\n",
        "AS (\r\n",
        "    SELECT bc.*\r\n",
        "    FROM (\r\n",
        "            SELECT  *, ST_transform(ST_SetSRID(ST_MakePoint(\"location.wgs84.longitude\"::float, \"location.wgs84.latitude\"::float), 4326),28992) as geom\r\n",
        "            FROM    stg_ndw_borden.ndw_bebording_raw_catc\r\n",
        "            WHERE   black_code ~ '^[-+]?[0-9]*\\.?[0-9]+([eE][-+]?[0-9]+)?$' --regexp voor numerieke waarden\r\n",
        "            OR      black_code IS NULL\r\n",
        "        ) as bc\r\n",
        "        ,(\r\n",
        "            SELECT ST_Union(ARRAY_AGG(geom)) as geom\r\n",
        "            FROM stg_ndw_wegen.cbs_provinciegrenzen_2023\r\n",
        "            WHERE statnaam IN {subselection_string}\r\n",
        "            GROUP BY rubriek\r\n",
        "        ) as p\r\n",
        "    WHERE ST_Within(bc.geom,p.geom)\r\n",
        "    );'''\r\n",
        "cur.execute(sql)\r\n",
        "sql_meta='''CALL update_metadata('rdt_dev'::VARCHAR,'stg_ndw_borden'::VARCHAR,'ndw_bebording_raw_geom_subselection'::VARCHAR,NOW(),'RDT_NDW_wegenborden_verwerking_v2'::VARCHAR,'subset'::VARCHAR);'''\r\n",
        "cur.execute(sql_meta)"
      ],
      "attachments": null,
      "outputs": []
    },
    {
      "cell_type": "markdown",
      "metadata": {
        "nteract": {
          "transient": {
            "deleting": false
          }
        }
      },
      "source": [
        "## Wegenbestand"
      ],
      "attachments": null,
      "outputs": []
    },
    {
      "cell_type": "code",
      "metadata": {
        "jupyter": {
          "source_hidden": false,
          "outputs_hidden": false
        },
        "nteract": {
          "transient": {
            "deleting": false
          }
        }
      },
      "source": [
        "sql='''drop table if exists prd_ndw_wegen.nwb_wegvakken_directed;\r\n",
        "CREATE TABLE prd_ndw_wegen.nwb_wegvakken_directed\r\n",
        "AS (\r\n",
        "    select w.wvk_id*-1 as id,\r\n",
        "        w.jte_id_beg  as source,\r\n",
        "        w.jte_id_end as target,\r\n",
        "        frc as frc,\r\n",
        "        1 as speed,  \r\n",
        "        case \r\n",
        "            when ROUND(degrees(ST_Azimuth(ST_StartPoint(st_linemerge(w.geom)), ST_ENDPOINT(st_linemerge(w.geom))))/90)::int = 0 then 'N'\r\n",
        "            when ROUND(degrees(ST_Azimuth(ST_StartPoint(st_linemerge(w.geom)), ST_ENDPOINT(st_linemerge(w.geom))))/90)::int = 1 then 'O'\r\n",
        "            when ROUND(degrees(ST_Azimuth(ST_StartPoint(st_linemerge(w.geom)), ST_ENDPOINT(st_linemerge(w.geom))))/90)::int = 2 then 'Z'\r\n",
        "            when ROUND(degrees(ST_Azimuth(ST_StartPoint(st_linemerge(w.geom)), ST_ENDPOINT(st_linemerge(w.geom))))/90)::int = 3 then 'W'\r\n",
        "            when ROUND(degrees(ST_Azimuth(ST_StartPoint(st_linemerge(w.geom)), ST_ENDPOINT(st_linemerge(w.geom))))/90)::int = 4 then 'N'\r\n",
        "            else 'X' \r\n",
        "        end as wegrichting,\r\n",
        "        degrees(ST_Azimuth(ST_StartPoint(st_linemerge(w.geom)), ST_ENDPOINT(st_linemerge(w.geom))))::int as wegrichting_deg,\r\n",
        "        w.wegbehsrt as RoadAuthorityType, w.wegbehnaam as RoadAuthorityName,\r\n",
        "        geom as geom\r\n",
        "    from stg_ndw_wegen.nwb_raw_subselection AS w\r\n",
        "    where rijrichtng in ('B','H','O') \r\n",
        "    union all \r\n",
        "    select w.wvk_id as id,\r\n",
        "        w.jte_id_end   as source, -- dit is bewust omgedraaid \r\n",
        "        w.jte_id_beg   as target, -- dit is bewust omgedraaid\r\n",
        "        frc as frc, \r\n",
        "        1 as speed, \r\n",
        "        case \r\n",
        "            when ROUND(degrees(ST_Azimuth(ST_ENDPOINT(st_linemerge(w.geom)), ST_StartPoint(st_linemerge(w.geom))))/90)::int = 0 then 'N'\r\n",
        "            when ROUND(degrees(ST_Azimuth(ST_ENDPOINT(st_linemerge(w.geom)), ST_StartPoint(st_linemerge(w.geom))))/90)::int = 1 then 'O'\r\n",
        "            when ROUND(degrees(ST_Azimuth(ST_ENDPOINT(st_linemerge(w.geom)), ST_StartPoint(st_linemerge(w.geom))))/90)::int = 2 then 'Z'\r\n",
        "            when ROUND(degrees(ST_Azimuth(ST_ENDPOINT(st_linemerge(w.geom)), ST_StartPoint(st_linemerge(w.geom))))/90)::int = 3 then 'W'\r\n",
        "            when ROUND(degrees(ST_Azimuth(ST_ENDPOINT(st_linemerge(w.geom)), ST_StartPoint(st_linemerge(w.geom))))/90)::int = 4 then 'N'\r\n",
        "            else 'X' \r\n",
        "        end as wegrichting,\r\n",
        "        degrees(ST_Azimuth(ST_ENDPOINT(st_linemerge(w.geom)), ST_StartPoint(st_linemerge(w.geom))))::int as wegrichting_deg,\r\n",
        "        w.wegbehsrt as RoadAuthorityType, w.wegbehnaam as RoadAuthorityName,\r\n",
        "        st_reverse(geom) as geom -- dit is bewust omgedraaid\r\n",
        "    from stg_ndw_wegen.nwb_raw_subselection AS w\r\n",
        "    where rijrichtng in ('B','O')\r\n",
        "    );'''\r\n",
        "cur.execute(sql)\r\n",
        "sql_meta='''CALL update_metadata('rdt_dev'::VARCHAR,'prd_ndw_wegen'::VARCHAR,'nwb_wegvakken_directed'::VARCHAR,NOW(),'RDT_NDW_wegenborden_verwerking_v2'::VARCHAR,'creating directed network'::VARCHAR);'''\r\n",
        "cur.execute(sql_meta)\r\n",
        "sql='''CREATE INDEX nwb_wegvakken_directed_geomidx\r\n",
        "\tON prd_ndw_wegen.nwb_wegvakken_directed\r\n",
        "  \tUSING GIST (geom);\r\n",
        "    ANALYZE prd_ndw_wegen.nwb_wegvakken_directed;'''\r\n",
        "cur.execute(sql)"
      ],
      "attachments": null,
      "outputs": []
    },
    {
      "cell_type": "code",
      "metadata": {
        "jupyter": {
          "source_hidden": false,
          "outputs_hidden": false
        },
        "nteract": {
          "transient": {
            "deleting": false
          }
        }
      },
      "source": [
        "sql='''drop table if exists prd_ndw_wegen.nwb_wegvakken_nodes;\r\n",
        "CREATE TABLE prd_ndw_wegen.nwb_wegvakken_nodes\r\n",
        "AS (\r\n",
        "    select DISTINCT node, geom\r\n",
        "    FROM (\r\n",
        "        select source as node,\r\n",
        "            st_startpoint(st_linemerge(geom)) as geom\r\n",
        "        from prd_ndw_wegen.nwb_wegvakken_directed\r\n",
        "        union all \r\n",
        "        select  target as node,\r\n",
        "            st_endpoint(st_linemerge(geom)) as geom\r\n",
        "        from prd_ndw_wegen.nwb_wegvakken_directed\r\n",
        "        ) as coll\r\n",
        "    );'''\r\n",
        "cur.execute(sql)\r\n",
        "sql_meta='''CALL update_metadata('rdt_dev'::VARCHAR,'prd_ndw_wegen'::VARCHAR,'nwb_wegvakken_nodes'::VARCHAR,NOW(),'RDT_NDW_wegenborden_verwerking_v2'::VARCHAR,'creating directed network'::VARCHAR);'''\r\n",
        "cur.execute(sql_meta)"
      ],
      "attachments": null,
      "outputs": []
    },
    {
      "cell_type": "code",
      "metadata": {
        "jupyter": {
          "source_hidden": false,
          "outputs_hidden": false
        },
        "nteract": {
          "transient": {
            "deleting": false
          }
        }
      },
      "source": [
        "sql='''drop table if exists prd_ndw_wegen.nwb_wegvakken_oneway;\r\n",
        "CREATE TABLE prd_ndw_wegen.nwb_wegvakken_oneway\r\n",
        "AS (\r\n",
        "    select w.wvk_id as id,\r\n",
        "        w.jte_id_beg  as source,\r\n",
        "        w.jte_id_end as target,\r\n",
        "        frc as frc, \r\n",
        "        geom as geom\r\n",
        "    from stg_ndw_wegen.nwb_raw_subselection AS w\r\n",
        "    where rijrichtng ='H'\r\n",
        ");'''\r\n",
        "cur.execute(sql)\r\n",
        "sql_meta='''CALL update_metadata('rdt_dev'::VARCHAR,'prd_ndw_wegen'::VARCHAR,'nwb_wegvakken_oneway'::VARCHAR,NOW(),'RDT_NDW_wegenborden_verwerking_v2'::VARCHAR,'creating directed network'::VARCHAR);'''\r\n",
        "cur.execute(sql_meta)"
      ],
      "attachments": null,
      "outputs": []
    },
    {
      "cell_type": "markdown",
      "metadata": {
        "nteract": {
          "transient": {
            "deleting": false
          }
        }
      },
      "source": [
        "## Bordenbestand"
      ],
      "attachments": null,
      "outputs": []
    },
    {
      "cell_type": "code",
      "metadata": {
        "jupyter": {
          "source_hidden": false,
          "outputs_hidden": false
        },
        "nteract": {
          "transient": {
            "deleting": false
          }
        }
      },
      "source": [
        "sql='''drop table if exists int_ndw_borden.ndw_bebording_verrijkt_1;\r\n",
        "CREATE TABLE int_ndw_borden.ndw_bebording_verrijkt_1\r\n",
        "AS (\r\n",
        "\tselect b.id::INT as bord_id, b.ndw_id,\r\n",
        "\t\t-- case when b.textsigns is null then 'verbod' else 'onbekend'  end as geldigheid,\r\n",
        "\t\tcase when text_signs = '{}' then 'verbod' when text_signs = '{\"\"}' then 'verbod' else 'onbekend'  end as geldigheid,\r\n",
        "\t\tb.rvv_code,\r\n",
        "\t\tb.text_signs as bord_text,\r\n",
        "\t\tb.black_code as tekst_waarde,\r\n",
        "\t\tb.\"location.wgs84.latitude\" as lat,\r\n",
        "\t\tb.\"location.wgs84.longitude\" as lon, \r\n",
        "\t\tb.\"location.side\" as kijkrichting,\r\n",
        "\t\tCASE\r\n",
        "\t\t\tWHEN b.\"location.side\" = 'N' then 0\r\n",
        "\t\t\tWHEN b.\"location.side\" = 'O' then 90\r\n",
        "\t\t\tWHEN b.\"location.side\" = 'Z' then 180\r\n",
        "\t\t\tWHEN b.\"location.side\" = 'W' then 270\r\n",
        "\t\t\tWHEN b.\"location.side\" = 'L' then -1\r\n",
        "\t\t\tWHEN b.\"location.side\" = 'R' then -1\r\n",
        "\t\t\tELSE -1\r\n",
        "\t\tEND as kijkrichting_deg,\r\n",
        "\t\tb.\"location.road.name\" as straatnaam,\r\n",
        "\t\tb.\"location.county.name\" as gemeentenaam,\r\n",
        "\t\tb.organisation_id,\r\n",
        "\t\tb.\"details.image\" as url_foto,\r\n",
        "\t\tconcat ('https://www.google.com/maps/place/',b.\"location.wgs84.latitude\",'+',b.\"location.wgs84.longitude\") as google_url,\r\n",
        "\t\tb.\"location.road.wvk_id\" as nwb_wegvak_id_volgens_ndw,\r\n",
        "\t\tcbs.postcode,\r\n",
        "\t\tb.geom as geom\r\n",
        "\tfrom stg_ndw_borden.ndw_bebording_raw_geom_subselection AS b\r\n",
        "\tLEFT JOIN   stg_ndw_wegen.cbs_pc6_2022 cbs\r\n",
        "\tON          ST_Within(b.geom,cbs.geom)\r\n",
        "\torder by \tb.text_signs desc\r\n",
        "\t);'''\r\n",
        "cur.execute(sql)\r\n",
        "sql_meta='''CALL update_metadata('rdt_dev'::VARCHAR,'int_ndw_borden'::VARCHAR,'ndw_bebording_verrijkt_1'::VARCHAR,NOW(),'RDT_NDW_wegenborden_verwerking_v2'::VARCHAR,'data cleaning'::VARCHAR);'''\r\n",
        "cur.execute(sql_meta)\r\n",
        "sql='''CREATE INDEX ndw_bebording_verrijkt_1_geomidx\r\n",
        "\tON int_ndw_borden.ndw_bebording_verrijkt_1\r\n",
        "  \tUSING GIST (geom);\r\n",
        "\tANALYZE int_ndw_borden.ndw_bebording_verrijkt_1;'''\r\n",
        "cur.execute(sql)"
      ],
      "attachments": null,
      "outputs": [],
      "execution_count": 3
    },
    {
      "cell_type": "code",
      "metadata": {
        "jupyter": {
          "source_hidden": false,
          "outputs_hidden": false
        },
        "nteract": {
          "transient": {
            "deleting": false
          }
        }
      },
      "source": [
        "sql='''drop table if exists int_ndw_wegen.nwb_wegvakken_directed_offset;\r\n",
        "CREATE TABLE int_ndw_wegen.nwb_wegvakken_directed_offset\r\n",
        "AS (\r\n",
        "    SELECT w.*, ST_OffsetCurve(geom,-0.1) as geom_offset\r\n",
        "    FROM prd_ndw_wegen.nwb_wegvakken_directed w\r\n",
        ");'''\r\n",
        "cur.execute(sql)\r\n",
        "sql_meta='''CALL update_metadata('rdt_dev'::VARCHAR,'int_ndw_wegen'::VARCHAR,'nwb_wegvakken_directed_offset'::VARCHAR,NOW(),'RDT_NDW_wegenborden_verwerking_v2'::VARCHAR,'calculation'::VARCHAR);'''\r\n",
        "cur.execute(sql_meta)"
      ],
      "attachments": null,
      "outputs": [],
      "execution_count": 4
    },
    {
      "cell_type": "code",
      "metadata": {
        "jupyter": {
          "source_hidden": false,
          "outputs_hidden": false
        },
        "nteract": {
          "transient": {
            "deleting": false
          }
        }
      },
      "source": [
        "for gm_code in data:\r\n",
        "    # print(gm_code)\r\n",
        "    sql_sub=f'''drop table if exists int_ndw_borden.ndw_bebording_verrijkt_1_sub;\r\n",
        "    CREATE TABLE int_ndw_borden.ndw_bebording_verrijkt_1_sub\r\n",
        "    AS (\r\n",
        "        SELECT  b.*\r\n",
        "        FROM    int_ndw_borden.ndw_bebording_verrijkt_1 b,\r\n",
        "                stg_ndw_wegen.cbs_gemeentegrenzen_2023 g\r\n",
        "        WHERE   ST_Within(b.geom,g.geom)\r\n",
        "        AND     g.statcode = '{gm_code}'\r\n",
        "    );'''\r\n",
        "    cur.execute(sql_sub)\r\n",
        "    sql_meta='''CALL update_metadata('rdt_dev'::VARCHAR,'int_ndw_borden'::VARCHAR,'ndw_bebording_verrijkt_1_sub'::VARCHAR,NOW(),'RDT_NDW_wegenborden_verwerking_v2'::VARCHAR,'subset'::VARCHAR);'''\r\n",
        "    cur.execute(sql_meta)\r\n",
        "    sql_sub2=f'''drop table if exists int_ndw_wegen.nwb_wegvakken_directed_offset_sub;\r\n",
        "    CREATE TABLE int_ndw_wegen.nwb_wegvakken_directed_offset_sub\r\n",
        "    AS (\r\n",
        "        SELECT  w.*\r\n",
        "        FROM    int_ndw_wegen.nwb_wegvakken_directed_offset w,\r\n",
        "                stg_ndw_wegen.cbs_gemeentegrenzen_2023 g\r\n",
        "        WHERE   ST_Within(w.geom,g.geom)\r\n",
        "        AND     g.statcode = '{gm_code}'\r\n",
        "    );'''\r\n",
        "    cur.execute(sql_sub2)\r\n",
        "    sql_meta='''CALL update_metadata('rdt_dev'::VARCHAR,'int_ndw_wegen'::VARCHAR,'nwb_wegvakken_directed_offset_sub'::VARCHAR,NOW(),'RDT_NDW_wegenborden_verwerking_v2'::VARCHAR,'subset'::VARCHAR);'''\r\n",
        "    cur.execute(sql_meta)\r\n",
        "    sql=f'''drop table if exists int_ndw_borden.ndw_bebording_verrijkt_2_{gm_code};\r\n",
        "    CREATE TABLE int_ndw_borden.ndw_bebording_verrijkt_2_{gm_code}\r\n",
        "    AS (\r\n",
        "        select \r\n",
        "            bord_id, ndw_id, geldigheid, lat, lon, kijkrichting, kijkrichting_deg, straatnaam, gemeentenaam, postcode, organisation_id, url_foto, google_url, nwb_wegvak_id_volgens_ndw, geom,\r\n",
        "            rvv_code as rvv_modelnummer, \r\n",
        "            bord_text as onderbord_tekst,\r\n",
        "            tekst_waarde, \r\n",
        "            id as _wegvak_id_volgens_script,\r\n",
        "            id as link_gevalideerd\r\n",
        "        from (\r\n",
        "            SELECT  b.*\r\n",
        "                    ,CASE WHEN afstand<50 THEN roads_closest.ID::INT ELSE NULL END AS id\r\n",
        "                    ,CASE WHEN afstand<50 THEN roads_closest.afstand::INT ELSE NULL END AS afstand\r\n",
        "            FROM    int_ndw_borden.ndw_bebording_verrijkt_1_sub AS b\r\n",
        "            CROSS JOIN LATERAL (\r\n",
        "                SELECT  b.geom <-> n.geom_offset as afstand\r\n",
        "                        ,n.ID\r\n",
        "                FROM    int_ndw_wegen.nwb_wegvakken_directed_offset_sub as n\r\n",
        "                ORDER BY afstand \r\n",
        "                LIMIT   1\r\n",
        "            ) as roads_closest\r\n",
        "        ) as sub\r\n",
        "    );'''\r\n",
        "    cur.execute(sql)\r\n",
        "    sql_meta=f'''CALL update_metadata('rdt_dev'::VARCHAR,'int_ndw_borden'::VARCHAR,'ndw_bebording_verrijkt_2_{gm_code}'::VARCHAR,NOW(),'RDT_NDW_wegenborden_verwerking_v2'::VARCHAR,'calculation'::VARCHAR);'''\r\n",
        "    cur.execute(sql_meta)"
      ],
      "attachments": null,
      "outputs": []
    },
    {
      "cell_type": "code",
      "metadata": {
        "jupyter": {
          "source_hidden": false,
          "outputs_hidden": false
        },
        "nteract": {
          "transient": {
            "deleting": false
          }
        }
      },
      "source": [
        "sql_union='''drop table if exists int_ndw_borden.ndw_bebording_verrijkt_2;\r\n",
        "CREATE TABLE int_ndw_borden.ndw_bebording_verrijkt_2\r\n",
        "AS ('''\r\n",
        "gm_code_last = data[-1]\r\n",
        "for gm_code in data:\r\n",
        "    sql_union+=f'''select *\r\n",
        "    from int_ndw_borden.ndw_bebording_verrijkt_2_{gm_code}\r\n",
        "    '''\r\n",
        "    if not gm_code == gm_code_last:\r\n",
        "        sql_union+='''union all\r\n",
        "        '''\r\n",
        "sql_union+=''');'''\r\n",
        "# print(sql_union)\r\n",
        "cur.execute(sql_union)\r\n",
        "sql_meta='''CALL update_metadata('rdt_dev'::VARCHAR,'int_ndw_borden'::VARCHAR,'ndw_bebording_verrijkt_2'::VARCHAR,NOW(),'RDT_NDW_wegenborden_verwerking_v2'::VARCHAR,'union'::VARCHAR);'''\r\n",
        "cur.execute(sql_meta)"
      ],
      "attachments": null,
      "outputs": []
    },
    {
      "cell_type": "code",
      "metadata": {
        "jupyter": {
          "source_hidden": false,
          "outputs_hidden": false
        },
        "nteract": {
          "transient": {
            "deleting": false
          }
        }
      },
      "source": [
        "sql='''drop table if exists int_ndw_borden.ndw_bebording_wegbeheerder;\r\n",
        "CREATE TABLE int_ndw_borden.ndw_bebording_wegbeheerder\r\n",
        "AS (\r\n",
        "    WITH bv2 as (\r\n",
        "        SELECT  *\r\n",
        "                ,CASE\r\n",
        "                    WHEN nwb_wegvak_id_volgens_ndw IS NOT NULL THEN abs(nwb_wegvak_id_volgens_ndw::INT) \r\n",
        "                    WHEN _wegvak_id_volgens_script IS NOT NULL THEN abs(_wegvak_id_volgens_script::INT)\r\n",
        "                    ELSE NULL\r\n",
        "                END as wvk\r\n",
        "        From    int_ndw_borden.ndw_bebording_verrijkt_2\r\n",
        "    )\r\n",
        "    SELECT      bv2.*, w.wegbehsrt as organisation_type_based_on_road, w.wegbehcode as organisation_id_based_on_road, w.wegbehnaam as organisation_name_based_on_road\r\n",
        "    From        bv2\r\n",
        "    LEFT JOIN   stg_ndw_wegen.nwb_raw_subselection AS w\r\n",
        "    ON          bv2.wvk = w.wvk_id\r\n",
        ")'''\r\n",
        "cur.execute(sql)\r\n",
        "sql_meta='''CALL update_metadata('rdt_dev'::VARCHAR,'int_ndw_borden'::VARCHAR,'ndw_bebording_wegbeheerder'::VARCHAR,NOW(),'RDT_NDW_wegenborden_verwerking_v2'::VARCHAR,'calculation'::VARCHAR);'''\r\n",
        "cur.execute(sql_meta)"
      ],
      "attachments": null,
      "outputs": []
    },
    {
      "cell_type": "code",
      "metadata": {
        "jupyter": {
          "source_hidden": false,
          "outputs_hidden": false
        },
        "nteract": {
          "transient": {
            "deleting": false
          }
        }
      },
      "source": [
        "sql='''drop table if exists prd_ndw_borden.ndw_bebording_verrijkt_3;\r\n",
        "CREATE TABLE prd_ndw_borden.ndw_bebording_verrijkt_3\r\n",
        "AS (\r\n",
        "    SELECT  bord_id, ndw_id, geldigheid, lat, lon, kijkrichting, kijkrichting_deg, straatnaam, gemeentenaam, postcode, url_foto, google_url, b.geom\r\n",
        "            ,organisation_id, organisation_type_based_on_road, organisation_id_based_on_road, organisation_name_based_on_road\r\n",
        "            --rvv_code as rvv_modelnummer, bord_text as onderbord_tekst, tekst_waarde\r\n",
        "            ,rvv_modelnummer, onderbord_tekst, tekst_waarde\r\n",
        "            ,_wegvak_id_volgens_script\r\n",
        "            ,nwb_wegvak_id_volgens_ndw\r\n",
        "            ,CASE WHEN w.id IS NOT NULL THEN w.id ELSE NULL END as nwb_wegvak_id_volgens_ndw_directed\r\n",
        "            ,w.id as link_gevalideerd --alleen NDW gegevens/koppeling gebruiken, ongeacht of het via het script te koppelen is\r\n",
        "    FROM    int_ndw_borden.ndw_bebording_wegbeheerder as b\r\n",
        "    -- Nieuwe methode, koppeling op basis van richting in graden\r\n",
        "    LEFT JOIN LATERAL (\r\n",
        "        SELECT  w_sub.id\r\n",
        "        FROM    prd_ndw_wegen.nwb_wegvakken_directed as w_sub\r\n",
        "        WHERE   (\r\n",
        "            abs(w_sub.id)=b.nwb_wegvak_id_volgens_ndw::int \r\n",
        "            AND (\r\n",
        "                abs(mod(b.kijkrichting_deg,360)-mod(w_sub.wegrichting_deg,360))<70 --koppelen als minder dan X graden verschil in richting\r\n",
        "                OR\r\n",
        "                abs(mod(b.kijkrichting_deg,360)-mod(w_sub.wegrichting_deg,360))>290 --koppelen als minder dan X graden verschil in richting\r\n",
        "                )\r\n",
        "            AND NOT (b.kijkrichting='R' OR b.kijkrichting='L'))\r\n",
        "        OR\t\t(\r\n",
        "            abs(w_sub.id)=b.nwb_wegvak_id_volgens_ndw::int --kijkrichting R of L zijn altijd eenrichtingswegen\r\n",
        "            AND (b.kijkrichting='R' OR b.kijkrichting='L'))\r\n",
        "    ) as w ON true\r\n",
        ");'''\r\n",
        "cur.execute(sql)\r\n",
        "sql_meta='''CALL update_metadata('rdt_dev'::VARCHAR,'prd_ndw_borden'::VARCHAR,'ndw_bebording_verrijkt_3'::VARCHAR,NOW(),'RDT_NDW_wegenborden_verwerking_v2'::VARCHAR,'calculation'::VARCHAR);'''\r\n",
        "cur.execute(sql_meta)"
      ],
      "attachments": null,
      "outputs": [],
      "execution_count": 2
    },
    {
      "cell_type": "markdown",
      "metadata": {
        "nteract": {
          "transient": {
            "deleting": false
          }
        }
      },
      "source": [
        "Bebording verrijkt 3 is opgeschoonde, gekoppelde, verrijkte data. Voor bepaalde toepassingen is (nagenoeg)"
      ],
      "attachments": null,
      "outputs": []
    },
    {
      "cell_type": "markdown",
      "metadata": {
        "nteract": {
          "transient": {
            "deleting": false
          }
        }
      },
      "source": [
        "## Verkeersbesluitkoppeling\r\n",
        "- Init table if not exists\r\n",
        "- Fill/update based on raw data\r\n",
        "- Use python-script to find missing values"
      ],
      "attachments": null,
      "outputs": []
    },
    {
      "cell_type": "code",
      "metadata": {
        "jupyter": {
          "source_hidden": false,
          "outputs_hidden": false
        },
        "nteract": {
          "transient": {
            "deleting": false
          }
        }
      },
      "source": [
        "sql=\"\"\"CREATE TABLE IF NOT EXISTS prd_ndw_borden.verkeersbesluiten_koppeltabel (\r\n",
        "    bord_id         VARCHAR(50),\r\n",
        "    ndw_id          VARCHAR(50),\r\n",
        "    koop_id         VARCHAR(50),\r\n",
        "    koop_titel      VARCHAR(255),\r\n",
        "    koop_url        VARCHAR(255),\r\n",
        "    datum_koppeling TIMESTAMPTZ,\r\n",
        "    methode         VARCHAR(50),\r\n",
        "    betrouwbaarheid FLOAT,\r\n",
        "    deleted         BOOLEAN\r\n",
        ");\"\"\"\r\n",
        "# methode: 'ndw', 'user_input', 'automated_match'\r\n",
        "# betrouwbaarheid: value 0-1. ndw & user_input geven hoge betrouwbaarheid, automated_match lager (afhankelijk van match type/methode)\r\n",
        "cur.execute(sql)\r\n",
        "sql_meta='''CALL update_metadata('rdt_dev'::VARCHAR,'prd_ndw_borden'::VARCHAR,'verkeersbesluiten_koppeltabel'::VARCHAR,NOW(),'RDT_Bordenanalyse'::VARCHAR,'table init'::VARCHAR);'''\r\n",
        "cur.execute(sql_meta)"
      ],
      "attachments": null,
      "outputs": []
    },
    {
      "cell_type": "code",
      "metadata": {
        "jupyter": {
          "source_hidden": false,
          "outputs_hidden": false
        },
        "nteract": {
          "transient": {
            "deleting": false
          }
        }
      },
      "source": [
        "# check for verkeersbesluit URL in raw data that do not have a matching entry in the koppeltabel. Add them\r\n",
        "# sql=\"\"\";\"\"\"\r\n",
        "# cur.execute(sql)\r\n",
        "# sql_meta='''CALL update_metadata('rdt_dev'::VARCHAR,'prd_ndw_borden'::VARCHAR,'verkeersbesluiten_koppeltabel'::VARCHAR,NOW(),'RDT_Bordenanalyse'::VARCHAR,'added new values from source'::VARCHAR);'''\r\n",
        "# cur.execute(sql_meta)"
      ],
      "attachments": null,
      "outputs": []
    },
    {
      "cell_type": "code",
      "metadata": {
        "jupyter": {
          "source_hidden": false,
          "outputs_hidden": false
        },
        "nteract": {
          "transient": {
            "deleting": false
          }
        }
      },
      "source": [
        "# any unmatched borden that have recently been updated: (prepare to) automatically match verkeersbesluit.\r\n",
        "sql=\"\"\"\r\n",
        "DROP TABLE int_ndw_borden.verkeersbesluiten_inputjsons;\r\n",
        "CREATE TABLE int_ndw_borden.verkeersbesluiten_inputjsons as (\r\n",
        "    WITH    id_lookup as (\r\n",
        "                SELECT DISTINCT bord_id::INT\r\n",
        "                FROM            prd_ndw_borden.verkeersbesluiten_koppeltabel\r\n",
        "            )\r\n",
        "            ,contents as (\r\n",
        "                SELECT      bv3.bord_id, rgs.ndw_id\r\n",
        "                            ,rvv_modelnummer, organisation_name_based_on_road\r\n",
        "                            ,CASE\r\n",
        "                                WHEN organisation_type_based_on_road = 'G' THEN 'Gemeente'\r\n",
        "                                WHEN organisation_type_based_on_road = 'P' THEN 'Provincie'\r\n",
        "                                WHEN organisation_type_based_on_road = 'W' THEN 'Waterschap'\r\n",
        "                                WHEN organisation_type_based_on_road = 'R' THEN 'Rijkswaterstaat'\r\n",
        "                                ELSE 'Overig'\r\n",
        "                            END as organisatietype\r\n",
        "                            ,rgs.\"location.rd.x\"::FLOAT as rd_x\r\n",
        "                            ,rgs.\"location.rd.y\"::FLOAT as rd_y\r\n",
        "                            ,cbs.postcode\r\n",
        "                            -- ,ARRAY[rgs.\"location.rd.x\"::FLOAT, rgs.\"location.rd.y\"::FLOAT] as locatie\r\n",
        "                FROM        prd_ndw_borden.ndw_bebording_verrijkt_3 bv3\r\n",
        "                LEFT JOIN   stg_ndw_borden.ndw_bebording_raw_geom_subselection rgs\r\n",
        "                ON          bv3.bord_id = rgs.id\r\n",
        "                LEFT JOIN   stg_ndw_wegen.cbs_pc6_2022 cbs\r\n",
        "                ON          ST_Within(bv3.geom,cbs.geom)\r\n",
        "                WHERE       bv3.bord_id NOT IN (SELECT * FROM id_lookup)\r\n",
        "                -- LIMIT   100\r\n",
        "            )\r\n",
        "    SELECT  bord_id, ndw_id\r\n",
        "            ,json_build_object(\r\n",
        "                'beheerder',json_build_object(\r\n",
        "                    'organisatietype',organisatietype,\r\n",
        "                    'creator',organisation_name_based_on_road\r\n",
        "                ),\r\n",
        "                'verkeersbordcode',rvv_modelnummer,\r\n",
        "                'organisatietype',organisatietype,\r\n",
        "                'locatie',json_build_object(\r\n",
        "                    'x',rd_x,\r\n",
        "                    'y',rd_y,\r\n",
        "                    'radius','30'\r\n",
        "                )\r\n",
        "            ) as input_json\r\n",
        "            ,json_build_object(\r\n",
        "                'beheerder',json_build_object(\r\n",
        "                    'organisatietype',organisatietype,\r\n",
        "                    'creator',organisation_name_based_on_road\r\n",
        "                ),\r\n",
        "                'verkeersbordcode',rvv_modelnummer,\r\n",
        "                'organisatietype',organisatietype,\r\n",
        "                'postcode',postcode\r\n",
        "            ) as input_json_alt_postcode\r\n",
        "    FROM    contents c\r\n",
        ");\"\"\"\r\n",
        "cur.execute(sql)\r\n",
        "sql_meta='''CALL update_metadata('rdt_dev'::VARCHAR,'int_ndw_borden'::VARCHAR,'verkeersbesluiten_inputjsons'::VARCHAR,NOW(),'RDT_Bordenanalyse'::VARCHAR,'constructing searchqueries'::VARCHAR);'''\r\n",
        "cur.execute(sql_meta)\r\n",
        "\r\n",
        "# run pipeline PL_verkeersbesluiten_inputjasons further down the stack"
      ],
      "attachments": null,
      "outputs": []
    },
    {
      "cell_type": "markdown",
      "metadata": {
        "nteract": {
          "transient": {
            "deleting": false
          }
        }
      },
      "source": [
        "## Gekoppeld wegen-/bordenbestand"
      ],
      "attachments": null,
      "outputs": []
    },
    {
      "cell_type": "code",
      "metadata": {
        "jupyter": {
          "source_hidden": false,
          "outputs_hidden": false
        },
        "nteract": {
          "transient": {
            "deleting": false
          }
        }
      },
      "source": [
        "sql='''-- verrijkte borden koppelen aan netwerk \r\n",
        "drop table if exists prd_ndw_borden.nwb_wegvakken_bebording;\r\n",
        "CREATE TABLE prd_ndw_borden.nwb_wegvakken_bebording\r\n",
        "AS (\r\n",
        "\tselect\r\n",
        "\t\tsub.id::int,\r\n",
        "\t\tsub.source::int,\r\n",
        "\t\tsub.target::int,\r\n",
        "\t\tsub.speed as spd, \r\n",
        "\t\tcase\r\n",
        "\t\t\twhen speed is null then -1\r\n",
        "\t\t\twhen speed = 0 then -1\r\n",
        "\t\t\telse st_length(sub.geom)/(speed/3.6) \r\n",
        "\t\tend as cost,\r\n",
        "\t\tc01,c06,c07,c07a,c07b,c08,c09,c10,c11,c12,c17, c18, c19, c20, c21,\r\n",
        "\t\tsub.wegrichting,\r\n",
        "\t\tsub.RoadAuthorityType, sub.RoadAuthorityName,\r\n",
        "\t\tsub.geom\r\n",
        "\tfrom (\r\n",
        "\t\tselect  id , source, target,  speed, wegrichting, RoadAuthorityType, RoadAuthorityName, st_transform(geom,4326) as geom\r\n",
        "\t\tfrom prd_ndw_wegen.nwb_wegvakken_directed\r\n",
        "\t) as sub\r\n",
        "\tleft join (\r\n",
        "\t\tselect  vb.link_gevalideerd as linknr_vma,\r\n",
        "\t\t\tmin(case when vb.rvv_modelnummer = 'C1' then 1 else NULL end) as c01,\r\n",
        "\t\t\tmin(case when vb.rvv_modelnummer = 'C6' then 1 else NULL end) as c06,\r\n",
        "\t\t\tmin(case when vb.rvv_modelnummer LIKE 'C7%' AND vb.rvv_modelnummer NOT LIKE 'C7A%' AND vb.rvv_modelnummer NOT LIKE 'C7B%' then 1 else NULL end) as c07,\r\n",
        "\t\t\tmin(case when vb.rvv_modelnummer = 'C7A' then 1 else NULL end) as c07a,\r\n",
        "\t\t\tmin(case when vb.rvv_modelnummer = 'C7B' then 1 else NULL end) as c07b,\r\n",
        "\t\t\tmin(case when vb.rvv_modelnummer = 'C8' then 1 else NULL end) as c08,\r\n",
        "\t\t\tmin(case when vb.rvv_modelnummer = 'C9' then 1 else NULL end) as c09,\r\n",
        "\t\t\tmin(case when vb.rvv_modelnummer = 'C10' then 1 else NULL end) as c10,\r\n",
        "\t\t\tmin(case when vb.rvv_modelnummer = 'C11' then 1 else NULL end) as c11,\r\n",
        "\t\t\tmin(case when vb.rvv_modelnummer = 'C12' then 1 else NULL end) as c12,\r\n",
        "\t\t\tmin(case when vb.rvv_modelnummer = 'C17' then REPLACE(vb.tekst_waarde,',','.')::float else NULL end) as c17,\r\n",
        "\t\t\tmin(case when vb.rvv_modelnummer = 'C18' then REPLACE(vb.tekst_waarde,',','.')::float else NULL end) as c18,\r\n",
        "\t\t\tmin(case when vb.rvv_modelnummer = 'C19' then REPLACE(vb.tekst_waarde,',','.')::float else NULL end) as c19,\r\n",
        "\t\t\tmin(case when vb.rvv_modelnummer = 'C20' then REPLACE(vb.tekst_waarde,',','.')::float else NULL end) as c20,\r\n",
        "\t\t\tmin(case when vb.rvv_modelnummer = 'C21' or vb.rvv_modelnummer = 'C21_ZB' then REPLACE(vb.tekst_waarde,',','.')::float else NULL end) as c21\r\n",
        "\t\tfrom  prd_ndw_borden.ndw_bebording_verrijkt_3 AS vb\r\n",
        "\t\twhere  vb.link_gevalideerd  <> 0\r\n",
        "\t\tand geldigheid = 'verbod'\r\n",
        "\t\tgroup by  vb.link_gevalideerd\r\n",
        "\t) as borden\r\n",
        "\ton sub.id=borden.linknr_vma\r\n",
        ");'''\r\n",
        "cur.execute(sql)\r\n",
        "sql_meta='''CALL update_metadata('rdt_dev'::VARCHAR,'prd_ndw_borden'::VARCHAR,'nwb_wegvakken_bebording'::VARCHAR,NOW(),'RDT_NDW_wegenborden_verwerking_v2'::VARCHAR,'calculation'::VARCHAR);'''\r\n",
        "cur.execute(sql_meta)\r\n",
        "sql='''CREATE INDEX nwb_wegvakken_bebording_geomidx\r\n",
        "\tON prd_ndw_borden.nwb_wegvakken_bebording\r\n",
        "  \tUSING GIST (geom);\r\n",
        "\tANALYZE prd_ndw_borden.nwb_wegvakken_bebording;'''\r\n",
        "cur.execute(sql)"
      ],
      "attachments": null,
      "outputs": [],
      "execution_count": 3
    }
  ],
  "entityState": null,
  "renameOperationDetails": null,
  "targetSparkConfiguration": null
}
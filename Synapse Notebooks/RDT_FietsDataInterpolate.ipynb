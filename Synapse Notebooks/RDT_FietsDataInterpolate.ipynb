{
  "description": null,
  "sessionProperties": {
    "driverMemory": "28g",
    "driverCores": 4,
    "executorMemory": "28g",
    "executorCores": 4,
    "numExecutors": 2
  },
  "metadata": {
    "kernelspec": {
      "name": "synapse_pyspark",
      "display_name": "Synapse PySpark"
    },
    "language_info": {
      "name": "python",
      "codemirror_mode": null
    },
    "a365ComputeOptions": {
      "id": "/subscriptions/00000000-0000-0000-0000-000000000000/resourceGroups/rg-redacted/providers/Microsoft.Synapse/workspaces/redacted/bigDataPools/redacted",
      "name": "redacted",
      "type": "Spark",
      "endpoint": "https://redacted.dev.azuresynapse.net/livyApi/versions/2019-11-01-preview/sparkPools/redacted",
      "auth": {
        "type": "AAD",
        "authResource": "https://dev.azuresynapse.net",
        "authHeader": null
      },
      "sparkVersion": "3.1",
      "nodeCount": 10,
      "cores": 4,
      "memory": 28,
      "extraHeader": null
    },
    "sessionKeepAliveTimeout": 30,
    "saveOutput": true,
    "enableDebugMode": false
  },
  "nbformat": 4,
  "nbformat_minor": 2,
  "cells": [
    {
      "cell_type": "markdown",
      "metadata": {
        "nteract": {
          "transient": {
            "deleting": false
          }
        }
      },
      "source": [
        "# Fietsdata interpolatie\r\n",
        "Verder invullen van de fietsintensiteiten op het fietsnetwerk op basis van nabijgelegen datapunten.\r\n",
        "Wordt vooralsnog voor slechts 1 dag uitgerekend, als pilot\r\n",
        "## Voorspelling van fietsintensiteiten op basis van nabijgeleden fietstelpunten\r\n",
        "Interpolatie op basis van een gewogen gemiddelde van alle fietstelpunten binnen N wegsegmenten (pgr_drivingDistance). Hiervoor wordt een Dijkstra korste-pad algoritme gebruikt. Voor het Dijkstra algortime zijn nodes/edges tabellen nodig, die gemaakt worden uit de NWB (of een subset ervan, voor een focusgebied).\r\n",
        "https://docs.pgrouting.org/latest/en/pgr_drivingDistance.html"
      ],
      "attachments": null,
      "outputs": []
    },
    {
      "cell_type": "code",
      "metadata": {
        "jupyter": {
          "source_hidden": false,
          "outputs_hidden": false
        },
        "nteract": {
          "transient": {
            "deleting": false
          }
        }
      },
      "source": [
        "import psycopg2\r\n",
        "try:\r\n",
        "    postgres_pw = TokenLibrary.getSecret(\"redacted\", \"redacted\", \"redacted\")\r\n",
        "    conn = psycopg2.connect(dbname=\"rdt_dev\",user=\"redacted\",host=\"redacted\",password=postgres_pw)\r\n",
        "    conn.autocommit = True\r\n",
        "    cur=conn.cursor()\r\n",
        "    print(\"Database connected\")\r\n",
        "except:\r\n",
        "    print(\"I am unable to connect to the database\")"
      ],
      "attachments": null,
      "outputs": []
    },
    {
      "cell_type": "markdown",
      "metadata": {
        "nteract": {
          "transient": {
            "deleting": false
          }
        }
      },
      "source": [
        "## Preparing nodes/vertices needed for Dijkstra algorithm"
      ],
      "attachments": null,
      "outputs": []
    },
    {
      "cell_type": "code",
      "metadata": {
        "jupyter": {
          "source_hidden": false,
          "outputs_hidden": false
        },
        "nteract": {
          "transient": {
            "deleting": false
          }
        }
      },
      "source": [
        "# Wegenbestand omzetten naar directed graph\r\n",
        "sql='''drop table if exists prd_fietsdata.doorfietsroute_directed;\r\n",
        "CREATE TABLE prd_fietsdata.doorfietsroute_directed\r\n",
        "AS (\r\n",
        "    select w.wvk_id*-1 as id,\r\n",
        "        w.jte_id_beg  as source,\r\n",
        "        w.jte_id_end as target,\r\n",
        "        frc as frc,\r\n",
        "        1.0::float as cost,\r\n",
        "        geom as geom\r\n",
        "    from prd_fietsdata.doorfietsroute_cleaned AS w\r\n",
        "    where rijrichtng in ('B','H','O') \r\n",
        "    union all \r\n",
        "    select w.wvk_id as id,\r\n",
        "        w.jte_id_end   as source, -- dit is bewust omgedraaid \r\n",
        "        w.jte_id_beg   as target, -- dit is bewust omgedraaid\r\n",
        "        frc as frc, \r\n",
        "        1 as cost,\r\n",
        "        st_reverse(geom) as geom -- dit is bewust omgedraaid\r\n",
        "    from prd_fietsdata.doorfietsroute_cleaned AS w\r\n",
        "    where rijrichtng in ('B','O')\r\n",
        "    );'''\r\n",
        "cur.execute(sql)"
      ],
      "attachments": null,
      "outputs": []
    },
    {
      "cell_type": "code",
      "metadata": {
        "jupyter": {
          "source_hidden": false,
          "outputs_hidden": false
        },
        "nteract": {
          "transient": {
            "deleting": false
          }
        }
      },
      "source": [
        "# Nodes van het netwerk berekenen, op basis van directed graph\r\n",
        "# nodig voor visuele controles en voor kortste pad algoritme\r\n",
        "sql='''drop table if exists prd_fietsdata.doorfietsroute_nodes;\r\n",
        "CREATE TABLE prd_fietsdata.doorfietsroute_nodes\r\n",
        "AS (\r\n",
        "    select source as node,\r\n",
        "        st_startpoint(st_linemerge(geom)) as geom\r\n",
        "    from prd_fietsdata.doorfietsroute_directed\r\n",
        "    union all \r\n",
        "    select  target as node,\r\n",
        "        st_endpoint(st_linemerge(geom)) as geom\r\n",
        "    from prd_fietsdata.doorfietsroute_directed\r\n",
        "    )'''\r\n",
        "cur.execute(sql)"
      ],
      "attachments": null,
      "outputs": []
    },
    {
      "cell_type": "markdown",
      "metadata": {
        "nteract": {
          "transient": {
            "deleting": false
          }
        }
      },
      "source": [
        "## Run Dijkstra\r\n",
        "- Make a function\r\n",
        "- Call that function for every fietstelling\r\n",
        "  - Instead of a FOR loop, use lateral\r\n",
        "  - Select *, from input_table, LATERAL the_function(here_you_can_access_parameters_from_the_input_table)\r\n",
        "  - This constitutes a FOR loop (one iteration per row in the input table) where in each loop iteration you can access the parameters from that row"
      ],
      "attachments": null,
      "outputs": []
    },
    {
      "cell_type": "code",
      "metadata": {
        "jupyter": {
          "source_hidden": false,
          "outputs_hidden": false
        },
        "nteract": {
          "transient": {
            "deleting": false
          }
        }
      },
      "source": [
        "# Create function\r\n",
        "# Get all road_id's within distance N from the input road_id\r\n",
        "# N is in number of segments, but defined as FLOAT to support a possible distance metric in meters\r\n",
        "# Save the source road_id, found road_id's and their distances in a table\r\n",
        "sql='''DROP FUNCTION IF EXISTS rdt_fietstellingen_drivingdistance;\r\n",
        "CREATE FUNCTION rdt_fietstellingen_drivingdistance(road_id INT, N FLOAT) RETURNS void AS $$\r\n",
        "    BEGIN\r\n",
        "        INSERT INTO int_fietsdata.fietstellingen_drivingdistance (road_id_source,road_id,weight)\r\n",
        "        SELECT road_id as road_id_source, d.edge as road_id, d.agg_cost as weight\r\n",
        "        FROM pgr_drivingDistance(\r\n",
        "            'select id, source, target, cost from prd_fietsdata.doorfietsroute_directed',\r\n",
        "            ARRAY(\r\n",
        "                SELECT source as s\r\n",
        "                from prd_fietsdata.doorfietsroute_directed\r\n",
        "                WHERE id=road_id\r\n",
        "                UNION ALL\r\n",
        "                SELECT target as s\r\n",
        "                from prd_fietsdata.doorfietsroute_directed\r\n",
        "                WHERE id=road_id\r\n",
        "            ),\r\n",
        "            N) as d;\r\n",
        "    END;\r\n",
        "$$ LANGUAGE plpgsql;'''\r\n",
        "cur.execute(sql)"
      ],
      "attachments": null,
      "outputs": []
    },
    {
      "cell_type": "code",
      "metadata": {
        "jupyter": {
          "source_hidden": false,
          "outputs_hidden": false
        },
        "nteract": {
          "transient": {
            "deleting": false
          }
        }
      },
      "source": [
        "sql='''DROP TABLE IF EXISTS int_fietsdata.fietstellingen_24h_road_id_measurements;\r\n",
        "CREATE TABLE int_fietsdata.fietstellingen_24h_road_id_measurements AS (\r\n",
        "    SELECT 'ndw' as source\r\n",
        "        , n.beschrijving, n.measurementdate, n.counts_BothWaysSummed, n.road_id\r\n",
        "        ,n.geom\r\n",
        "    from prd_fietsdata.ndw_fietstellingen_measured_data_24h_road_id as n\r\n",
        "    union\r\n",
        "    SELECT 'pnh' as source\r\n",
        "        , p.beschrijving, p.measurementdate, p.counts_BothWaysSummed, p.road_id\r\n",
        "        ,p.geom\r\n",
        "    from prd_fietsdata.pnh_fietstellingen_measured_data_24h_road_id as p\r\n",
        ");'''\r\n",
        "cur.execute(sql)"
      ],
      "attachments": null,
      "outputs": [],
      "execution_count": 14
    },
    {
      "cell_type": "code",
      "metadata": {
        "jupyter": {
          "source_hidden": false,
          "outputs_hidden": false
        },
        "nteract": {
          "transient": {
            "deleting": false
          }
        }
      },
      "source": [
        "# Init table to collect data\r\n",
        "# Run function for each fietstelling\r\n",
        "sql='''drop TABLE if EXISTS int_fietsdata.fietstellingen_drivingdistance;\r\n",
        "create TABLE int_fietsdata.fietstellingen_drivingdistance (\r\n",
        "    id SERIAL PRIMARY KEY,\r\n",
        "    road_id_source INT,\r\n",
        "    road_id INT,\r\n",
        "    weight FLOAT\r\n",
        ");\r\n",
        "SELECT *\r\n",
        "FROM (\r\n",
        "    SELECT DISTINCT abs(road_id) as road_id\r\n",
        "    from int_fietsdata.fietstellingen_24h_road_id_measurements\r\n",
        " ) as i\r\n",
        ",LATERAL rdt_fietstellingen_drivingdistance(i.road_id::int,10.0) AS result;'''\r\n",
        "cur.execute(sql)"
      ],
      "attachments": null,
      "outputs": [],
      "execution_count": 15
    },
    {
      "cell_type": "markdown",
      "metadata": {
        "nteract": {
          "transient": {
            "deleting": false
          }
        }
      },
      "source": [
        "## Interpolation\r\n",
        "- afstand=weight\r\n",
        "- sum(weights)*(count(weights)-1)=totalweight\r\n",
        "- (totalweight-weight)/(totalweight)*fietstelling voor elke fietstelling binnen afstand N\r\n",
        "- Dit geeft een gewogen gemiddelde van alle tellingen binnen afstand N"
      ],
      "attachments": null,
      "outputs": []
    },
    {
      "cell_type": "code",
      "metadata": {
        "jupyter": {
          "source_hidden": false,
          "outputs_hidden": false
        },
        "nteract": {
          "transient": {
            "deleting": false
          }
        }
      },
      "source": [
        "# Clean results\r\n",
        "sql='''drop table if exists int_fietsdata.fietstellingen_drivingdistance_cleaned;\r\n",
        "CREATE TABLE int_fietsdata.fietstellingen_drivingdistance_cleaned\r\n",
        "AS (\r\n",
        "    select abs(road_id) as road_id, road_id_source, weight\r\n",
        "    from int_fietsdata.fietstellingen_drivingdistance\r\n",
        "    WHERE \r\n",
        "        road_id != -1\r\n",
        "        AND abs(road_id) NOT IN (\r\n",
        "            SELECT DISTINCT abs(road_id)\r\n",
        "            from int_fietsdata.fietstellingen_24h_road_id_measurements\r\n",
        "        )\r\n",
        ");'''\r\n",
        "cur.execute(sql)"
      ],
      "attachments": null,
      "outputs": [],
      "execution_count": 16
    },
    {
      "cell_type": "code",
      "metadata": {
        "jupyter": {
          "source_hidden": false,
          "outputs_hidden": false
        },
        "nteract": {
          "transient": {
            "deleting": false
          }
        }
      },
      "source": [
        "# Calculate totalweight per road_id\r\n",
        "sql='''drop table if exists int_fietsdata.fietstellingen_drivingdistance_totalweight;\r\n",
        "CREATE TABLE int_fietsdata.fietstellingen_drivingdistance_totalweight\r\n",
        "AS (\r\n",
        "    SELECT dd.road_id, dd.weight, f.counts_bothwayssummed, tot_weight.totalweight, tot_weight.interpolationvalues\r\n",
        "    FROM int_fietsdata.fietstellingen_drivingdistance_cleaned as dd\r\n",
        "    left join (\r\n",
        "        -- Calculate totalweight per road_id\r\n",
        "        -- sum(weights)*(count(weights)-1)=totalweight\r\n",
        "        SELECT road_id, \r\n",
        "            sum(weight) as totalweight,\r\n",
        "            count(weight) as interpolationvalues\r\n",
        "        FROM int_fietsdata.fietstellingen_drivingdistance_cleaned\r\n",
        "        GROUP BY road_id\r\n",
        "    ) as tot_weight\r\n",
        "    ON dd.road_id=tot_weight.road_id\r\n",
        "    LEFT JOIN (\r\n",
        "        -- Replace the 'road_id_source' value by its fietstelling value\r\n",
        "        SELECT road_id,counts_bothwayssummed\r\n",
        "        FROM int_fietsdata.fietstellingen_24h_road_id_measurements\r\n",
        "        WHERE measurementdate=to_timestamp('2022-09-09','YYYY-MM-DD')\r\n",
        "    ) as f\r\n",
        "    ON f.road_id=dd.road_id_source\r\n",
        "    ORDER BY road_id\r\n",
        ");'''\r\n",
        "cur.execute(sql)"
      ],
      "attachments": null,
      "outputs": [],
      "execution_count": 17
    },
    {
      "cell_type": "code",
      "metadata": {
        "jupyter": {
          "source_hidden": false,
          "outputs_hidden": false
        },
        "nteract": {
          "transient": {
            "deleting": false
          }
        }
      },
      "source": [
        "# (totalweight-weight)/(totalweight)*fietstelling voor elke fietstelling binnen afstand N\r\n",
        "sql='''drop table if exists prd_fietsdata.fietstellingen_24h_road_id_interpolated;\r\n",
        "CREATE TABLE prd_fietsdata.fietstellingen_24h_road_id_interpolated\r\n",
        "AS (\r\n",
        "    SELECT 'interpolation' as source, '' as beschrijving, to_timestamp('2022-09-09','YYYY-MM-DD') as measurementdate\r\n",
        "        ,tw_group.counts_bothwayssummed, tw_group.road_id\r\n",
        "        ,w.geom\r\n",
        "    FROM (\r\n",
        "        SELECT \r\n",
        "            road_id,\r\n",
        "            round(sum(CASE\r\n",
        "                -- 0 value works as a flag -> these values should not be interpolated but used directly\r\n",
        "                WHEN tw.interpolationvalues=1 THEN tw.counts_bothwayssummed\r\n",
        "                ELSE (tw.totalweight-tw.weight)/(tw.totalweight*(tw.interpolationvalues-1))*tw.counts_bothwayssummed\r\n",
        "            END)) as counts_bothwayssummed\r\n",
        "        FROM int_fietsdata.fietstellingen_drivingdistance_totalweight as tw\r\n",
        "        GROUP BY road_id\r\n",
        "        ORDER BY road_id\r\n",
        "    ) as tw_group\r\n",
        "    left JOIN prd_fietsdata.doorfietsroute_cleaned AS w\r\n",
        "    on tw_group.road_id = w.wvk_id\r\n",
        ");'''\r\n",
        "cur.execute(sql)"
      ],
      "attachments": null,
      "outputs": [],
      "execution_count": 18
    }
  ],
  "entityState": null,
  "renameOperationDetails": null,
  "targetSparkConfiguration": null
}
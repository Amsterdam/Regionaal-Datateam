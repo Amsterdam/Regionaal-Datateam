{
  "description": null,
  "sessionProperties": {
    "driverMemory": "28g",
    "driverCores": 4,
    "executorMemory": "28g",
    "executorCores": 4,
    "numExecutors": 2
  },
  "metadata": {
    "kernelspec": {
      "name": "synapse_pyspark",
      "display_name": "Synapse PySpark"
    },
    "language_info": {
      "name": "python",
      "codemirror_mode": null
    },
    "a365ComputeOptions": {
      "id": "/subscriptions/00000000-0000-0000-0000-000000000000/resourceGroups/rg-redacted/providers/Microsoft.Synapse/workspaces/redacted/bigDataPools/redacted",
      "name": "redacted",
      "type": "Spark",
      "endpoint": "https://redacted.dev.azuresynapse.net/livyApi/versions/2019-11-01-preview/sparkPools/redacted",
      "auth": {
        "type": "AAD",
        "authResource": "https://dev.azuresynapse.net",
        "authHeader": null
      },
      "sparkVersion": "3.1",
      "nodeCount": 10,
      "cores": 4,
      "memory": 28,
      "extraHeader": null
    },
    "sessionKeepAliveTimeout": 30,
    "saveOutput": true,
    "enableDebugMode": false
  },
  "nbformat": 4,
  "nbformat_minor": 2,
  "cells": [
    {
      "cell_type": "markdown",
      "metadata": {
        "nteract": {
          "transient": {
            "deleting": false
          }
        }
      },
      "source": [
        "# Melvin data cleanup\r\n",
        "## Situatie\r\n",
        "- Ruwe data betreft 3 tabellen:\r\n",
        "  - Situation: beschrijving van de wegwerkzaamheid\r\n",
        "  - Restriction (mogelijk meerdere per sitation): combinatie van locaties, voertuigtypes, rijrichting, beperking (afgesloten, snelheid)\r\n",
        "  - Periods (mogelijk meerdere per situation): datum/tijd\r\n",
        "- Veel duplicates\r\n",
        "- overtollige kolommen\r\n",
        "## Doelen\r\n",
        "- Restrictions filteren naar volledige afsluitingen\r\n",
        "- Restrictions geometry naar getroffen wegvakken omzetten\r\n",
        "- Gecombineerde tabel maken met situation (id, descriptions, etc.) + wegvak + period\r\n",
        "- Gecombineerde tabel omzetten naar 'virtuele verkeersborden'\r\n",
        "## Nog niet geimplementeerd\r\n",
        "- Het omzetten van Melvin data naar 'virtuele verkeersborden' incl. alle beperkingen en mogelijkheden (nu is de aanname dat de weg altijd volledig dicht is)"
      ],
      "attachments": null,
      "outputs": []
    },
    {
      "cell_type": "code",
      "metadata": {
        "jupyter": {
          "source_hidden": false,
          "outputs_hidden": false
        },
        "nteract": {
          "transient": {
            "deleting": false
          }
        }
      },
      "source": [
        "import psycopg2\r\n",
        "try:\r\n",
        "    postgres_pw = TokenLibrary.getSecret(\"redacted\", \"redacted\", \"redacted\")\r\n",
        "    conn = psycopg2.connect(dbname=\"rdt_dev\",user=\"redacted\",host=\"redacted\",password=postgres_pw)\r\n",
        "    conn.autocommit = True\r\n",
        "    cur=conn.cursor()\r\n",
        "    print(\"Database connected\")\r\n",
        "except:\r\n",
        "    print(\"I am unable to connect to the database\")"
      ],
      "attachments": null,
      "outputs": [],
      "execution_count": 1
    },
    {
      "cell_type": "markdown",
      "metadata": {
        "nteract": {
          "transient": {
            "deleting": false
          }
        }
      },
      "source": [
        "## Situation table"
      ],
      "attachments": null,
      "outputs": []
    },
    {
      "cell_type": "code",
      "metadata": null,
      "source": [
        "sql='''DROP TABLE IF EXISTS int_conflicten.ndw_werkzaamheden_situation_cleaned;\r\n",
        "CREATE TABLE int_conflicten.ndw_werkzaamheden_situation_cleaned AS (\r\n",
        "    select distinct id as melvin_id\r\n",
        "    ,s.\"properties.workObject\" as workObject\r\n",
        "    ,s.\"properties.impact\" as impact\r\n",
        "    ,s.\"properties.delay\" as expectedDelay\r\n",
        "    ,s.\"properties.location.city\" as city\r\n",
        "    ,s.\"properties.location.road\" as roadname\r\n",
        "    ,s.\"properties.location.district\" as district\r\n",
        "    ,s.\"properties.activityType\" as activityType\r\n",
        "    ,s.\"properties.roadAuthority.name\" as roadAuthority\r\n",
        "    ,s.\"properties.roadAuthority.type\" as roadAuthorityType\r\n",
        "    ,s.\"properties.situationRecordId\" as sit_rec_id\r\n",
        "    ,longitude as lon\r\n",
        "    ,latitude as lat\r\n",
        "    from stg_conflicten.ndw_werkzaamheden_situation_raw as s\r\n",
        ");'''\r\n",
        "cur.execute(sql)\r\n",
        "sql_meta='''CALL update_metadata('rdt_dev'::VARCHAR,'int_conflicten'::VARCHAR,'ndw_werkzaamheden_situation_cleaned'::VARCHAR,NOW(),'RDT_MelvinDataCleaning'::VARCHAR,'data cleaning'::VARCHAR);'''\r\n",
        "cur.execute(sql_meta)"
      ],
      "attachments": null,
      "outputs": [],
      "execution_count": 2
    },
    {
      "cell_type": "markdown",
      "metadata": {
        "nteract": {
          "transient": {
            "deleting": false
          }
        }
      },
      "source": [
        "## Restriction table"
      ],
      "attachments": null,
      "outputs": []
    },
    {
      "cell_type": "code",
      "metadata": {
        "jupyter": {
          "source_hidden": false,
          "outputs_hidden": false
        },
        "nteract": {
          "transient": {
            "deleting": false
          }
        }
      },
      "source": [
        "sql='''DROP TABLE IF EXISTS int_conflicten.ndw_werkzaamheden_restriction_cleaned;\r\n",
        "CREATE TABLE int_conflicten.ndw_werkzaamheden_restriction_cleaned AS (\r\n",
        "    select r.*\r\n",
        "    -- , r3.geom\r\n",
        "    from (\r\n",
        "        select distinct id as melvin_id\r\n",
        "        ,s.\"properties.restrictionType\" as restrictionType\r\n",
        "        ,s.\"properties.transportMode\" as transportMode\r\n",
        "        ,s.\"properties.vehicles\" as vehicles\r\n",
        "        ,s.\"properties.direction\" as direction\r\n",
        "        ,s.\"geometry.type\" as geometry_type\r\n",
        "        ,s.\"geometry.coordinates\" as geometry_coordinates\r\n",
        "        from stg_conflicten.ndw_werkzaamheden_restriction_raw s\r\n",
        "        WHERE s.\"properties.transportMode\" = 'CAR'\r\n",
        "            AND s.\"properties.restrictionType\" = 'COMPLETE'\r\n",
        "    ) as r\r\n",
        ");'''\r\n",
        "cur.execute(sql)\r\n",
        "sql_meta='''CALL update_metadata('rdt_dev'::VARCHAR,'int_conflicten'::VARCHAR,'ndw_werkzaamheden_restriction_cleaned'::VARCHAR,NOW(),'RDT_MelvinDataCleaning'::VARCHAR,'data cleaning'::VARCHAR);'''\r\n",
        "cur.execute(sql_meta)"
      ],
      "attachments": null,
      "outputs": [],
      "execution_count": 3
    },
    {
      "cell_type": "code",
      "metadata": {
        "jupyter": {
          "source_hidden": false,
          "outputs_hidden": false
        },
        "nteract": {
          "transient": {
            "deleting": false
          }
        }
      },
      "source": [
        "# multilinestring can not be read/transformed directly\r\n",
        "# remove outer brackets using substring\r\n",
        "# change squary to accolade brackets using translate\r\n",
        "# use replace to indicate splitting points\r\n",
        "# use regexp... to split multilinestrings to linestrings => generates extra rows\r\n",
        "# read linestrings as GeoJSON\r\n",
        "sql=\"\"\"-- column with string of coordinates to geom\r\n",
        "DROP TABLE IF EXISTS int_conflicten.ndw_werkzaamheden_restriction_cleaned_geom;\r\n",
        "CREATE TABLE int_conflicten.ndw_werkzaamheden_restriction_cleaned_geom AS (\r\n",
        "    SELECT melvin_id, restrictionType, transportMode, vehicles, direction, ST_SetSRID(geom,4326) as geom\r\n",
        "    FROM (\r\n",
        "        SELECT melvin_id, restrictionType, transportMode, vehicles, direction\r\n",
        "        ,ST_GeomFromGeoJSON(json_build_object('type','LineString', 'coordinates', geom_multi::float[])) as geom\r\n",
        "        FROM (\r\n",
        "            SELECT melvin_id, restrictionType, transportMode, vehicles, direction\r\n",
        "                ,regexp_split_to_table(REPLACE(translate(SUBSTRING(\"geometry_coordinates\", 2, length(\"geometry_coordinates\")-2), '[]', '{}'), '}}, {{', '}}bbb{{')::varchar,E'bbb') as geom_multi\r\n",
        "            FROM int_conflicten.ndw_werkzaamheden_restriction_cleaned\r\n",
        "            WHERE \"geometry_type\" = 'MultiLineString'\r\n",
        "        ) as sub\r\n",
        "        UNION\r\n",
        "        -- linestring can be transformed into float array, and then made into a GeoJSON\r\n",
        "        SELECT melvin_id, restrictionType, transportMode, vehicles, direction\r\n",
        "            ,ST_GeomFromGeoJSON(json_build_object('type',\"geometry_type\", 'coordinates', translate(\"geometry_coordinates\", '[]', '{}')::float[])) as geom\r\n",
        "        FROM int_conflicten.ndw_werkzaamheden_restriction_cleaned\r\n",
        "        WHERE \"geometry_type\" = 'LineString'\r\n",
        "    ) as total\r\n",
        ");\"\"\"\r\n",
        "cur.execute(sql)\r\n",
        "sql_meta='''CALL update_metadata('rdt_dev'::VARCHAR,'int_conflicten'::VARCHAR,'ndw_werkzaamheden_restriction_cleaned_geom'::VARCHAR,NOW(),'RDT_MelvinDataCleaning'::VARCHAR,'data cleaning'::VARCHAR);'''\r\n",
        "cur.execute(sql_meta)\r\n",
        ""
      ],
      "attachments": null,
      "outputs": [],
      "execution_count": 4
    },
    {
      "cell_type": "code",
      "metadata": {
        "jupyter": {
          "source_hidden": false,
          "outputs_hidden": false
        },
        "nteract": {
          "transient": {
            "deleting": false
          }
        }
      },
      "source": [
        "sql='''-- join wegvakID\r\n",
        "-- inner join, as not the entire country is taken into consideration\r\n",
        "DROP TABLE IF EXISTS int_conflicten.ndw_werkzaamheden_restriction_cleaned_geom_wvid;\r\n",
        "CREATE TABLE int_conflicten.ndw_werkzaamheden_restriction_cleaned_geom_wvid AS (\r\n",
        "    select r.*, wegvakken.id\r\n",
        "    FROM int_conflicten.ndw_werkzaamheden_restriction_cleaned_geom as r\r\n",
        "    INNER JOIN prd_ndw_borden.nwb_wegvakken_bebording as wegvakken\r\n",
        "    ON st_intersects(r.geom,wegvakken.geom)\r\n",
        ");'''\r\n",
        "cur.execute(sql)\r\n",
        "sql_meta='''CALL update_metadata('rdt_dev'::VARCHAR,'int_conflicten'::VARCHAR,'ndw_werkzaamheden_restriction_cleaned_geom_wvid'::VARCHAR,NOW(),'RDT_MelvinDataCleaning'::VARCHAR,'data cleaning'::VARCHAR);'''\r\n",
        "cur.execute(sql_meta)"
      ],
      "attachments": null,
      "outputs": [],
      "execution_count": 5
    },
    {
      "cell_type": "markdown",
      "metadata": {
        "nteract": {
          "transient": {
            "deleting": false
          }
        }
      },
      "source": [
        "## Periods table"
      ],
      "attachments": null,
      "outputs": []
    },
    {
      "cell_type": "code",
      "metadata": {
        "jupyter": {
          "source_hidden": false,
          "outputs_hidden": false
        },
        "nteract": {
          "transient": {
            "deleting": false
          }
        }
      },
      "source": [
        "sql='''DROP TABLE IF EXISTS int_conflicten.ndw_werkzaamheden_period_cleaned;\r\n",
        "CREATE TABLE int_conflicten.ndw_werkzaamheden_period_cleaned AS (\r\n",
        "    select melvin_id, timeperiod_startDate, timeperiod_endDate, period_id\r\n",
        "    from (\r\n",
        "        select distinct sit_id as melvin_id\r\n",
        "            ,TO_TIMESTAMP(REPLACE(REPLACE(p.\"startDate\", 'Z', ''), 'T', ' '),'YYYY-MM-DD HH24:MI:SS') AS timeperiod_startDate\r\n",
        "            ,TO_TIMESTAMP(REPLACE(REPLACE(p.\"endDate\", 'Z', ''), 'T', ' '),'YYYY-MM-DD HH24:MI:SS') AS timeperiod_endDate\r\n",
        "            ,id as period_id\r\n",
        "        from stg_conflicten.ndw_werkzaamheden_period_raw as p\r\n",
        "    ) sub\r\n",
        "    WHERE timeperiod_startDate::varchar NOT LIKE '0001%'\r\n",
        "        AND timeperiod_endDate::varchar NOT LIKE '0001%'\r\n",
        ");'''\r\n",
        "cur.execute(sql)\r\n",
        "sql_meta='''CALL update_metadata('rdt_dev'::VARCHAR,'int_conflicten'::VARCHAR,'ndw_werkzaamheden_period_cleaned'::VARCHAR,NOW(),'RDT_MelvinDataCleaning'::VARCHAR,'data cleaning'::VARCHAR);'''\r\n",
        "cur.execute(sql_meta)"
      ],
      "attachments": null,
      "outputs": [],
      "execution_count": 6
    },
    {
      "cell_type": "markdown",
      "metadata": {
        "nteract": {
          "transient": {
            "deleting": false
          }
        }
      },
      "source": [
        "## combine table\r\n",
        "situation + road_id + periods"
      ],
      "attachments": null,
      "outputs": []
    },
    {
      "cell_type": "code",
      "metadata": {
        "jupyter": {
          "source_hidden": false,
          "outputs_hidden": false
        },
        "nteract": {
          "transient": {
            "deleting": false
          }
        }
      },
      "source": [
        "sql='''DROP TABLE IF EXISTS int_conflicten.ndw_werkzaamheden_wvid_cleaned;\r\n",
        "CREATE TABLE int_conflicten.ndw_werkzaamheden_wvid_cleaned AS (\r\n",
        "    select distinct s.melvin_id, r.id as road_id, s.city, s.roadname, s.roadauthority, s.roadauthoritytype, s.district\r\n",
        "        , p.timeperiod_startDate, p.timeperiod_endDate\r\n",
        "    from int_conflicten.ndw_werkzaamheden_situation_cleaned as s\r\n",
        "    inner join int_conflicten.ndw_werkzaamheden_restriction_cleaned_geom_wvid as r\r\n",
        "    on s.melvin_id=r.melvin_id\r\n",
        "    inner join int_conflicten.ndw_werkzaamheden_period_cleaned as p\r\n",
        "    on s.melvin_id=p.melvin_id\r\n",
        "    ORDER BY s.melvin_id, p.timeperiod_startDate\r\n",
        ");'''\r\n",
        "cur.execute(sql)\r\n",
        "sql_meta='''CALL update_metadata('rdt_dev'::VARCHAR,'int_conflicten'::VARCHAR,'ndw_werkzaamheden_wvid_cleaned'::VARCHAR,NOW(),'RDT_MelvinDataCleaning'::VARCHAR,'data cleaning'::VARCHAR);'''\r\n",
        "cur.execute(sql_meta)"
      ],
      "attachments": null,
      "outputs": [],
      "execution_count": 7
    },
    {
      "cell_type": "code",
      "metadata": {
        "jupyter": {
          "source_hidden": false,
          "outputs_hidden": false
        },
        "nteract": {
          "transient": {
            "deleting": false
          }
        }
      },
      "source": [
        "sql='''DROP TABLE IF EXISTS int_conflicten.ndw_wegvakken_werkzaamheden;\r\n",
        "CREATE TABLE int_conflicten.ndw_wegvakken_werkzaamheden AS (\r\n",
        "    SELECT DISTINCT melvin.melvin_id::int as melvin_id, \r\n",
        "    id,source,target,spd,cost,1 AS c01,c06,c07,c07a,c07b,c08,c09,c10,c11,c12,c17,c18,c19,c20,c21,geom,\r\n",
        "    melvin.timeperiod_startDate, melvin.timeperiod_endDate\r\n",
        "    FROM prd_ndw_borden.nwb_wegvakken_bebording AS borden\r\n",
        "    INNER JOIN int_conflicten.ndw_werkzaamheden_wvid_cleaned AS melvin\r\n",
        "    ON borden.id=melvin.road_id\r\n",
        ");'''\r\n",
        "cur.execute(sql)\r\n",
        "sql_meta='''CALL update_metadata('rdt_dev'::VARCHAR,'int_conflicten'::VARCHAR,'ndw_wegvakken_werkzaamheden'::VARCHAR,NOW(),'RDT_MelvinDataCleaning'::VARCHAR,'data cleaning'::VARCHAR);'''\r\n",
        "cur.execute(sql_meta)"
      ],
      "attachments": null,
      "outputs": [],
      "execution_count": 8
    }
  ],
  "entityState": null,
  "renameOperationDetails": null,
  "targetSparkConfiguration": null
}
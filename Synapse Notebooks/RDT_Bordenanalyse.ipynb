{
  "description": null,
  "sessionProperties": {
    "driverMemory": "28g",
    "driverCores": 4,
    "executorMemory": "28g",
    "executorCores": 4,
    "numExecutors": 2
  },
  "metadata": {
    "kernelspec": {
      "name": "synapse_pyspark",
      "display_name": "Synapse PySpark"
    },
    "language_info": {
      "name": "python",
      "codemirror_mode": null
    },
    "a365ComputeOptions": {
      "id": "/subscriptions/00000000-0000-0000-0000-000000000000/resourceGroups/rg-redacted/providers/Microsoft.Synapse/workspaces/redacted/bigDataPools/redacted",
      "name": "redacted",
      "type": "Spark",
      "endpoint": "https://redacted.dev.azuresynapse.net/livyApi/versions/2019-11-01-preview/sparkPools/redacted",
      "auth": {
        "type": "AAD",
        "authResource": "https://dev.azuresynapse.net",
        "authHeader": null
      },
      "sparkVersion": "3.1",
      "nodeCount": 10,
      "cores": 4,
      "memory": 28,
      "extraHeader": null
    },
    "sessionKeepAliveTimeout": 30,
    "saveOutput": true,
    "enableDebugMode": false
  },
  "nbformat": 4,
  "nbformat_minor": 2,
  "cells": [
    {
      "cell_type": "markdown",
      "metadata": {
        "nteract": {
          "transient": {
            "deleting": false
          }
        }
      },
      "source": [
        "# Bebording\r\n",
        "Set aan diverse analyses die fouten in het NDW bordenbestand opsporen."
      ],
      "attachments": null,
      "outputs": []
    },
    {
      "cell_type": "code",
      "metadata": {
        "jupyter": {
          "source_hidden": false,
          "outputs_hidden": false
        },
        "nteract": {
          "transient": {
            "deleting": false
          }
        }
      },
      "source": [
        "import psycopg2\r\n",
        "try:\r\n",
        "    postgres_pw = TokenLibrary.getSecret(\"redacted\", \"redacted\", \"redacted\")\r\n",
        "    conn = psycopg2.connect(dbname=\"rdt_dev\",user=\"redacted\",host=\"redacted\",password=postgres_pw)\r\n",
        "    conn.autocommit = True\r\n",
        "    cur=conn.cursor()\r\n",
        "    print(\"Database connected\")\r\n",
        "except:\r\n",
        "    print(\"I am unable to connect to the database\")"
      ],
      "attachments": null,
      "outputs": [],
      "execution_count": 1
    },
    {
      "cell_type": "markdown",
      "metadata": {
        "nteract": {
          "transient": {
            "deleting": false
          }
        }
      },
      "source": [
        "## Tekst-waarde\r\n",
        "De kolom 'black-code' uit het NDW bordenbestand dient bij borden van RVV-code C17-C21 een numerieke waarde te bevatten. Deze waarde geeft een hoogte, lengte, breedte of gewicht aan. Deze analyse detecteerd niet-numerieke waarden."
      ],
      "attachments": null,
      "outputs": []
    },
    {
      "cell_type": "code",
      "metadata": {
        "jupyter": {
          "source_hidden": false,
          "outputs_hidden": false
        },
        "nteract": {
          "transient": {
            "deleting": false
          }
        }
      },
      "source": [
        "sql='''drop table if exists int_bordenanalyse.tekstwaarde_foutief;\r\n",
        "CREATE TABLE int_bordenanalyse.tekstwaarde_foutief AS (\r\n",
        "    SELECT      id, rvv_code, black_code\r\n",
        "    FROM        stg_ndw_borden.ndw_bebording_raw_catc\r\n",
        "    WHERE       rvv_code IN ('C17','C18','C19','C20','C21') \r\n",
        "    AND         black_code !~ '^[-+]?[0-9]*\\.?[0-9]+([eE][-+]?[0-9]+)?$' --regexp voor numerieke waarden\r\n",
        "    ORDER BY    rvv_code, black_code\r\n",
        ");'''\r\n",
        "cur.execute(sql)"
      ],
      "attachments": null,
      "outputs": []
    },
    {
      "cell_type": "markdown",
      "metadata": {
        "nteract": {
          "transient": {
            "deleting": false
          }
        }
      },
      "source": [
        "## Wegvak koppeling\r\n",
        "De kolom 'location.road.wvk_id' bevat geen bruikbare waarde. Op basis van nabijheid wordt een voorstel gedaan, waar mogelijk\r\n",
        ""
      ],
      "attachments": null,
      "outputs": []
    },
    {
      "cell_type": "code",
      "metadata": {
        "jupyter": {
          "source_hidden": false,
          "outputs_hidden": false
        },
        "nteract": {
          "transient": {
            "deleting": false
          }
        }
      },
      "source": [
        "# old\r\n",
        "sql='''drop table if exists int_bordenanalyse.ndw_wvk_foutief;\r\n",
        "CREATE TABLE int_bordenanalyse.ndw_wvk_foutief AS (\r\n",
        "SELECT  id as bord_id, geom as bord_geom,\r\n",
        "        CASE WHEN dist<10 THEN wvk_id ELSE NULL END as voorgestelde_wvk_id,\r\n",
        "        CASE WHEN dist<10 THEN roadgeom ELSE NULL END as wvk_geom,\r\n",
        "        CASE WHEN dist<10 THEN dist ELSE NULL END as wvk_dist\r\n",
        "FROM (\r\n",
        "    SELECT  *\r\n",
        "            ,row_number() OVER (PARTITION BY sub.id ORDER BY dist ASC) AS rn\r\n",
        "    FROM    (\r\n",
        "        SELECT      b.id, b.\"location.road.name\", b.\"location.county.name\", b.\"location.road.wvk_id\",b.geom\r\n",
        "                    ,w.wvk_id\r\n",
        "                    ,wd.geom as roadgeom\r\n",
        "                    ,b.geom <-> ST_transform(wd.geom,28992) as dist\r\n",
        "        FROM        stg_ndw_borden.ndw_bebording_raw_geom_subselection b\r\n",
        "        LEFT JOIN   stg_ndw_wegen.nwb_raw_subselection w\r\n",
        "        ON          b.\"location.road.name\"=w.stt_naam\r\n",
        "        LEFT JOIN   prd_ndw_wegen.nwb_wegvakken_directed wd\r\n",
        "        ON          w.wvk_id=wd.id\r\n",
        "        WHERE       b.\"location.road.wvk_id\" IS NULL\r\n",
        "        ORDER BY    b.\"location.road.name\"\r\n",
        "                    , dist\r\n",
        "    ) sub\r\n",
        ") sub2\r\n",
        "WHERE       rn=1\r\n",
        "ORDER BY    id,wvk_dist\r\n",
        ");'''\r\n",
        "# cur.execute(sql)"
      ],
      "attachments": null,
      "outputs": []
    },
    {
      "cell_type": "code",
      "metadata": {
        "jupyter": {
          "source_hidden": false,
          "outputs_hidden": false
        },
        "nteract": {
          "transient": {
            "deleting": false
          }
        }
      },
      "source": [
        "sql='''drop table if exists int_bordenanalyse.ndw_wvk_foutief;\r\n",
        "CREATE TABLE int_bordenanalyse.ndw_wvk_foutief AS (\r\n",
        "    WITH borden_wvk_dir_null AS (\r\n",
        "            SELECT  *\r\n",
        "            FROM    prd_ndw_borden.ndw_bebording_verrijkt_3\r\n",
        "            WHERE   nwb_wegvak_id_volgens_ndw_directed IS NULL\r\n",
        "        )\r\n",
        "        -- Wel NDW-wegvak, niet te koppelen op richting\r\n",
        "        ,borden_windrichting AS (\r\n",
        "            SELECT  *\r\n",
        "            FROM    borden_wvk_dir_null\r\n",
        "            WHERE   nwb_wegvak_id_volgens_ndw IS NOT NULL\r\n",
        "        )\r\n",
        "        -- Geen NDW-wegvak\r\n",
        "        ,borden_wvk_null AS (\r\n",
        "            SELECT  *\r\n",
        "            FROM    borden_wvk_dir_null\r\n",
        "            WHERE   nwb_wegvak_id_volgens_ndw IS NULL\r\n",
        "        )\r\n",
        "        -- Geen NDW-wegvak, wel via script\r\n",
        "        ,borden_script AS (\r\n",
        "            SELECT  *\r\n",
        "            FROM    borden_wvk_null\r\n",
        "            WHERE   _wegvak_id_volgens_script IS NOT NULL\r\n",
        "        )\r\n",
        "        -- Geen NDW-wegvak, geen voorstel via script\r\n",
        "        ,borden_script_null AS (\r\n",
        "            SELECT  *\r\n",
        "            FROM    borden_wvk_null\r\n",
        "            WHERE   _wegvak_id_volgens_script IS NULL\r\n",
        "        )\r\n",
        "        -- Wel NDW-wegvak, mismatch met script => niet rapporteren maar wel detecteren\r\n",
        "        ,borden_script_mismatch AS (\r\n",
        "            SELECT  *\r\n",
        "            FROM    prd_ndw_borden.ndw_bebording_verrijkt_3\r\n",
        "            WHERE   nwb_wegvak_id_volgens_ndw IS NOT NULL\r\n",
        "            AND     _wegvak_id_volgens_script IS NOT NULL\r\n",
        "            AND     nwb_wegvak_id_volgens_ndw::INT != _wegvak_id_volgens_script\r\n",
        "        )\r\n",
        "        -- Samen is dit de volledige set aan borden die in borden_wvk_dir_null voorkomt\r\n",
        "        ,borden_union AS (\r\n",
        "            SELECT  bord_id, geom\r\n",
        "                    ,'Onbekende_rijrichting' as code\r\n",
        "                    ,'Bord niet te koppelen aan rijrichting' as beschrijving\r\n",
        "                    ,nwb_wegvak_id_volgens_ndw::INT as voorgestelde_wvk_id\r\n",
        "            FROM    borden_windrichting\r\n",
        "            UNION\r\n",
        "            SELECT  bord_id, geom\r\n",
        "                    ,'Onbekende_NWB_ID' as code\r\n",
        "                    ,'Geen NWB wegvak ID beschikbaar' as beschrijving\r\n",
        "                    ,abs(_wegvak_id_volgens_script::INT) as voorgestelde_wvk_id\r\n",
        "            FROM    borden_script\r\n",
        "            UNION\r\n",
        "            SELECT  bord_id, geom\r\n",
        "                    ,'Onbekende_NWB_ID' as code\r\n",
        "                    ,'Geen NWB wegvak ID beschikbaar' as beschrijving\r\n",
        "                    ,NULL::INT as voorgestelde_wvk_id\r\n",
        "            FROM    borden_script_null\r\n",
        "        )\r\n",
        "    SELECT      bu.*\r\n",
        "                ,wd.geom as wvk_geom\r\n",
        "                ,brgs.\"location.county.name\" as gemeentenaam\r\n",
        "    FROM        borden_union as bu\r\n",
        "    LEFT JOIN   prd_ndw_wegen.nwb_wegvakken_directed as wd\r\n",
        "    ON          bu.voorgestelde_wvk_id::INT = wd.id\r\n",
        "    LEFT JOIN   stg_ndw_borden.ndw_bebording_raw_geom_subselection as brgs\r\n",
        "    ON          bu.bord_id = brgs.id\r\n",
        ");'''\r\n",
        "cur.execute(sql)"
      ],
      "attachments": null,
      "outputs": []
    },
    {
      "cell_type": "markdown",
      "metadata": {
        "nteract": {
          "transient": {
            "deleting": false
          }
        }
      },
      "source": [
        "# Bijhouden van huidige, nieuwe, bekende, verholpen issues\r\n",
        "- Huidig: detectie uit huidige bordenbestand\r\n",
        "- Bekend: detectie uit voorgaande bordenbestanden / historie\r\n",
        "- Nieuw: huidige issues die niet voorkomen in bekend\r\n",
        "- Verholpen: bekende issues die niet voorkomen in huidig"
      ],
      "attachments": null,
      "outputs": []
    },
    {
      "cell_type": "code",
      "metadata": {
        "jupyter": {
          "source_hidden": false,
          "outputs_hidden": false
        },
        "nteract": {
          "transient": {
            "deleting": false
          }
        }
      },
      "source": [
        "sql='''drop table if exists int_bordenanalyse.issues_huidig;\r\n",
        "CREATE TABLE int_bordenanalyse.issues_huidig AS (\r\n",
        "    WITH tekstwaarde_foutief AS (\r\n",
        "            SELECT      tf.id as bord_id\r\n",
        "                        ,'Onbekende_getalwaarde' as code\r\n",
        "                        ,'Onbekende getalwaarde voor beperkingsbord' as beschrijving\r\n",
        "                        ,bv3.gemeentenaam\r\n",
        "                        ,bv3.geom\r\n",
        "            FROM        int_bordenanalyse.tekstwaarde_foutief as tf\r\n",
        "            LEFT JOIN   prd_ndw_borden.ndw_bebording_verrijkt_3 as bv3\r\n",
        "            ON          tf.id = bv3.bord_id\r\n",
        "        )\r\n",
        "        ,union_fouten as (\r\n",
        "            SELECT  bord_id, code, beschrijving, gemeentenaam, geom\r\n",
        "            FROM    tekstwaarde_foutief\r\n",
        "            UNION\r\n",
        "            SELECT  bord_id, code, beschrijving, gemeentenaam, geom\r\n",
        "            FROM    int_bordenanalyse.ndw_wvk_foutief\r\n",
        "        )\r\n",
        "    SELECT  *\r\n",
        "            ,now() as detectie_datum\r\n",
        "    FROM    union_fouten\r\n",
        ");'''\r\n",
        "cur.execute(sql)"
      ],
      "attachments": null,
      "outputs": [],
      "execution_count": 26
    },
    {
      "cell_type": "code",
      "metadata": {
        "jupyter": {
          "source_hidden": false,
          "outputs_hidden": false
        },
        "nteract": {
          "transient": {
            "deleting": false
          }
        }
      },
      "source": [
        "# init tabel als hij niet bestaat\r\n",
        "sql='''CREATE TABLE IF NOT EXISTS prd_bordenanalyse.issues_bekend AS (\r\n",
        "    SELECT  *\r\n",
        "            ,'' as status\r\n",
        "            ,detectie_datum as mutatie_datum\r\n",
        "    FROM    int_bordenanalyse.issues_huidig\r\n",
        "    LIMIT   0\r\n",
        ");'''\r\n",
        "cur.execute(sql)\r\n",
        "sql_alter='''ALTER TABLE prd_bordenanalyse.issues_bekend ADD COLUMN issue_id SERIAL PRIMARY KEY;'''\r\n",
        "cur.execute(sql_alter)"
      ],
      "attachments": null,
      "outputs": [],
      "execution_count": 27
    },
    {
      "cell_type": "code",
      "metadata": {
        "jupyter": {
          "source_hidden": false,
          "outputs_hidden": false
        },
        "nteract": {
          "transient": {
            "deleting": false
          }
        }
      },
      "source": [
        "# nieuwe issues = subset van huidig die niet voorkomt in bekend\r\n",
        "sql='''drop table if exists int_bordenanalyse.issues_nieuw;\r\n",
        "CREATE TABLE int_bordenanalyse.issues_nieuw AS (\r\n",
        "    SELECT  *\r\n",
        "    FROM    int_bordenanalyse.issues_huidig as h\r\n",
        "    WHERE NOT EXISTS (\r\n",
        "        SELECT  *\r\n",
        "        FROM    prd_bordenanalyse.issues_bekend as b\r\n",
        "        WHERE   h.bord_id = b.bord_id AND h.code = b.code\r\n",
        "        AND     status != 'verholpen_in_bron'\r\n",
        "    )\r\n",
        ");'''\r\n",
        "cur.execute(sql)"
      ],
      "attachments": null,
      "outputs": [],
      "execution_count": 28
    },
    {
      "cell_type": "code",
      "metadata": {
        "jupyter": {
          "source_hidden": false,
          "outputs_hidden": false
        },
        "nteract": {
          "transient": {
            "deleting": false
          }
        }
      },
      "source": [
        "# verholpen issues = subset van bekend die niet voorkomt in huidig\r\n",
        "sql='''drop table if exists int_bordenanalyse.issues_verholpen;\r\n",
        "CREATE TABLE int_bordenanalyse.issues_verholpen AS (\r\n",
        "    SELECT  *\r\n",
        "    FROM    prd_bordenanalyse.issues_bekend as b\r\n",
        "    WHERE NOT EXISTS (\r\n",
        "        SELECT  *\r\n",
        "        FROM    int_bordenanalyse.issues_huidig as h\r\n",
        "        WHERE   h.bord_id = b.bord_id AND h.code = b.code\r\n",
        "    )\r\n",
        ");'''\r\n",
        "cur.execute(sql)"
      ],
      "attachments": null,
      "outputs": [],
      "execution_count": 29
    },
    {
      "cell_type": "code",
      "metadata": {
        "jupyter": {
          "source_hidden": false,
          "outputs_hidden": false
        },
        "nteract": {
          "transient": {
            "deleting": false
          }
        }
      },
      "source": [
        "# Update bekende issues door de nieuwe issues toe te voegen en de verholpen en/of oudere issues te markeren\r\n",
        "sql_ins='''\r\n",
        "INSERT INTO prd_bordenanalyse.issues_bekend(bord_id,code,beschrijving,gemeentenaam,detectie_datum,mutatie_datum,status,geom)\r\n",
        "SELECT      n.bord_id,n.code,n.beschrijving,n.gemeentenaam,n.detectie_datum\r\n",
        "            ,detectie_datum as mutatie_datum\r\n",
        "            ,'nieuw' as status\r\n",
        "            ,n.geom\r\n",
        "FROM        int_bordenanalyse.issues_nieuw as n;'''\r\n",
        "cur.execute(sql_ins)\r\n",
        "\r\n",
        "sql_upd='''\r\n",
        "UPDATE      prd_bordenanalyse.issues_bekend as ib\r\n",
        "SET         status = 'verholpen_in_bron'\r\n",
        "            ,mutatie_datum = now()\r\n",
        "FROM        int_bordenanalyse.issues_verholpen as iv\r\n",
        "WHERE       ib.bord_id = iv.bord_id AND ib.code = iv.code;'''\r\n",
        "cur.execute(sql_upd)\r\n",
        "\r\n",
        "sql_upd2='''\r\n",
        "UPDATE      prd_bordenanalyse.issues_bekend as ib\r\n",
        "SET         status = 'bekend'\r\n",
        "            ,mutatie_datum = now()\r\n",
        "WHERE       detectie_datum < (now() - '7 day'::interval)\r\n",
        "AND         status = 'nieuw';'''\r\n",
        "cur.execute(sql_upd2)"
      ],
      "attachments": null,
      "outputs": [],
      "execution_count": 30
    }
  ],
  "entityState": null,
  "renameOperationDetails": null,
  "targetSparkConfiguration": null
}
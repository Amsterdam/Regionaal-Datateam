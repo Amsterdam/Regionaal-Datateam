{
  "description": null,
  "sessionProperties": {
    "driverMemory": "28g",
    "driverCores": 4,
    "executorMemory": "28g",
    "executorCores": 4,
    "numExecutors": 2
  },
  "metadata": {
    "kernelspec": {
      "name": "synapse_pyspark",
      "display_name": "Synapse PySpark"
    },
    "language_info": {
      "name": "python",
      "codemirror_mode": null
    },
    "a365ComputeOptions": {
      "id": "/subscriptions/00000000-0000-0000-0000-000000000000/resourceGroups/rg-redacted/providers/Microsoft.Synapse/workspaces/redacted/bigDataPools/redacted",
      "name": "redacted",
      "type": "Spark",
      "endpoint": "https://redacted.dev.azuresynapse.net/livyApi/versions/2019-11-01-preview/sparkPools/redacted",
      "auth": {
        "type": "AAD",
        "authResource": "https://dev.azuresynapse.net",
        "authHeader": null
      },
      "sparkVersion": "3.1",
      "nodeCount": 10,
      "cores": 4,
      "memory": 28,
      "extraHeader": null
    },
    "sessionKeepAliveTimeout": 30,
    "saveOutput": true,
    "enableDebugMode": false
  },
  "nbformat": 4,
  "nbformat_minor": 2,
  "cells": [
    {
      "cell_type": "markdown",
      "metadata": {
        "nteract": {
          "transient": {
            "deleting": false
          }
        }
      },
      "source": [
        "# Bebording\r\n",
        "Set aan diverse analyses die fouten in het NDW bordenbestand opsporen."
      ],
      "attachments": null,
      "outputs": []
    },
    {
      "cell_type": "code",
      "metadata": {
        "jupyter": {
          "source_hidden": false,
          "outputs_hidden": false
        },
        "nteract": {
          "transient": {
            "deleting": false
          }
        }
      },
      "source": [
        "import psycopg2\r\n",
        "try:\r\n",
        "    postgres_pw = TokenLibrary.getSecret(\"redacted\", \"redacted\", \"redacted\")\r\n",
        "    conn = psycopg2.connect(dbname=\"rdt_dev\",user=\"redacted\",host=\"redacted\",password=postgres_pw)\r\n",
        "    conn.autocommit = True\r\n",
        "    cur=conn.cursor()\r\n",
        "    print(\"Database connected\")\r\n",
        "except:\r\n",
        "    print(\"I am unable to connect to the database\")"
      ],
      "attachments": null,
      "outputs": [],
      "execution_count": 1
    },
    {
      "cell_type": "code",
      "metadata": {
        "jupyter": {
          "source_hidden": false,
          "outputs_hidden": false
        },
        "nteract": {
          "transient": {
            "deleting": false
          }
        }
      },
      "source": [
        "# subselection_string=\"('Noord-Holland','Flevoland')\"\r\n",
        "subselection_string=\"('Noord-Holland','Flevoland','Utrecht')\""
      ],
      "attachments": null,
      "outputs": [],
      "execution_count": 2
    },
    {
      "cell_type": "markdown",
      "metadata": {
        "nteract": {
          "transient": {
            "deleting": false
          }
        }
      },
      "source": [
        "## Tekst-waarde\r\n",
        "De kolom 'black-code' uit het NDW bordenbestand dient bij borden van RVV-code C17-C21 een numerieke waarde te bevatten. Deze waarde geeft een hoogte, lengte, breedte of gewicht aan. Deze analyse detecteerd niet-numerieke waarden."
      ],
      "attachments": null,
      "outputs": []
    },
    {
      "cell_type": "code",
      "metadata": {
        "jupyter": {
          "source_hidden": false,
          "outputs_hidden": false
        },
        "nteract": {
          "transient": {
            "deleting": false
          }
        }
      },
      "source": [
        "sql='''drop table if exists int_bordenanalyse.tekstwaarde_foutief;\r\n",
        "CREATE TABLE int_bordenanalyse.tekstwaarde_foutief AS (\r\n",
        "    SELECT      id, ndw_id, rvv_code, black_code\r\n",
        "    FROM        stg_ndw_borden.ndw_bebording_raw_catc\r\n",
        "    WHERE       rvv_code IN ('C17','C18','C19','C20','C21') \r\n",
        "    AND         (black_code !~ '^[-+]?[0-9]*\\.?[0-9]+([eE][-+]?[0-9]+)?$' --regexp voor numerieke waarden\r\n",
        "                OR\r\n",
        "                black_code IS NULL)\r\n",
        "    AND         black_code is distinct from 'ZE'\r\n",
        "    ORDER BY    rvv_code, black_code\r\n",
        ");'''\r\n",
        "cur.execute(sql)\r\n",
        "sql_meta='''CALL update_metadata('rdt_dev'::VARCHAR,'int_bordenanalyse'::VARCHAR,'tekstwaarde_foutief'::VARCHAR,NOW(),'RDT_Bordenanalyse'::VARCHAR,'calculation'::VARCHAR);'''\r\n",
        "cur.execute(sql_meta)"
      ],
      "attachments": null,
      "outputs": [],
      "execution_count": 3
    },
    {
      "cell_type": "markdown",
      "metadata": {
        "nteract": {
          "transient": {
            "deleting": false
          }
        }
      },
      "source": [
        "## Wegvak koppeling\r\n",
        "De kolom 'location.road.wvk_id' bevat geen bruikbare waarde. Op basis van nabijheid wordt een voorstel gedaan, waar mogelijk\r\n",
        ""
      ],
      "attachments": null,
      "outputs": []
    },
    {
      "cell_type": "code",
      "metadata": {
        "jupyter": {
          "source_hidden": false,
          "outputs_hidden": false
        },
        "nteract": {
          "transient": {
            "deleting": false
          }
        }
      },
      "source": [
        "# old\r\n",
        "sql='''drop table if exists int_bordenanalyse.ndw_wvk_foutief;\r\n",
        "CREATE TABLE int_bordenanalyse.ndw_wvk_foutief AS (\r\n",
        "SELECT  id as bord_id, ndw_id, geom as bord_geom, rvv_modelnummer,\r\n",
        "        CASE WHEN dist<10 THEN wvk_id ELSE NULL END as voorgestelde_wvk_id,\r\n",
        "        CASE WHEN dist<10 THEN roadgeom ELSE NULL END as wvk_geom,\r\n",
        "        CASE WHEN dist<10 THEN dist ELSE NULL END as wvk_dist\r\n",
        "FROM (\r\n",
        "    SELECT  *\r\n",
        "            ,row_number() OVER (PARTITION BY sub.id ORDER BY dist ASC) AS rn\r\n",
        "    FROM    (\r\n",
        "        SELECT      b.id, b.ndw_id, b.\"location.road.name\", b.\"location.county.name\", b.\"location.road.wvk_id\",b.geom\r\n",
        "                    ,w.wvk_id\r\n",
        "                    ,b.rvv_code as rvv_modelnummer\r\n",
        "                    ,wd.geom as roadgeom\r\n",
        "                    ,b.geom <-> ST_transform(wd.geom,28992) as dist\r\n",
        "        FROM        stg_ndw_borden.ndw_bebording_raw_geom_subselection b\r\n",
        "        LEFT JOIN   stg_ndw_wegen.nwb_raw_subselection w\r\n",
        "        ON          b.\"location.road.name\"=w.stt_naam\r\n",
        "        LEFT JOIN   prd_ndw_wegen.nwb_wegvakken_directed wd\r\n",
        "        ON          w.wvk_id=wd.id\r\n",
        "        WHERE       b.\"location.road.wvk_id\" IS NULL\r\n",
        "        ORDER BY    b.\"location.road.name\"\r\n",
        "                    , dist\r\n",
        "    ) sub\r\n",
        ") sub2\r\n",
        "WHERE       rn=1\r\n",
        "ORDER BY    id,wvk_dist\r\n",
        ");'''\r\n",
        "# cur.execute(sql)"
      ],
      "attachments": null,
      "outputs": [],
      "execution_count": 4
    },
    {
      "cell_type": "code",
      "metadata": {
        "jupyter": {
          "source_hidden": false,
          "outputs_hidden": false
        },
        "nteract": {
          "transient": {
            "deleting": false
          }
        }
      },
      "source": [
        "sql='''drop table if exists int_bordenanalyse.ndw_wvk_foutief;\r\n",
        "CREATE TABLE int_bordenanalyse.ndw_wvk_foutief AS (\r\n",
        "    WITH bv3 AS (\r\n",
        "            SELECT  bord_id, ndw_id, rvv_modelnummer, gemeentenaam, straatnaam, geom\r\n",
        "                    ,organisation_id, organisation_type_based_on_road, organisation_id_based_on_road, organisation_name_based_on_road\r\n",
        "                    ,nwb_wegvak_id_volgens_ndw, nwb_wegvak_id_volgens_ndw_directed, _wegvak_id_volgens_script\r\n",
        "            FROM    prd_ndw_borden.ndw_bebording_verrijkt_3\r\n",
        "            WHERE   rvv_modelnummer IN ('C1','C07A','C07zb','C6','C7','C8','C9','C10','C11','C12','C17','C18','C19','C20','C21','C22','C23')\r\n",
        "        )\r\n",
        "        ,borden_wvk_dir_null AS (\r\n",
        "            SELECT  *\r\n",
        "            FROM    bv3\r\n",
        "            WHERE   nwb_wegvak_id_volgens_ndw_directed IS NULL\r\n",
        "        )\r\n",
        "        -- Wel NDW-wegvak, niet te koppelen op richting\r\n",
        "        ,borden_windrichting AS (\r\n",
        "            SELECT  *\r\n",
        "            FROM    borden_wvk_dir_null\r\n",
        "            WHERE   nwb_wegvak_id_volgens_ndw IS NOT NULL\r\n",
        "        )\r\n",
        "        -- Geen NDW-wegvak\r\n",
        "        ,borden_wvk_null AS (\r\n",
        "            SELECT  *\r\n",
        "            FROM    borden_wvk_dir_null\r\n",
        "            WHERE   nwb_wegvak_id_volgens_ndw IS NULL\r\n",
        "        )\r\n",
        "        -- Geen NDW-wegvak, wel via script\r\n",
        "        ,borden_script AS (\r\n",
        "            SELECT  *\r\n",
        "            FROM    borden_wvk_null\r\n",
        "            WHERE   _wegvak_id_volgens_script IS NOT NULL\r\n",
        "        )\r\n",
        "        -- Geen NDW-wegvak, geen voorstel via script\r\n",
        "        ,borden_script_null AS (\r\n",
        "            SELECT  *\r\n",
        "            FROM    borden_wvk_null\r\n",
        "            WHERE   _wegvak_id_volgens_script IS NULL\r\n",
        "        )\r\n",
        "        -- Wel NDW-wegvak, mismatch met script => niet rapporteren maar wel detecteren\r\n",
        "        ,borden_script_mismatch AS (\r\n",
        "            SELECT  *\r\n",
        "            FROM    bv3\r\n",
        "            WHERE   nwb_wegvak_id_volgens_ndw IS NOT NULL\r\n",
        "            AND     _wegvak_id_volgens_script IS NOT NULL\r\n",
        "            AND     nwb_wegvak_id_volgens_ndw::INT != _wegvak_id_volgens_script\r\n",
        "        )\r\n",
        "        -- Samen is dit de volledige set aan borden die in borden_wvk_dir_null voorkomt\r\n",
        "        ,borden_union AS (\r\n",
        "            SELECT  *\r\n",
        "                    ,'Onbekende_rijrichting' as code\r\n",
        "                    ,'Bord niet te koppelen aan rijrichting' as beschrijving\r\n",
        "                    ,nwb_wegvak_id_volgens_ndw::INT as voorgestelde_wvk_id\r\n",
        "            FROM    borden_windrichting\r\n",
        "            UNION\r\n",
        "            SELECT  *\r\n",
        "                    ,'Onbekende_NWB_ID' as code\r\n",
        "                    ,'Geen NWB wegvak ID beschikbaar' as beschrijving\r\n",
        "                    ,abs(_wegvak_id_volgens_script::INT) as voorgestelde_wvk_id\r\n",
        "            FROM    borden_script\r\n",
        "            UNION\r\n",
        "            SELECT  *\r\n",
        "                    ,'Onbekende_NWB_ID' as code\r\n",
        "                    ,'Geen NWB wegvak ID beschikbaar' as beschrijving\r\n",
        "                    ,NULL::INT as voorgestelde_wvk_id\r\n",
        "            FROM    borden_script_null\r\n",
        "        )\r\n",
        "    SELECT      bu.*\r\n",
        "                ,wd.geom as wvk_geom\r\n",
        "    FROM        borden_union as bu\r\n",
        "    LEFT JOIN   prd_ndw_wegen.nwb_wegvakken_directed as wd\r\n",
        "    ON          bu.voorgestelde_wvk_id::INT = wd.id\r\n",
        ");'''\r\n",
        "cur.execute(sql)\r\n",
        "sql_meta='''CALL update_metadata('rdt_dev'::VARCHAR,'int_bordenanalyse'::VARCHAR,'ndw_wvk_foutief'::VARCHAR,NOW(),'RDT_Bordenanalyse'::VARCHAR,'calculation'::VARCHAR);'''\r\n",
        "cur.execute(sql_meta)"
      ],
      "attachments": null,
      "outputs": [],
      "execution_count": 5
    },
    {
      "cell_type": "markdown",
      "metadata": {
        "nteract": {
          "transient": {
            "deleting": false
          }
        }
      },
      "source": [
        "# Helperfunctie voor bereikbaarheidscheck\r\n",
        "Checkt of de bereikbaarheidscheck al is gerunt voor een specifieke voertuigsamenstelling. \r\n",
        "\r\n",
        "Zo ja: \r\n",
        "- rapporteert het resultaat, \r\n",
        "\r\n",
        "zo nee: \r\n",
        "- runt de check, \r\n",
        "- slaat het resultaat op, en \r\n",
        "- rapporteert het resultaat"
      ],
      "attachments": null,
      "outputs": []
    },
    {
      "cell_type": "code",
      "metadata": {
        "jupyter": {
          "source_hidden": false,
          "outputs_hidden": false
        },
        "nteract": {
          "transient": {
            "deleting": false
          }
        }
      },
      "source": [
        "wellconnectednode=254441013"
      ],
      "attachments": null,
      "outputs": [],
      "execution_count": 6
    },
    {
      "cell_type": "code",
      "metadata": {
        "jupyter": {
          "source_hidden": false,
          "outputs_hidden": false
        },
        "nteract": {
          "transient": {
            "deleting": false
          }
        }
      },
      "source": [
        "sql=f\"\"\"\r\n",
        "DROP TABLE IF EXISTS int_bordenanalyse.bereikbaarheidsqueries;\r\n",
        "CREATE TABLE IF NOT EXISTS int_bordenanalyse.bereikbaarheidsqueries (\r\n",
        "    v_type VARCHAR,\r\n",
        "    trailer BOOLEAN,\r\n",
        "    v_length FLOAT,\r\n",
        "    v_width FLOAT,\r\n",
        "    v_height FLOAT,\r\n",
        "    v_axleload FLOAT,\r\n",
        "    v_weight FLOAT,\r\n",
        "    road_id int,\r\n",
        "    geom GEOMETRY\r\n",
        ");\r\n",
        "CREATE TABLE IF NOT EXISTS int_bordenanalyse.bereikbaarheidsqueries_default AS (\r\n",
        "    SELECT  *\r\n",
        "    FROM    prd_conflicten.ST_Bereikbaarheid('''auto''',FALSE,1,1,1,1,1,{wellconnectednode},0)\r\n",
        ")\"\"\";\r\n",
        "cur.execute(sql)"
      ],
      "attachments": null,
      "outputs": [],
      "execution_count": 7
    },
    {
      "cell_type": "code",
      "metadata": {
        "jupyter": {
          "source_hidden": false,
          "outputs_hidden": false
        },
        "nteract": {
          "transient": {
            "deleting": false
          }
        }
      },
      "source": [
        "# This function produces identical output to prd_conflicten.ST_Bereikbaarheid(), but re-uses outputs to prevent unnecessary resource use\r\n",
        "sql=f'''CREATE OR REPLACE FUNCTION ST_Bereikbaarheidscheck (\r\n",
        "    var_startpoint INT, -- DEFAULT 254441013\r\n",
        "    var_v_type VARCHAR,\r\n",
        "    var_trailer BOOLEAN,\r\n",
        "    var_v_length FLOAT,\r\n",
        "    var_v_width FLOAT,\r\n",
        "    var_v_height FLOAT,\r\n",
        "    var_v_axleload FLOAT,\r\n",
        "    var_v_weight FLOAT\r\n",
        ")\r\n",
        "RETURNS TABLE(road_id int,geom GEOMETRY) AS $$\r\n",
        "    DECLARE\r\n",
        "        test_if_empty INTEGER;\r\n",
        "    BEGIN \r\n",
        "        select  q1.road_id\r\n",
        "        from    int_bordenanalyse.bereikbaarheidsqueries q1\r\n",
        "        into    test_if_empty\r\n",
        "        where   v_type=var_v_type AND trailer = var_trailer AND v_length = var_v_length AND v_width = var_v_width AND v_height = var_v_height AND v_axleload = var_v_axleload AND v_weight = var_v_weight;\r\n",
        "        \r\n",
        "        if not found then\r\n",
        "            -- If not present in the table, add to the table\r\n",
        "            INSERT INTO int_bordenanalyse.bereikbaarheidsqueries(v_type,trailer,v_length,v_width,v_height,v_axleload,v_weight,road_id,geom)\r\n",
        "            SELECT  var_v_type as v_type\r\n",
        "                    ,var_trailer as trailer\r\n",
        "                    ,var_v_length as v_length\r\n",
        "                    ,var_v_width as v_width\r\n",
        "                    ,var_v_height as v_height\r\n",
        "                    ,var_v_axleload as v_axleload\r\n",
        "                    ,var_v_weight as v_weight\r\n",
        "                    ,b.id as road_id,b.geom\r\n",
        "            FROM    prd_conflicten.ST_Bereikbaarheid(var_v_type,var_trailer,var_v_length,var_v_width,var_v_height,var_v_axleload,var_v_weight,var_startpoint,0) b\r\n",
        "            -- prevent table bloat\r\n",
        "            WHERE   b.id NOT IN (\r\n",
        "                SELECT  id\r\n",
        "                FROM    int_bordenanalyse.bereikbaarheidsqueries_default\r\n",
        "            );\r\n",
        "\r\n",
        "            -- Ensure there is always at least 1 entry added to the table\r\n",
        "            INSERT INTO int_bordenanalyse.bereikbaarheidsqueries(v_type,trailer,v_length,v_width,v_height,v_axleload,v_weight,road_id,geom)\r\n",
        "            VALUES  (var_v_type,var_trailer,var_v_length,var_v_width,var_v_height,var_v_axleload,var_v_weight,NULL,NULL);\r\n",
        "        end if;\r\n",
        "    \r\n",
        "        RETURN QUERY\r\n",
        "            select  q2.road_id, q2.geom\r\n",
        "            from    int_bordenanalyse.bereikbaarheidsqueries q2\r\n",
        "            where   v_type=var_v_type AND trailer = var_trailer AND v_length = var_v_length AND v_width = var_v_width AND v_height = var_v_height AND v_axleload = var_v_axleload AND v_weight = var_v_weight;\r\n",
        "    END;\r\n",
        "$$ LANGUAGE plpgsql;'''\r\n",
        "cur.execute(sql)"
      ],
      "attachments": null,
      "outputs": [],
      "execution_count": 8
    },
    {
      "cell_type": "markdown",
      "metadata": {
        "nteract": {
          "transient": {
            "deleting": false
          }
        }
      },
      "source": [
        "# Matrixian\r\n",
        "Op Matrixian, een NDW logistiek platform, staan gebieden ingetekend waar grootte-/gewichtsbeperkingen zouden moeten gelden. Deze beperkingen zouden overeen moeten komen met de beperkingsborden (categorie C: https://www.verkeersbordenoverzicht.nl/#C).\r\n",
        "De checks hieronder berekenen per Matrixian gebied of de daadwerkelijke bereikbaarheid (op basis van verkeersborden) overeenkomt met de gewenste restrictie(s).\r\n",
        "\r\n",
        "Onderstaande scripts gaan er van uit dat \"RDT_Bordenanalyse_MatrixianApiCall\" gerund heeft/is"
      ],
      "attachments": null,
      "outputs": []
    },
    {
      "cell_type": "code",
      "metadata": {
        "jupyter": {
          "source_hidden": false,
          "outputs_hidden": false
        },
        "nteract": {
          "transient": {
            "deleting": false
          }
        }
      },
      "source": [
        "# only select entries with start&end datetimes\r\n",
        "# recalculate (groups of) entries into their respective \"verkeersborden\" types (see: https://www.verkeersbordenoverzicht.nl/#C)\r\n",
        "sql='''DROP TABLE IF EXISTS int_bordenanalyse.matrixian_vehiclerestrictions_constraints_verkeersborden;\r\n",
        "CREATE TABLE int_bordenanalyse.matrixian_vehiclerestrictions_constraints_verkeersborden AS (\r\n",
        "    SELECT  \"items.id\" as id\r\n",
        "            ,min(CASE WHEN type='sizeConstraint' AND \"sizeConstraint\"='vehicleLength' THEN \"minimum.value\"/100 ELSE 0 END) as C17\r\n",
        "            ,min(CASE WHEN type='sizeConstraint' AND \"sizeConstraint\"='vehicleWidth' THEN \"minimum.value\"/100 ELSE 0 END) as C18\r\n",
        "            ,min(CASE WHEN type='sizeConstraint' AND \"sizeConstraint\"='vehicleHeight' THEN \"minimum.value\"/100 ELSE 0 END) as C19\r\n",
        "            ,min(CASE WHEN type='weightConstraint' THEN \"maximum.value\"/1000 ELSE 0 END) as C21\r\n",
        "    FROM    stg_bordenanalyse.matrixian_vehiclerestrictions_constraints\r\n",
        "    WHERE   \"items.id\" NOT IN (\r\n",
        "                SELECT  \"items.id\" as id\r\n",
        "                FROM    stg_bordenanalyse.matrixian_vehiclerestrictions_constraints\r\n",
        "                WHERE   (type='startDateTimeConstraint' AND \"startDateTime\"::timestamp>(NOW()+'1 year'::interval))\r\n",
        "                OR      (type='endDateTimeConstraint' AND \"startDateTime\"::timestamp<NOW())\r\n",
        "            )\r\n",
        "    AND NOT (type='weightConstraint' AND type='sizeConstraint' AND type IS NULL)\r\n",
        "    AND     (type='weightConstraint' OR type='sizeConstraint')\r\n",
        "    GROUP BY id\r\n",
        ");'''\r\n",
        "cur.execute(sql)\r\n",
        "sql_meta='''CALL update_metadata('rdt_dev'::VARCHAR,'int_bordenanalyse'::VARCHAR,'matrixian_vehiclerestrictions_constraints_verkeersborden'::VARCHAR,NOW(),'RDT_Bordenanalyse'::VARCHAR,'data cleaning'::VARCHAR);'''\r\n",
        "cur.execute(sql_meta)"
      ],
      "attachments": null,
      "outputs": [],
      "execution_count": 9
    },
    {
      "cell_type": "code",
      "metadata": {
        "jupyter": {
          "source_hidden": false,
          "outputs_hidden": false
        },
        "nteract": {
          "transient": {
            "deleting": false
          }
        }
      },
      "source": [
        "# Combine matrixian data with all restrictions and the geom in a single row\r\n",
        "sql='''DROP TABLE IF EXISTS int_bordenanalyse.matrixian_vehiclerestrictions_verkeersborden_geom;\r\n",
        "CREATE TABLE int_bordenanalyse.matrixian_vehiclerestrictions_verkeersborden_geom AS (\r\n",
        "    SELECT      mv.* \r\n",
        "                ,CASE WHEN mvcv.C17 IS NULL THEN 0 ELSE mvcv.C17 END as C17\r\n",
        "                ,CASE WHEN mvcv.C18 IS NULL THEN 0 ELSE mvcv.C18 END as C18\r\n",
        "                ,CASE WHEN mvcv.C19 IS NULL THEN 0 ELSE mvcv.C19 END as C19\r\n",
        "                ,CASE \r\n",
        "                    WHEN \"administrativeReference.maximumSingleAxleWeight\" IS NULL THEN 0 \r\n",
        "                    ELSE \"administrativeReference.maximumSingleAxleWeight\"/1000 \r\n",
        "                END as C20\r\n",
        "                ,CASE WHEN mvcv.C21 IS NULL THEN 0 ELSE mvcv.C21 END as C21\r\n",
        "                ,mvg.geom\r\n",
        "    FROM        stg_bordenanalyse.matrixian_vehiclerestrictions mv\r\n",
        "    LEFT JOIN   int_bordenanalyse.matrixian_vehiclerestrictions_constraints_verkeersborden mvcv\r\n",
        "    ON          mv.id=mvcv.id\r\n",
        "    LEFT JOIN   (SELECT  id,ST_Transform(ST_SetSRID(ST_GeomFromGeoJSON(geometry),4326),28992) as geom\r\n",
        "                FROM    stg_bordenanalyse.matrixian_vehiclerestrictions_geom) as mvg\r\n",
        "    ON          mv.id=mvg.id\r\n",
        ");'''\r\n",
        "cur.execute(sql)\r\n",
        "sql_meta='''CALL update_metadata('rdt_dev'::VARCHAR,'int_bordenanalyse'::VARCHAR,'matrixian_vehiclerestrictions_verkeersborden_geom'::VARCHAR,NOW(),'RDT_Bordenanalyse'::VARCHAR,'data integration'::VARCHAR);'''\r\n",
        "cur.execute(sql_meta)"
      ],
      "attachments": null,
      "outputs": [],
      "execution_count": 10
    },
    {
      "cell_type": "code",
      "metadata": {
        "jupyter": {
          "source_hidden": false,
          "outputs_hidden": false
        },
        "nteract": {
          "transient": {
            "deleting": false
          }
        }
      },
      "source": [
        "# create an empty table to store the signage mismatches\r\n",
        "sql='''DROP TABLE IF EXISTS int_bordenanalyse.matrixian_mismatch;\r\n",
        "CREATE TABLE IF NOT EXISTS int_bordenanalyse.matrixian_mismatch (\r\n",
        "    matrixian_id    VARCHAR(255),\r\n",
        "    city            VARCHAR(255),\r\n",
        "    roadauthority   VARCHAR(255),\r\n",
        "    matrixian_geom  GEOMETRY,\r\n",
        "    road_id         INT,\r\n",
        "    road_geom       GEOMETRY,\r\n",
        "    road_restricted VARCHAR(25)\r\n",
        ");'''\r\n",
        "cur.execute(sql)\r\n",
        "sql_meta='''CALL update_metadata('rdt_dev'::VARCHAR,'int_bordenanalyse'::VARCHAR,'matrixian_mismatch'::VARCHAR,NOW(),'RDT_Bordenanalyse'::VARCHAR,'table initialization'::VARCHAR);'''\r\n",
        "cur.execute(sql_meta)"
      ],
      "attachments": null,
      "outputs": [],
      "execution_count": 11
    },
    {
      "cell_type": "code",
      "metadata": {
        "jupyter": {
          "source_hidden": false,
          "outputs_hidden": false
        },
        "nteract": {
          "transient": {
            "deleting": false
          }
        }
      },
      "source": [
        "# Check sign mismatch per matrixian polygon\r\n",
        "\r\n",
        "# get list of matrixian id's\r\n",
        "sql_matcodes=f'''\r\n",
        "SELECT  id\r\n",
        "FROM    int_bordenanalyse.matrixian_vehiclerestrictions_verkeersborden_geom mvvg\r\n",
        "        ,(\r\n",
        "            SELECT  ST_Union(ARRAY_AGG(geom)) as geom\r\n",
        "            FROM    stg_ndw_wegen.cbs_provinciegrenzen_2023 c\r\n",
        "            WHERE   statnaam IN {subselection_string}\r\n",
        "            GROUP BY rubriek\r\n",
        "        ) as p\r\n",
        "WHERE ST_Within(mvvg.geom,p.geom)\r\n",
        "ORDER BY id'''\r\n",
        "cur.execute(sql_matcodes)\r\n",
        "data=cur.fetchall()\r\n",
        "data = [item for sublist in data for item in sublist]\r\n",
        "\r\n",
        "for mat_code in data:\r\n",
        "    sql=f\"\"\"\r\n",
        "        INSERT INTO int_bordenanalyse.matrixian_mismatch(matrixian_id,city,roadauthority,matrixian_geom,road_id,road_geom,road_restricted)\r\n",
        "        SELECT      mvvg.id as matrixian_id,mvvg.\"cityName\" as city,\"administrativeReference.municipalityName\" as roadauthority\r\n",
        "                    ,mvvg.geom as matrixian_geom\r\n",
        "                    ,roads_that_should_be_restricted.id as road_id\r\n",
        "                    ,roads_that_should_be_restricted.geom as road_geom\r\n",
        "                    ,roads_that_are_restricted.road_restricted\r\n",
        "        FROM        int_bordenanalyse.matrixian_vehiclerestrictions_verkeersborden_geom mvvg\r\n",
        "        ,LATERAL    (\r\n",
        "                        SELECT  wd.id, wd.geom\r\n",
        "                        FROM    prd_ndw_wegen.nwb_wegvakken_directed wd\r\n",
        "                        WHERE   ST_Within(wd.geom,mvvg.geom)\r\n",
        "                        AND     wd.id>0\r\n",
        "                    ) as roads_that_should_be_restricted\r\n",
        "        LEFT JOIN LATERAL (\r\n",
        "                        SELECT  b.road_id, 'yes' as road_restricted\r\n",
        "                        -- auto is used as it is the least restrictive verhicle type, though vrachtauto may be more applicable\r\n",
        "                        FROM    ST_Bereikbaarheidscheck(254441013,'''auto''',FALSE,mvvg.C17,mvvg.C18,mvvg.C19,mvvg.C20,mvvg.C21) b\r\n",
        "                    ) as roads_that_are_restricted\r\n",
        "        ON roads_that_should_be_restricted.id=roads_that_are_restricted.road_id\r\n",
        "        WHERE       mvvg.id = '{mat_code}'\r\n",
        "    ;\"\"\"\r\n",
        "    cur.execute(sql)\r\n",
        "sql_meta='''CALL update_metadata('rdt_dev'::VARCHAR,'int_bordenanalyse'::VARCHAR,'matrixian_mismatch'::VARCHAR,NOW(),'RDT_Bordenanalyse'::VARCHAR,'calculation'::VARCHAR);'''\r\n",
        "cur.execute(sql_meta)"
      ],
      "attachments": null,
      "outputs": [],
      "execution_count": 12
    },
    {
      "cell_type": "markdown",
      "metadata": {
        "nteract": {
          "transient": {
            "deleting": false
          }
        }
      },
      "source": [
        "## Weergave matrixian in WebApp"
      ],
      "attachments": null,
      "outputs": []
    },
    {
      "cell_type": "code",
      "metadata": {
        "jupyter": {
          "source_hidden": false,
          "outputs_hidden": false
        },
        "nteract": {
          "transient": {
            "deleting": false
          }
        }
      },
      "source": [
        "sql='''DROP TABLE IF EXISTS prd_bordenanalyse.matrixian_vehiclerestrictions_areas;\r\n",
        "CREATE TABLE prd_bordenanalyse.matrixian_vehiclerestrictions_areas AS (\r\n",
        "    SELECT      DISTINCT ON (mm.matrixian_id) matrixian_id, city, roadauthority, matrixian_geom as geom\r\n",
        "    FROM        int_bordenanalyse.matrixian_mismatch mm\r\n",
        ");'''\r\n",
        "cur.execute(sql)\r\n",
        "sql_meta='''CALL update_metadata('rdt_dev'::VARCHAR,'prd_bordenanalyse'::VARCHAR,'matrixian_vehiclerestrictions_areas'::VARCHAR,NOW(),'RDT_Bordenanalyse'::VARCHAR,'data subset presentation'::VARCHAR);'''\r\n",
        "cur.execute(sql_meta)\r\n",
        "\r\n",
        "sql='''DROP TABLE IF EXISTS prd_bordenanalyse.matrixian_vehiclerestrictions_roads;\r\n",
        "CREATE TABLE prd_bordenanalyse.matrixian_vehiclerestrictions_roads AS (\r\n",
        "    SELECT      matrixian_id, road_id, road_geom\r\n",
        "                ,CASE\r\n",
        "                    WHEN road_restricted IS NULL THEN 'no'\r\n",
        "                    ELSE road_restricted\r\n",
        "                END as road_restricted\r\n",
        "    FROM        int_bordenanalyse.matrixian_mismatch mm\r\n",
        ");'''\r\n",
        "cur.execute(sql)\r\n",
        "sql_meta='''CALL update_metadata('rdt_dev'::VARCHAR,'prd_bordenanalyse'::VARCHAR,'matrixian_vehiclerestrictions_roads'::VARCHAR,NOW(),'RDT_Bordenanalyse'::VARCHAR,'data subset presentation'::VARCHAR);'''\r\n",
        "cur.execute(sql_meta)"
      ],
      "attachments": null,
      "outputs": []
    },
    {
      "cell_type": "markdown",
      "metadata": {
        "nteract": {
          "transient": {
            "deleting": false
          }
        }
      },
      "source": [
        "# Missende verkeersborden\r\n",
        "Door middel van een bereikbaarheidscheck kan worden gekeken of er verkeersborden missen: voor elk bord valt te checken of het wegvak waar het bord aan gekoppeld is via een omweg bereikbaar is, dan mist er waarschijnlijk een verkeersbord.\r\n",
        "Deze check kan worden gedaan voor de type-restrictieborden (bijvoorbeeld C7: verboden voor vrachtauto's), maar ook voor de grootte/gewichtsbeperkingsborden, in het laatste geval wordt rekening gehouden met de exacte waarde van de beperking (bijvoorbeeld: een wegvak met aan beide kanten een lengtebeperking, maar met een verschillende getalswaarde)"
      ],
      "attachments": null,
      "outputs": []
    },
    {
      "cell_type": "code",
      "metadata": {
        "jupyter": {
          "source_hidden": false,
          "outputs_hidden": false
        },
        "nteract": {
          "transient": {
            "deleting": false
          }
        }
      },
      "source": [
        "sql=\"\"\"drop table if exists int_bordenanalyse.bereikbaarheid_typerestrictie;\r\n",
        "CREATE TABLE int_bordenanalyse.bereikbaarheid_typerestrictie AS (\r\n",
        "    WITH    bv3 as (\r\n",
        "                -- subselectie van verkeersborden\r\n",
        "                SELECT  bord_id, ndw_id, link_gevalideerd as road_id, gemeentenaam, straatnaam, geom\r\n",
        "                        ,rvv_modelnummer\r\n",
        "                        ,organisation_id, organisation_type_based_on_road, organisation_id_based_on_road, organisation_name_based_on_road\r\n",
        "                FROM    prd_ndw_borden.ndw_bebording_verrijkt_3\r\n",
        "                WHERE   geldigheid='verbod'\r\n",
        "            )\r\n",
        "            -- diverse typen voertuigen\r\n",
        "            ,auto_shouldbe_restricted as (\r\n",
        "                SELECT  *\r\n",
        "                FROM    bv3\r\n",
        "                WHERE   rvv_modelnummer IN ('C6','C12')\r\n",
        "            )\r\n",
        "            ,auto_are_restricted as (\r\n",
        "                SELECT  *, 'yes' as restricted\r\n",
        "                FROM    ST_Bereikbaarheidscheck(254441013,'''auto''',FALSE,0,0,0,0,0)\r\n",
        "            )\r\n",
        "            ,auto_mismatch as (\r\n",
        "                SELECT      auto_shouldbe_restricted.*\r\n",
        "                FROM        auto_shouldbe_restricted \r\n",
        "                LEFT JOIN   auto_are_restricted\r\n",
        "                ON          auto_are_restricted.road_id=abs(auto_shouldbe_restricted.road_id)\r\n",
        "                WHERE       auto_are_restricted.restricted IS NULL\r\n",
        "            )\r\n",
        "            ,aanhanger_shouldbe_restricted as (\r\n",
        "                SELECT  *\r\n",
        "                FROM    bv3\r\n",
        "                WHERE   rvv_modelnummer IN ('C6','C10','C12')\r\n",
        "            )\r\n",
        "            ,aanhanger_are_restricted as (\r\n",
        "                SELECT  *, 'yes' as restricted\r\n",
        "                FROM    ST_Bereikbaarheidscheck(254441013,'''auto''',TRUE,0,0,0,0,0)\r\n",
        "            )\r\n",
        "            ,aanhanger_mismatch as (\r\n",
        "                SELECT      aanhanger_shouldbe_restricted.*\r\n",
        "                FROM        aanhanger_shouldbe_restricted \r\n",
        "                LEFT JOIN   aanhanger_are_restricted\r\n",
        "                ON          aanhanger_are_restricted.road_id=abs(aanhanger_shouldbe_restricted.road_id)\r\n",
        "                WHERE       aanhanger_are_restricted.restricted IS NULL\r\n",
        "            )\r\n",
        "            ,vrachtauto_shouldbe_restricted as (\r\n",
        "                SELECT  *\r\n",
        "                FROM    bv3\r\n",
        "                WHERE   rvv_modelnummer IN ('C6','C7','C7b','C12')\r\n",
        "            )\r\n",
        "            ,vrachtauto_are_restricted as (\r\n",
        "                SELECT  *, 'yes' as restricted\r\n",
        "                FROM    ST_Bereikbaarheidscheck(254441013,'''vrachtauto''',FALSE,0,0,0,0,4)\r\n",
        "            )\r\n",
        "            ,vrachtauto_mismatch as (\r\n",
        "                SELECT      vrachtauto_shouldbe_restricted.*\r\n",
        "                FROM        vrachtauto_shouldbe_restricted \r\n",
        "                LEFT JOIN   vrachtauto_are_restricted\r\n",
        "                ON          vrachtauto_are_restricted.road_id=abs(vrachtauto_shouldbe_restricted.road_id)\r\n",
        "                WHERE       vrachtauto_are_restricted.restricted IS NULL\r\n",
        "            )\r\n",
        "            ,bus_shouldbe_restricted as (\r\n",
        "                SELECT  *\r\n",
        "                FROM    bv3\r\n",
        "                WHERE   rvv_modelnummer IN ('C6','C7a','C7b','C12')\r\n",
        "            )\r\n",
        "            ,bus_are_restricted as (\r\n",
        "                SELECT  *, 'yes' as restricted\r\n",
        "                FROM    ST_Bereikbaarheidscheck(254441013,'''bus''',FALSE,0,0,0,0,0)\r\n",
        "            )\r\n",
        "            ,bus_mismatch as (\r\n",
        "                SELECT      bus_shouldbe_restricted.*\r\n",
        "                FROM        bus_shouldbe_restricted \r\n",
        "                LEFT JOIN   bus_are_restricted\r\n",
        "                ON          bus_are_restricted.road_id=abs(bus_shouldbe_restricted.road_id)\r\n",
        "                WHERE       bus_are_restricted.restricted IS NULL\r\n",
        "            )\r\n",
        "            ,trekker_shouldbe_restricted as (\r\n",
        "                SELECT  *\r\n",
        "                FROM    bv3\r\n",
        "                WHERE   rvv_modelnummer IN ('C6','C8','C9','C12')\r\n",
        "            )\r\n",
        "            ,trekker_are_restricted as (\r\n",
        "                SELECT  *, 'yes' as restricted\r\n",
        "                FROM    ST_Bereikbaarheidscheck(254441013,'''trekker''',FALSE,0,0,0,0,0)\r\n",
        "            )\r\n",
        "            ,trekker_mismatch as (\r\n",
        "                SELECT      trekker_shouldbe_restricted.*\r\n",
        "                FROM        trekker_shouldbe_restricted \r\n",
        "                LEFT JOIN   trekker_are_restricted\r\n",
        "                ON          trekker_are_restricted.road_id=abs(trekker_shouldbe_restricted.road_id)\r\n",
        "                WHERE       trekker_are_restricted.restricted IS NULL\r\n",
        "            )\r\n",
        "    SELECT  bord_id::varchar,ndw_id,rvv_modelnummer,gemeentenaam,straatnaam,geom\r\n",
        "            ,organisation_id, organisation_type_based_on_road, organisation_id_based_on_road, organisation_name_based_on_road\r\n",
        "            ,'Wegvak_bereikbaar_auto' as code\r\n",
        "            ,'Achterliggend wegvak bereikbaar voor auto''s ondanks verbodsbord' as beschrijving\r\n",
        "    FROM    auto_mismatch\r\n",
        "    UNION ALL\r\n",
        "    SELECT  bord_id::varchar,ndw_id,rvv_modelnummer,gemeentenaam,straatnaam,geom\r\n",
        "            ,organisation_id, organisation_type_based_on_road, organisation_id_based_on_road, organisation_name_based_on_road\r\n",
        "            ,'Wegvak_bereikbaar_aanhanger' as code\r\n",
        "            ,'Achterliggend wegvak bereikbaar voor auto''s met aanhanger ondanks verbodsbord' as beschrijving\r\n",
        "    FROM    aanhanger_mismatch\r\n",
        "    UNION ALL\r\n",
        "    SELECT  bord_id::varchar,ndw_id,rvv_modelnummer,gemeentenaam,straatnaam,geom\r\n",
        "            ,organisation_id, organisation_type_based_on_road, organisation_id_based_on_road, organisation_name_based_on_road\r\n",
        "            ,'Wegvak_bereikbaar_vrachtauto' as code\r\n",
        "            ,'Achterliggend wegvak bereikbaar voor vrachtauto''s ondanks verbodsbord' as beschrijving\r\n",
        "    FROM    vrachtauto_mismatch\r\n",
        "    UNION ALL\r\n",
        "    SELECT  bord_id::varchar,ndw_id,rvv_modelnummer,gemeentenaam,straatnaam,geom\r\n",
        "            ,organisation_id, organisation_type_based_on_road, organisation_id_based_on_road, organisation_name_based_on_road\r\n",
        "            ,'Wegvak_bereikbaar_bus' as code\r\n",
        "            ,'Achterliggend wegvak bereikbaar voor bussen ondanks verbodsbord' as beschrijving\r\n",
        "    FROM    bus_mismatch\r\n",
        "    UNION ALL\r\n",
        "    SELECT  bord_id::varchar,ndw_id,rvv_modelnummer,gemeentenaam,straatnaam,geom\r\n",
        "            ,organisation_id, organisation_type_based_on_road, organisation_id_based_on_road, organisation_name_based_on_road\r\n",
        "            ,'Wegvak_bereikbaar_trekker' as code\r\n",
        "            ,'Achterliggend wegvak bereikbaar voor trekkers ondanks verbodsbord' as beschrijving\r\n",
        "    FROM    trekker_mismatch\r\n",
        ");\"\"\"\r\n",
        "cur.execute(sql)\r\n",
        "sql_meta='''CALL update_metadata('rdt_dev'::VARCHAR,'int_bordenanalyse'::VARCHAR,'bereikbaarheid_typerestrictie'::VARCHAR,NOW(),'RDT_Bordenanalyse'::VARCHAR,'calculation'::VARCHAR);'''\r\n",
        "cur.execute(sql_meta)"
      ],
      "attachments": null,
      "outputs": []
    },
    {
      "cell_type": "code",
      "metadata": {
        "jupyter": {
          "source_hidden": false,
          "outputs_hidden": false
        },
        "nteract": {
          "transient": {
            "deleting": false
          }
        }
      },
      "source": [
        "sql=\"\"\"drop table if exists int_bordenanalyse.bereikbaarheid_waarderestrictie;\r\n",
        "CREATE TABLE int_bordenanalyse.bereikbaarheid_waarderestrictie AS (\r\n",
        "    WITH    bv3 as (\r\n",
        "                -- subselectie van verkeersborden\r\n",
        "                SELECT  bord_id, ndw_id, link_gevalideerd as road_id, gemeentenaam, straatnaam, geom\r\n",
        "                        ,rvv_modelnummer, tekst_waarde::FLOAT as tekst_waarde\r\n",
        "                        ,organisation_id, organisation_type_based_on_road, organisation_id_based_on_road, organisation_name_based_on_road\r\n",
        "                FROM    prd_ndw_borden.ndw_bebording_verrijkt_3\r\n",
        "                WHERE   geldigheid='verbod'\r\n",
        "                AND     tekst_waarde IS NOT NULL\r\n",
        "                AND     link_gevalideerd IS NOT NULL -- if this is NULL, the restriction won't have an effect anyway\r\n",
        "            )\r\n",
        "            ,c17_bv3 as (\r\n",
        "                SELECT  *\r\n",
        "                FROM    bv3\r\n",
        "                WHERE   bv3.rvv_modelnummer = 'C17'\r\n",
        "            )\r\n",
        "            ,c17_distinct as (\r\n",
        "                SELECT  DISTINCT ON (tekst_waarde) tekst_waarde\r\n",
        "                FROM    c17_bv3\r\n",
        "            )\r\n",
        "            ,c17_mismatch as (\r\n",
        "                SELECT  c17_bv3.*\r\n",
        "                FROM    c17_distinct\r\n",
        "                LEFT JOIN   c17_bv3\r\n",
        "                ON      c17_distinct.tekst_waarde=c17_bv3.tekst_waarde\r\n",
        "                LEFT JOIN LATERAL   (\r\n",
        "                    SELECT  *, c17_distinct.tekst_waarde as waarde, 'yes' as restricted\r\n",
        "                    FROM    ST_Bereikbaarheidscheck(254441013,'''auto''',FALSE,c17_distinct.tekst_waarde+0.1,0,0,0,0)\r\n",
        "                ) c17_are_restricted\r\n",
        "                ON      (c17_distinct.tekst_waarde=c17_are_restricted.waarde AND abs(c17_bv3.road_id)=c17_are_restricted.road_id)\r\n",
        "                WHERE   c17_are_restricted.restricted IS NULL\r\n",
        "            )\r\n",
        "            ,c18_bv3 as (\r\n",
        "                SELECT  *\r\n",
        "                FROM    bv3\r\n",
        "                WHERE   bv3.rvv_modelnummer = 'C18'\r\n",
        "            )\r\n",
        "            ,c18_distinct as (\r\n",
        "                SELECT  DISTINCT ON (tekst_waarde) tekst_waarde\r\n",
        "                FROM    c18_bv3\r\n",
        "            )\r\n",
        "            ,c18_mismatch as (\r\n",
        "                SELECT  c18_bv3.*\r\n",
        "                FROM    c18_distinct\r\n",
        "                LEFT JOIN   c18_bv3\r\n",
        "                ON      c18_distinct.tekst_waarde=c18_bv3.tekst_waarde\r\n",
        "                LEFT JOIN LATERAL   (\r\n",
        "                    SELECT  *, c18_distinct.tekst_waarde as waarde, 'yes' as restricted\r\n",
        "                    FROM    ST_Bereikbaarheidscheck(254441013,'''auto''',FALSE,0,c18_distinct.tekst_waarde+0.1,0,0,0)\r\n",
        "                ) c18_are_restricted\r\n",
        "                ON      (c18_distinct.tekst_waarde=c18_are_restricted.waarde AND abs(c18_bv3.road_id)=c18_are_restricted.road_id)\r\n",
        "                WHERE   c18_are_restricted.restricted IS NULL\r\n",
        "            )\r\n",
        "            ,c19_bv3 as (\r\n",
        "                SELECT  *\r\n",
        "                FROM    bv3\r\n",
        "                WHERE   bv3.rvv_modelnummer = 'C19'\r\n",
        "            )\r\n",
        "            ,c19_distinct as (\r\n",
        "                SELECT  DISTINCT ON (tekst_waarde) tekst_waarde\r\n",
        "                FROM    c19_bv3\r\n",
        "            )\r\n",
        "            ,c19_mismatch as (\r\n",
        "                SELECT  c19_bv3.*\r\n",
        "                FROM    c19_distinct\r\n",
        "                LEFT JOIN   c19_bv3\r\n",
        "                ON      c19_distinct.tekst_waarde=c19_bv3.tekst_waarde\r\n",
        "                LEFT JOIN LATERAL   (\r\n",
        "                    SELECT  *, c19_distinct.tekst_waarde as waarde, 'yes' as restricted\r\n",
        "                    FROM    ST_Bereikbaarheidscheck(254441013,'''auto''',FALSE,0,0,c19_distinct.tekst_waarde+0.1,0,0)\r\n",
        "                ) c19_are_restricted\r\n",
        "                ON      (c19_distinct.tekst_waarde=c19_are_restricted.waarde AND abs(c19_bv3.road_id)=c19_are_restricted.road_id)\r\n",
        "                WHERE   c19_are_restricted.restricted IS NULL\r\n",
        "            )\r\n",
        "            ,c20_bv3 as (\r\n",
        "                SELECT  *\r\n",
        "                FROM    bv3\r\n",
        "                WHERE   bv3.rvv_modelnummer = 'C20'\r\n",
        "            )\r\n",
        "            ,c20_distinct as (\r\n",
        "                SELECT  DISTINCT ON (tekst_waarde) tekst_waarde\r\n",
        "                FROM    c20_bv3\r\n",
        "            )\r\n",
        "            ,c20_mismatch as (\r\n",
        "                SELECT  c20_bv3.*\r\n",
        "                FROM    c20_distinct\r\n",
        "                LEFT JOIN   c20_bv3\r\n",
        "                ON      c20_distinct.tekst_waarde=c20_bv3.tekst_waarde\r\n",
        "                LEFT JOIN LATERAL   (\r\n",
        "                    SELECT  *, c20_distinct.tekst_waarde as waarde, 'yes' as restricted\r\n",
        "                    FROM    ST_Bereikbaarheidscheck(254441013,'''auto''',FALSE,0,0,0,c20_distinct.tekst_waarde+0.1,0)\r\n",
        "                ) c20_are_restricted\r\n",
        "                ON      (c20_distinct.tekst_waarde=c20_are_restricted.waarde AND abs(c20_bv3.road_id)=c20_are_restricted.road_id)\r\n",
        "                WHERE   c20_are_restricted.restricted IS NULL\r\n",
        "            )\r\n",
        "            ,c21_bv3 as (\r\n",
        "                SELECT  *\r\n",
        "                FROM    bv3\r\n",
        "                WHERE   bv3.rvv_modelnummer = 'C21'\r\n",
        "            )\r\n",
        "            ,c21_distinct as (\r\n",
        "                SELECT  DISTINCT ON (tekst_waarde) tekst_waarde\r\n",
        "                FROM    c21_bv3\r\n",
        "            )\r\n",
        "            ,c21_mismatch as (\r\n",
        "                SELECT  c21_bv3.*\r\n",
        "                FROM    c21_distinct\r\n",
        "                LEFT JOIN   c21_bv3\r\n",
        "                ON      c21_distinct.tekst_waarde=c21_bv3.tekst_waarde\r\n",
        "                LEFT JOIN LATERAL   (\r\n",
        "                    SELECT  *, c21_distinct.tekst_waarde as waarde, 'yes' as restricted\r\n",
        "                    FROM    ST_Bereikbaarheidscheck(254441013,'''auto''',FALSE,0,0,0,0,c21_distinct.tekst_waarde+0.1)\r\n",
        "                ) c21_are_restricted\r\n",
        "                ON      (c21_distinct.tekst_waarde=c21_are_restricted.waarde AND abs(c21_bv3.road_id)=c21_are_restricted.road_id)\r\n",
        "                WHERE   c21_are_restricted.restricted IS NULL\r\n",
        "            )\r\n",
        "    SELECT  bord_id::VARCHAR, ndw_id, rvv_modelnummer, gemeentenaam, straatnaam, geom\r\n",
        "            ,organisation_id, organisation_type_based_on_road, organisation_id_based_on_road, organisation_name_based_on_road\r\n",
        "            ,concat('Wegvak_bereikbaar_','c17','_',tekst_waarde,'m') as code\r\n",
        "            ,'Achterliggend wegvak bereikbaar ondanks lengtebeperkingsbord' as beschrijving\r\n",
        "    FROM    c17_mismatch\r\n",
        "    UNION ALL\r\n",
        "    SELECT  bord_id::VARCHAR, ndw_id, rvv_modelnummer, gemeentenaam, straatnaam, geom\r\n",
        "            ,organisation_id, organisation_type_based_on_road, organisation_id_based_on_road, organisation_name_based_on_road\r\n",
        "            ,concat('Wegvak_bereikbaar_','c18','_',tekst_waarde,'m') as code\r\n",
        "            ,'Achterliggend wegvak bereikbaar ondanks breedtebeperkingsbord' as beschrijving\r\n",
        "    FROM    c18_mismatch\r\n",
        "    UNION ALL\r\n",
        "    SELECT  bord_id::VARCHAR, ndw_id, rvv_modelnummer, gemeentenaam, straatnaam, geom\r\n",
        "            ,organisation_id, organisation_type_based_on_road, organisation_id_based_on_road, organisation_name_based_on_road\r\n",
        "            ,concat('Wegvak_bereikbaar_','c19','_',tekst_waarde,'m') as code\r\n",
        "            ,'Achterliggend wegvak bereikbaar ondanks hoogtebeperkingsbord' as beschrijving\r\n",
        "    FROM    c19_mismatch\r\n",
        "    UNION ALL\r\n",
        "    SELECT  bord_id::VARCHAR, ndw_id, rvv_modelnummer, gemeentenaam, straatnaam, geom\r\n",
        "            ,organisation_id, organisation_type_based_on_road, organisation_id_based_on_road, organisation_name_based_on_road\r\n",
        "            ,concat('Wegvak_bereikbaar_','c20','_',tekst_waarde,'t') as code\r\n",
        "            ,'Achterliggend wegvak bereikbaar ondanks aslastbeperkingsbord' as beschrijving\r\n",
        "    FROM    c20_mismatch\r\n",
        "    UNION ALL\r\n",
        "    SELECT  bord_id::VARCHAR, ndw_id, rvv_modelnummer, gemeentenaam, straatnaam, geom\r\n",
        "            ,organisation_id, organisation_type_based_on_road, organisation_id_based_on_road, organisation_name_based_on_road\r\n",
        "            ,concat('Wegvak_bereikbaar_','c21','_',tekst_waarde,'t') as code\r\n",
        "            ,'Achterliggend wegvak bereikbaar ondanks gewichtsbeperkingsbord' as beschrijving\r\n",
        "    FROM    c21_mismatch\r\n",
        ");\"\"\"\r\n",
        "cur.execute(sql)\r\n",
        "sql_meta='''CALL update_metadata('rdt_dev'::VARCHAR,'int_bordenanalyse'::VARCHAR,'bereikbaarheid_waarderestrictie'::VARCHAR,NOW(),'RDT_Bordenanalyse'::VARCHAR,'calculation'::VARCHAR);'''\r\n",
        "cur.execute(sql_meta)"
      ],
      "attachments": null,
      "outputs": []
    },
    {
      "cell_type": "markdown",
      "metadata": {
        "nteract": {
          "transient": {
            "deleting": false
          }
        }
      },
      "source": [
        "# Verkeersbesluiten"
      ],
      "attachments": null,
      "outputs": []
    },
    {
      "cell_type": "code",
      "metadata": {
        "jupyter": {
          "source_hidden": false,
          "outputs_hidden": false
        },
        "nteract": {
          "transient": {
            "deleting": false
          }
        }
      },
      "source": [
        "# Check of alle borden (minimaal 1) entry in de koppeltabel met verkeersbesluiten hebben\r\n",
        "sql='''DROP TABLE IF EXISTS int_bordenanalyse.koop_unmatched;\r\n",
        "CREATE TABLE int_bordenanalyse.koop_unmatched AS (\r\n",
        "    WITH    \r\n",
        "        bv3 as (\r\n",
        "            SELECT  bord_id::varchar, ndw_id, rvv_modelnummer, gemeentenaam, straatnaam, geom\r\n",
        "                    ,organisation_id, organisation_type_based_on_road, organisation_id_based_on_road, organisation_name_based_on_road\r\n",
        "            FROM    prd_ndw_borden.ndw_bebording_verrijkt_3\r\n",
        "            WHERE   rvv_modelnummer NOT IN ('C13','C14','C15','C16')\r\n",
        "        )\r\n",
        "        ,vb as (\r\n",
        "            -- 1 waarde per bord, met hoogste betrouwbaarheid en meest recent\r\n",
        "            SELECT      DISTINCT ON (ndw_id) ndw_id, koop_id\r\n",
        "            FROM        prd_ndw_borden.verkeersbesluiten_koppeltabel \r\n",
        "            ORDER BY    ndw_id, betrouwbaarheid DESC, datum_koppeling DESC\r\n",
        "        )\r\n",
        "    SELECT      bv3.*\r\n",
        "    FROM        bv3\r\n",
        "    LEFT JOIN   vb\r\n",
        "    ON          bv3.ndw_id=vb.ndw_id\r\n",
        "    WHERE       vb.koop_id IS NULL\r\n",
        ");'''\r\n",
        "cur.execute(sql)\r\n",
        "sql_meta='''CALL update_metadata('rdt_dev'::VARCHAR,'int_bordenanalyse'::VARCHAR,'koop_unmatched'::VARCHAR,NOW(),'RDT_Bordenanalyse'::VARCHAR,'calculation'::VARCHAR);'''\r\n",
        "cur.execute(sql_meta)"
      ],
      "attachments": null,
      "outputs": [],
      "execution_count": 2
    },
    {
      "cell_type": "markdown",
      "metadata": {
        "nteract": {
          "transient": {
            "deleting": false
          }
        }
      },
      "source": [
        "# Bijhouden van huidige, nieuwe, bekende, verholpen issues\r\n",
        "- Huidig: detectie uit huidige bordenbestand\r\n",
        "- Bekend: detectie uit voorgaande bordenbestanden / historie\r\n",
        "- Nieuw: huidige issues die niet voorkomen in bekend\r\n",
        "- Verholpen: bekende issues die niet voorkomen in huidig"
      ],
      "attachments": null,
      "outputs": []
    },
    {
      "cell_type": "code",
      "metadata": {
        "jupyter": {
          "source_hidden": false,
          "outputs_hidden": false
        },
        "nteract": {
          "transient": {
            "deleting": false
          }
        }
      },
      "source": [
        "# Combinatietabel met alle fouten die gedetecteerd zijn in de (huidige versie van de) data\r\n",
        "sql='''drop table if exists int_bordenanalyse.issues_huidig;\r\n",
        "CREATE TABLE int_bordenanalyse.issues_huidig AS (\r\n",
        "    WITH tekstwaarde_foutief AS (\r\n",
        "            SELECT      tf.id as bord_id\r\n",
        "                        ,bv3.ndw_id\r\n",
        "                        ,'Onbekende_getalwaarde' as code\r\n",
        "                        ,'Onbekende getalwaarde voor beperkingsbord' as beschrijving\r\n",
        "                        ,bv3.rvv_modelnummer\r\n",
        "                        ,bv3.gemeentenaam\r\n",
        "                        ,bv3.straatnaam\r\n",
        "                        ,bv3.geom\r\n",
        "                        ,bv3.organisation_id, bv3.organisation_type_based_on_road, bv3.organisation_id_based_on_road, bv3.organisation_name_based_on_road\r\n",
        "            FROM        int_bordenanalyse.tekstwaarde_foutief as tf\r\n",
        "            LEFT JOIN   prd_ndw_borden.ndw_bebording_verrijkt_3 as bv3\r\n",
        "            ON          tf.id = bv3.bord_id\r\n",
        "        )\r\n",
        "        ,matrixian_mismatch AS (\r\n",
        "            SELECT      DISTINCT ON (mm.matrixian_id) matrixian_id as bord_id\r\n",
        "                        , matrixian_id as ndw_id\r\n",
        "                        ,'Matrixian_mismatch' as code\r\n",
        "                        ,'Wegvakken binnen matrixian beperkingsgebied toch bereikbaar' as beschrijving\r\n",
        "                        ,mm.city as gemeentenaam\r\n",
        "                        ,'' as straatnaam\r\n",
        "                        ,mm.roadauthority as organisation_id, '' as organisation_type_based_on_road, '' as organisation_id_based_on_road, '' as organisation_name_based_on_road\r\n",
        "                        ,ST_Centroid(mm.matrixian_geom) as geom\r\n",
        "            FROM        int_bordenanalyse.matrixian_mismatch as mm\r\n",
        "        )\r\n",
        "        ,union_fouten_db as (\r\n",
        "            SELECT  bord_id::varchar, ndw_id, rvv_modelnummer, code, beschrijving, gemeentenaam, straatnaam, geom\r\n",
        "                    ,organisation_id, organisation_type_based_on_road, organisation_id_based_on_road, organisation_name_based_on_road\r\n",
        "            FROM    tekstwaarde_foutief\r\n",
        "            UNION\r\n",
        "            SELECT  bord_id::varchar, ndw_id, rvv_modelnummer, code, beschrijving, gemeentenaam, straatnaam, geom\r\n",
        "                    ,organisation_id, organisation_type_based_on_road, organisation_id_based_on_road, organisation_name_based_on_road\r\n",
        "            FROM    int_bordenanalyse.ndw_wvk_foutief\r\n",
        "        )\r\n",
        "        ,union_fouten_overig as (\r\n",
        "            SELECT  bord_id::varchar, ndw_id, rvv_modelnummer\r\n",
        "                    ,'verkeersbesluit_ontbreekt' as code\r\n",
        "                    ,'Er is geen verkeersbesluit gekoppeld aan dit bord' as beschrijving\r\n",
        "                    ,gemeentenaam, straatnaam, geom\r\n",
        "                    ,organisation_id, organisation_type_based_on_road, organisation_id_based_on_road, organisation_name_based_on_road\r\n",
        "            FROM    int_bordenanalyse.koop_unmatched\r\n",
        "        )\r\n",
        "        ,union_fouten_bereikbaarheid as (\r\n",
        "            SELECT  bord_id::varchar, ndw_id, 'matrixian' as rvv_modelnummer, code, beschrijving, gemeentenaam, straatnaam, geom\r\n",
        "                    ,organisation_id, organisation_type_based_on_road, organisation_id_based_on_road, organisation_name_based_on_road\r\n",
        "            FROM    matrixian_mismatch\r\n",
        "            UNION\r\n",
        "            SELECT  bord_id::varchar, ndw_id, rvv_modelnummer, code, beschrijving, gemeentenaam, straatnaam, geom\r\n",
        "                    ,organisation_id, organisation_type_based_on_road, organisation_id_based_on_road, organisation_name_based_on_road\r\n",
        "            FROM    int_bordenanalyse.bereikbaarheid_typerestrictie\r\n",
        "            UNION\r\n",
        "            SELECT  bord_id::varchar, ndw_id, rvv_modelnummer, code, beschrijving, gemeentenaam, straatnaam, geom\r\n",
        "                    ,organisation_id, organisation_type_based_on_road, organisation_id_based_on_road, organisation_name_based_on_road\r\n",
        "            FROM    int_bordenanalyse.bereikbaarheid_waarderestrictie\r\n",
        "        )\r\n",
        "        ,union_fouten as (\r\n",
        "            SELECT  *\r\n",
        "            FROM    union_fouten_db\r\n",
        "            UNION   \r\n",
        "            SELECT  *\r\n",
        "            FROM    union_fouten_overig\r\n",
        "            UNION  \r\n",
        "            SELECT  *\r\n",
        "            FROM    union_fouten_bereikbaarheid\r\n",
        "            --Borden die niet juist gekoppeld zijn, zullen altijd bereikbaarheidsfouten geven\r\n",
        "            --WHERE   bord_id NOT IN (\r\n",
        "            --    SELECT  bord_id\r\n",
        "            --    FROM    union_fouten_db\r\n",
        "            --)\r\n",
        "        )\r\n",
        "    SELECT  *\r\n",
        "            ,now() as detectie_datum\r\n",
        "    FROM    union_fouten\r\n",
        ");'''\r\n",
        "cur.execute(sql)\r\n",
        "sql_meta='''CALL update_metadata('rdt_dev'::VARCHAR,'int_bordenanalyse'::VARCHAR,'issues_huidig'::VARCHAR,NOW(),'RDT_Bordenanalyse'::VARCHAR,'calculation'::VARCHAR);'''\r\n",
        "cur.execute(sql_meta)"
      ],
      "attachments": null,
      "outputs": [],
      "execution_count": 9
    },
    {
      "cell_type": "code",
      "metadata": {
        "jupyter": {
          "source_hidden": false,
          "outputs_hidden": false
        },
        "nteract": {
          "transient": {
            "deleting": false
          }
        }
      },
      "source": [
        "# init tabel als hij niet bestaat\r\n",
        "sql='''CREATE TABLE IF NOT EXISTS prd_bordenanalyse.issues_bekend AS (\r\n",
        "    SELECT  *\r\n",
        "            ,'' as status\r\n",
        "            ,detectie_datum as mutatie_datum\r\n",
        "    FROM    int_bordenanalyse.issues_huidig\r\n",
        "    LIMIT   0\r\n",
        ");'''\r\n",
        "cur.execute(sql)\r\n",
        "sql_alter='''DO $$ \r\n",
        "    BEGIN\r\n",
        "        BEGIN\r\n",
        "            ALTER TABLE prd_bordenanalyse.issues_bekend ADD COLUMN issue_id SERIAL PRIMARY KEY;\r\n",
        "        EXCEPTION\r\n",
        "            WHEN invalid_table_definition THEN \r\n",
        "            WHEN duplicate_column THEN\r\n",
        "        END;\r\n",
        "    END;\r\n",
        "$$;'''\r\n",
        "cur.execute(sql_alter)\r\n",
        "sql_meta='''CALL update_metadata('rdt_dev'::VARCHAR,'prd_bordenanalyse'::VARCHAR,'issues_bekend'::VARCHAR,NOW(),'RDT_Bordenanalyse'::VARCHAR,'table initialization'::VARCHAR);'''\r\n",
        "cur.execute(sql_meta)"
      ],
      "attachments": null,
      "outputs": [],
      "execution_count": 10
    },
    {
      "cell_type": "code",
      "metadata": {
        "jupyter": {
          "source_hidden": false,
          "outputs_hidden": false
        },
        "nteract": {
          "transient": {
            "deleting": false
          }
        }
      },
      "source": [
        "# nieuwe issues = subset van huidig die niet voorkomt in bekend\r\n",
        "sql='''drop table if exists int_bordenanalyse.issues_nieuw;\r\n",
        "CREATE TABLE int_bordenanalyse.issues_nieuw AS (\r\n",
        "    SELECT  *\r\n",
        "    FROM    int_bordenanalyse.issues_huidig as h\r\n",
        "    WHERE NOT EXISTS (\r\n",
        "        SELECT  *\r\n",
        "        FROM    prd_bordenanalyse.issues_bekend as b\r\n",
        "        WHERE   h.bord_id = b.bord_id AND h.code = b.code\r\n",
        "        AND     status != 'verholpen_in_bron'\r\n",
        "    )\r\n",
        ");'''\r\n",
        "cur.execute(sql)\r\n",
        "sql_meta='''CALL update_metadata('rdt_dev'::VARCHAR,'int_bordenanalyse'::VARCHAR,'issues_nieuw'::VARCHAR,NOW(),'RDT_Bordenanalyse'::VARCHAR,'calculation'::VARCHAR);'''\r\n",
        "cur.execute(sql_meta)"
      ],
      "attachments": null,
      "outputs": [],
      "execution_count": 11
    },
    {
      "cell_type": "code",
      "metadata": {
        "jupyter": {
          "source_hidden": false,
          "outputs_hidden": false
        },
        "nteract": {
          "transient": {
            "deleting": false
          }
        }
      },
      "source": [
        "# verholpen issues = subset van bekend die niet voorkomt in huidig\r\n",
        "sql='''drop table if exists int_bordenanalyse.issues_verholpen;\r\n",
        "CREATE TABLE int_bordenanalyse.issues_verholpen AS (\r\n",
        "    SELECT  *\r\n",
        "    FROM    prd_bordenanalyse.issues_bekend as b\r\n",
        "    WHERE NOT EXISTS (\r\n",
        "        SELECT  *\r\n",
        "        FROM    int_bordenanalyse.issues_huidig as h\r\n",
        "        WHERE   h.bord_id = b.bord_id AND h.code = b.code\r\n",
        "    )\r\n",
        "    AND     b.status != 'verholpen_in_bron'\r\n",
        ");'''\r\n",
        "cur.execute(sql)\r\n",
        "sql_meta='''CALL update_metadata('rdt_dev'::VARCHAR,'int_bordenanalyse'::VARCHAR,'issues_verholpen'::VARCHAR,NOW(),'RDT_Bordenanalyse'::VARCHAR,'calculation'::VARCHAR);'''\r\n",
        "cur.execute(sql_meta)"
      ],
      "attachments": null,
      "outputs": [],
      "execution_count": 12
    },
    {
      "cell_type": "code",
      "metadata": {
        "jupyter": {
          "source_hidden": false,
          "outputs_hidden": false
        },
        "nteract": {
          "transient": {
            "deleting": false
          }
        }
      },
      "source": [
        "# Update bekende issues door de nieuwe issues toe te voegen en de verholpen en/of oudere issues te markeren\r\n",
        "sql_ins='''\r\n",
        "INSERT INTO prd_bordenanalyse.issues_bekend(bord_id,ndw_id,rvv_modelnummer,code,beschrijving,gemeentenaam,straatnaam,detectie_datum,mutatie_datum,status,geom)\r\n",
        "SELECT      n.bord_id,n.ndw_id,n.rvv_modelnummer,n.code,n.beschrijving,n.gemeentenaam,n.straatnaam,n.detectie_datum\r\n",
        "            ,detectie_datum as mutatie_datum\r\n",
        "            ,'nieuw' as status\r\n",
        "            ,n.geom\r\n",
        "FROM        int_bordenanalyse.issues_nieuw as n;'''\r\n",
        "cur.execute(sql_ins)\r\n",
        "sql_meta='''CALL update_metadata('rdt_dev'::VARCHAR,'prd_bordenanalyse'::VARCHAR,'issues_bekend'::VARCHAR,NOW(),'RDT_Bordenanalyse'::VARCHAR,'insert new records'::VARCHAR);'''\r\n",
        "cur.execute(sql_meta)\r\n",
        "\r\n",
        "sql_upd='''\r\n",
        "UPDATE      prd_bordenanalyse.issues_bekend as ib\r\n",
        "SET         status = 'verholpen_in_bron'\r\n",
        "            ,mutatie_datum = now()\r\n",
        "FROM        int_bordenanalyse.issues_verholpen as iv\r\n",
        "WHERE       ib.bord_id = iv.bord_id AND ib.code = iv.code;'''\r\n",
        "cur.execute(sql_upd)\r\n",
        "sql_meta='''CALL update_metadata('rdt_dev'::VARCHAR,'prd_bordenanalyse'::VARCHAR,'issues_bekend'::VARCHAR,NOW(),'RDT_Bordenanalyse'::VARCHAR,'update records'::VARCHAR);'''\r\n",
        "cur.execute(sql_meta)\r\n",
        "\r\n",
        "sql_upd2='''\r\n",
        "UPDATE      prd_bordenanalyse.issues_bekend as ib\r\n",
        "SET         status = 'bekend'\r\n",
        "            ,mutatie_datum = now()\r\n",
        "WHERE       detectie_datum < (now() - '7 day'::interval)\r\n",
        "AND         status = 'nieuw';'''\r\n",
        "cur.execute(sql_upd2)\r\n",
        "sql_meta='''CALL update_metadata('rdt_dev'::VARCHAR,'prd_bordenanalyse'::VARCHAR,'issues_bekend'::VARCHAR,NOW(),'RDT_Bordenanalyse'::VARCHAR,'update records'::VARCHAR);'''\r\n",
        "cur.execute(sql_meta)"
      ],
      "attachments": null,
      "outputs": [],
      "execution_count": 14
    },
    {
      "cell_type": "markdown",
      "metadata": {
        "nteract": {
          "transient": {
            "deleting": false
          }
        }
      },
      "source": [
        "# Weergave in dashboard\r\n",
        "- Gebaseerd op issues_bekend, maar met opgemaakte kolommen en benaming"
      ],
      "attachments": null,
      "outputs": []
    },
    {
      "cell_type": "code",
      "metadata": {
        "jupyter": {
          "source_hidden": false,
          "outputs_hidden": false
        },
        "nteract": {
          "transient": {
            "deleting": false
          }
        }
      },
      "source": [
        "# verholpen issues = subset van bekend die niet voorkomt in huidig\r\n",
        "sql='''DROP TABLE IF EXISTS prd_bordenanalyse.issues_bekend_dashboard;\r\n",
        "CREATE TABLE prd_bordenanalyse.issues_bekend_dashboard as (\r\n",
        "    SELECT  issue_id,bord_id,ndw_id,status\r\n",
        "            ,CASE\r\n",
        "                WHEN rvv_modelnummer IN ('C17','C18','C19','C20','C21') THEN 'Restrictie ' || rvv_modelnummer::text\r\n",
        "                ELSE 'Verbod ' || rvv_modelnummer::text\r\n",
        "            END as rvv_modelnaam\r\n",
        "            ,CASE\r\n",
        "                WHEN length(rvv_modelnummer)<3 THEN 'https://stbereikbaarheid001.blob.core.windows.net/mapsprites/'||'C0'||SUBSTRING (rvv_modelnummer, 2)||'.svg'\r\n",
        "                WHEN length(rvv_modelnummer)=3 AND (SUBSTRING (rvv_modelnummer, 3, 1) = 'a' OR SUBSTRING (rvv_modelnummer, 3, 1) = 'b') THEN 'https://stbereikbaarheid001.blob.core.windows.net/mapsprites/'||'C0'||SUBSTRING (rvv_modelnummer, 2)||'.svg'\r\n",
        "                ELSE 'https://stbereikbaarheid001.blob.core.windows.net/mapsprites/'||rvv_modelnummer||'.svg'\r\n",
        "            END as pictogram\r\n",
        "            ,beschrijving,beschrijving as beschrijving_lang\r\n",
        "            ,detectie_datum as datum_gedetecteerd\r\n",
        "            ,CASE\r\n",
        "                WHEN status = 'verholpen_in_bron' THEN mutatie_datum\r\n",
        "                ELSE NULL\r\n",
        "            END as datum_opgelost\r\n",
        "            ,CASE\r\n",
        "                WHEN organisation_type_based_on_road = 'G' THEN 'Gemeente '||organisation_name_based_on_road\r\n",
        "                WHEN organisation_type_based_on_road = 'P' THEN 'Provincie '||organisation_name_based_on_road\r\n",
        "                WHEN organisation_type_based_on_road = 'W' THEN 'Waterschap '||organisation_name_based_on_road\r\n",
        "                WHEN organisation_type_based_on_road = 'R' THEN 'Rijkswaterstaat '||organisation_name_based_on_road\r\n",
        "                ELSE organisation_name_based_on_road\r\n",
        "            END as organisatienaam\r\n",
        "            ,CASE \r\n",
        "                WHEN pg.statnaam in ('Noord-Holland','Flevoland') THEN 'RDT Noord-Holland en Flevoland'\r\n",
        "                WHEN pg.statnaam in ('Utrecht') THEN 'RDT Midden-Nederland'\r\n",
        "                ELSE 'Overig'\r\n",
        "            END as rdt\r\n",
        "    FROM    prd_bordenanalyse.issues_bekend ib\r\n",
        "    LEFT JOIN stg_ndw_wegen.cbs_gemeentegrenzen_2023 gg\r\n",
        "    ON      ib.gemeentenaam = gg.statnaam\r\n",
        "    LEFT JOIN stg_ndw_wegen.cbs_provinciegrenzen_2023 pg\r\n",
        "    ON      ST_Within(gg.geom,pg.geom)\r\n",
        ");'''\r\n",
        "cur.execute(sql)\r\n",
        "sql_meta='''CALL update_metadata('rdt_dev'::VARCHAR,'prd_bordenanalyse'::VARCHAR,'issues_bekend_dashboard'::VARCHAR,NOW(),'RDT_Bordenanalyse'::VARCHAR,'display table'::VARCHAR);'''\r\n",
        "cur.execute(sql_meta)"
      ],
      "attachments": null,
      "outputs": [],
      "execution_count": 2
    },
    {
      "cell_type": "code",
      "metadata": {
        "jupyter": {
          "source_hidden": false,
          "outputs_hidden": false
        },
        "nteract": {
          "transient": {
            "deleting": false
          }
        }
      },
      "source": [
        "# verholpen issues = subset van bekend die niet voorkomt in huidig\r\n",
        "sql='''DROP TABLE IF EXISTS prd_bordenanalyse.bebording_dashboard;\r\n",
        "CREATE TABLE prd_bordenanalyse.bebording_dashboard as (\r\n",
        "    SELECT  bord_id, ndw_id\r\n",
        "            ,CASE\r\n",
        "                WHEN organisation_type_based_on_road = 'G' THEN 'Gemeente '||organisation_name_based_on_road\r\n",
        "                WHEN organisation_type_based_on_road = 'P' THEN 'Provincie '||organisation_name_based_on_road\r\n",
        "                WHEN organisation_type_based_on_road = 'W' THEN 'Waterschap '||organisation_name_based_on_road\r\n",
        "                WHEN organisation_type_based_on_road = 'R' THEN 'Rijkswaterstaat '||organisation_name_based_on_road\r\n",
        "                ELSE organisation_name_based_on_road\r\n",
        "            END as organisatienaam\r\n",
        "            ,CASE \r\n",
        "                WHEN pg.statnaam in ('Noord-Holland','Flevoland') THEN 'RDT Noord-Holland en Flevoland'\r\n",
        "                WHEN pg.statnaam in ('Utrecht') THEN 'RDT Midden-Nederland'\r\n",
        "                ELSE 'Overig'\r\n",
        "            END as rdt\r\n",
        "            ,CASE\r\n",
        "                WHEN length(rvv_modelnummer)<3 THEN 'https://stbereikbaarheid001.blob.core.windows.net/mapsprites/'||'C0'||SUBSTRING (rvv_modelnummer, 2)||'.svg'\r\n",
        "                WHEN length(rvv_modelnummer)=3 AND (SUBSTRING (rvv_modelnummer, 3, 1) = 'a' OR SUBSTRING (rvv_modelnummer, 3, 1) = 'b') THEN 'https://stbereikbaarheid001.blob.core.windows.net/mapsprites/'||'C0'||SUBSTRING (rvv_modelnummer, 2)||'.svg'\r\n",
        "                ELSE 'https://stbereikbaarheid001.blob.core.windows.net/mapsprites/'||rvv_modelnummer||'.svg'\r\n",
        "            END as pictogram\r\n",
        "            ,CASE\r\n",
        "                WHEN rvv_modelnummer IN ('C17','C18','C19','C20','C21') THEN 'Restrictie ' || rvv_modelnummer::text\r\n",
        "                ELSE 'Verbod ' || rvv_modelnummer::text\r\n",
        "            END as rvv_modelnaam\r\n",
        "    FROM    prd_ndw_borden.ndw_bebording_verrijkt_3 bv3\r\n",
        "    LEFT JOIN stg_ndw_wegen.cbs_gemeentegrenzen_2023 gg\r\n",
        "    ON      bv3.gemeentenaam = gg.statnaam\r\n",
        "    LEFT JOIN stg_ndw_wegen.cbs_provinciegrenzen_2023 pg\r\n",
        "    ON      ST_Within(gg.geom,pg.geom)\r\n",
        ");'''\r\n",
        "cur.execute(sql)\r\n",
        "sql_meta='''CALL update_metadata('rdt_dev'::VARCHAR,'prd_bordenanalyse'::VARCHAR,'bebording_dashboard'::VARCHAR,NOW(),'RDT_Bordenanalyse'::VARCHAR,'display table'::VARCHAR);'''\r\n",
        "cur.execute(sql_meta)"
      ],
      "attachments": null,
      "outputs": [],
      "execution_count": 3
    }
  ],
  "entityState": null,
  "renameOperationDetails": null,
  "targetSparkConfiguration": null
}
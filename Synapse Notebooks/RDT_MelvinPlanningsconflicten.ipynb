{
  "description": null,
  "sessionProperties": {
    "driverMemory": "28g",
    "driverCores": 4,
    "executorMemory": "28g",
    "executorCores": 4,
    "numExecutors": 2
  },
  "metadata": {
    "kernelspec": {
      "name": "synapse_pyspark",
      "display_name": "Synapse PySpark"
    },
    "language_info": {
      "name": "python",
      "codemirror_mode": null
    },
    "a365ComputeOptions": {
      "id": "/subscriptions/00000000-0000-0000-0000-000000000000/resourceGroups/rg-resourcename/providers/Microsoft.Synapse/workspaces/resourcename/bigDataPools/sparkpool",
      "name": "sparkpool",
      "type": "Spark",
      "endpoint": "https://resourcename.dev.azuresynapse.net/livyApi/versions/2019-11-01-preview/sparkPools/sparkpool",
      "auth": {
        "type": "AAD",
        "authResource": "https://dev.azuresynapse.net",
        "authHeader": null
      },
      "sparkVersion": "3.1",
      "nodeCount": 10,
      "cores": 4,
      "memory": 28,
      "extraHeader": null
    },
    "sessionKeepAliveTimeout": 30,
    "saveOutput": true,
    "enableDebugMode": false
  },
  "nbformat": 4,
  "nbformat_minor": 2,
  "cells": [
    {
      "cell_type": "markdown",
      "metadata": {
        "nteract": {
          "transient": {
            "deleting": false
          }
        }
      },
      "source": [
        "# Onbereikbaarheid door wegwerkzaamheden\r\n",
        "- De kern van deze casus is de (on)bereikbaarheidsquery die elders al gebruikt wordt. Die query is aangepast om in functievorm gebruikt te worden (en als zodanig vaak/repetitief gerund te worden). \r\n",
        "- Werkzaamheden uit Melvin worden ingeladen en getransformeerd naar 'virtuele verkeersborden', dit is een manier om per wegsegment aan te kunnen geven wat de tijdelijke beperkingen zijn die gelden tijdens de wegwerkzaamheden. Een bijkomend voordeel is dat deze informatie erg makkelijk is samen te voegen met de echte verkeersborden, die als input gelden voor de (on)bereikbaarheidsquery. Door die samenvoeging kan de (on)bereikbaarheidsquery zeer eenvoudig worden gerund voor alle verschillende situaties die gecreeerd worden door de wegwerkzaamheden.\r\n",
        "- Voor elke combinatie van wegwerkzaamheid en voertuigtype wordt alleen de aanpassing van de bereikbaarheid ten opzichte van de standaardsituatie weergegeven. De standaardsituatie (per voertuigtype) wordt los opgeslagen. Dit wordt gedaan als optimalisatie.\r\n",
        "\r\n",
        "Nog niet geimplementeerd\r\n",
        "- Het omzetten van Melvin data naar 'virtuele verkeersborden' incl. alle beperkingen en mogelijkheden (nu is de aanname dat de weg altijd volledig dicht is)"
      ],
      "attachments": null,
      "outputs": []
    },
    {
      "cell_type": "code",
      "metadata": null,
      "source": [
        "import psycopg2\r\n",
        "try:\r\n",
        "    postgres_pw = TokenLibrary.getSecret(\"redacted\", \"redacted\", \"redacted\")\r\n",
        "    conn = psycopg2.connect(dbname=\"rdt\",user=\"user\",host=\"host\",password=postgres_pw)\r\n",
        "    conn.autocommit = True\r\n",
        "    cur=conn.cursor()\r\n",
        "    print(\"Database connected\")\r\n",
        "except:\r\n",
        "    print(\"I am unable to connect to the database\")\r\n",
        "\r\n",
        "# The default node, defines the default accessability (aka 'bereikbaarheid')\r\n",
        "wellconnectednode=254441013"
      ],
      "attachments": null,
      "outputs": [],
      "execution_count": 44
    },
    {
      "cell_type": "markdown",
      "metadata": {
        "nteract": {
          "transient": {
            "deleting": false
          }
        }
      },
      "source": [
        "## Bereikbaarheidsquery\r\n",
        "Verkregen van Bas Bussink, Amsterdam.\r\n",
        "\r\n",
        "Aangepast om NDW data te gebruiken.\r\n",
        "\r\n",
        "Aangepast om de verkeersbordensituatie dynamisch te kunnen aanpassen voor een bepaalde wegwerkzaamheid (gekoppeld via MelvinID)"
      ],
      "attachments": null,
      "outputs": []
    },
    {
      "cell_type": "code",
      "metadata": {
        "jupyter": {
          "source_hidden": false,
          "outputs_hidden": false
        },
        "nteract": {
          "transient": {
            "deleting": false
          }
        }
      },
      "source": [
        "sql='''DROP FUNCTION IF EXISTS prd_conflicten.ST_Bereikbaarheid;\r\n",
        "CREATE FUNCTION prd_conflicten.ST_Bereikbaarheid (\r\n",
        "    vehicle VARCHAR,\r\n",
        "    aanhanger BOOLEAN,\r\n",
        "    l FLOAT,\r\n",
        "    b FLOAT,\r\n",
        "    h FLOAT,\r\n",
        "    aslast FLOAT,\r\n",
        "    totaalgewicht FLOAT,\r\n",
        "    startpoint INT,\r\n",
        "    melvinid INT\r\n",
        ")\r\n",
        "RETURNS TABLE(id int, statuscode INT, geom GEOMETRY) AS $$\r\n",
        "    select v.id,\r\n",
        "        v.bereikbaar_status_code,\r\n",
        "        v.geom \r\n",
        "    from (\r\n",
        "        select\r\n",
        "            abs(n.id) as id,\r\n",
        "            max(case\r\n",
        "                when n.cost is NULL then 333  --Eenrichtingsverkeer?\r\n",
        "                when routing.agg_cost is null then 222 --Onbereikbaar via andere links?\r\n",
        "                -- Wegvak niet begaanbaar voor dit voertuig?\r\n",
        "                when \r\n",
        "                    -- verbod voor dit voertuigtype\r\n",
        "                    CASE\r\n",
        "                        WHEN vehicle = 'auto' AND n.c06 > 0 THEN TRUE\r\n",
        "                        WHEN vehicle = 'vrachtauto' AND n.c07 > 0 OR n.c07b > 0 THEN TRUE\r\n",
        "                        WHEN vehicle = 'bus' AND n.c07a > 0 OR n.c07b > 0 THEN TRUE\r\n",
        "                        WHEN vehicle = 'trekker' AND n.c08 > 0 OR n.c09 > 0 THEN TRUE\r\n",
        "                        ELSE false\r\n",
        "                    END = true\r\n",
        "                    or n.c10 > 0 and aanhanger = true\r\n",
        "                    or n.c01 is not null\r\n",
        "                    or n.c17 < l\r\n",
        "                    or n.c18 < b\r\n",
        "                    or n.c19 < h\r\n",
        "                    or n.c20 < totaalgewicht\r\n",
        "                    or n.c21 < aslast\r\n",
        "                then 222\r\n",
        "                else 999\r\n",
        "            end\r\n",
        "        ) as bereikbaar_status_code,\r\n",
        "            g.geom as geom\r\n",
        "        -- In plaats van de gewone bebording tabel, gebruik een aangepaste tabel\r\n",
        "        -- from prd_ndw_borden.nwb_wegvakken_bebording AS n\r\n",
        "        from (\r\n",
        "            SELECT id,source,target,spd,cost,c01,c06,c07,c07a,c07b,c08,c09,c10,c11,c12,c17::float,c18::float,c19::float,c20::float,c21::float,geom\r\n",
        "            FROM prd_ndw_borden.nwb_wegvakken_bebording\r\n",
        "            -- Negeer wegsegmenten met werkzaamheden\r\n",
        "            WHERE id NOT IN (\r\n",
        "                SELECT id\r\n",
        "                FROM int_conflicten.ndw_wegvakken_werkzaamheden\r\n",
        "                WHERE melvin_id IN (melvinid)\r\n",
        "            )\r\n",
        "            -- Voeg de nieuwe/tijdelijke situatie van wegvakken met werkzaamheden toe\r\n",
        "            UNION\r\n",
        "            SELECT id,source,target,spd,cost,c01,c06,c07,c07a,c07b,c08,c09,c10,c11,c12,c17::float,c18::float,c19::float,c20::float,c21::float,geom\r\n",
        "            FROM int_conflicten.ndw_wegvakken_werkzaamheden\r\n",
        "            WHERE melvin_id IN (melvinid)\r\n",
        "        ) AS n\r\n",
        "        left join (\r\n",
        "            SELECT start_vid as source,\r\n",
        "                end_vid as target,\r\n",
        "                agg_cost\r\n",
        "            FROM pgr_dijkstraCost('\r\n",
        "                select id, source, target, cost\r\n",
        "                from (\r\n",
        "                    SELECT id,source,target,spd,cost,c01,c06,c07,c07a,c07b,c08,c09,c10,c11,c12,c17,c18,c19,c20,c21,geom\r\n",
        "                    FROM prd_ndw_borden.nwb_wegvakken_bebording\r\n",
        "                    WHERE id NOT IN (\r\n",
        "                        SELECT id\r\n",
        "                        FROM int_conflicten.ndw_wegvakken_werkzaamheden\r\n",
        "                        WHERE melvin_id IN ('||melvinid||')\r\n",
        "                    ) \r\n",
        "                    UNION\r\n",
        "                    SELECT id,source,target,spd,cost,c01,c06,c07,c07a,c07b,c08,c09,c10,c11,c12,c17,c18,c19,c20,c21,geom\r\n",
        "                    FROM int_conflicten.ndw_wegvakken_werkzaamheden\r\n",
        "                    WHERE melvin_id IN ('||melvinid||')\r\n",
        "                ) as borden\r\n",
        "                where cost > 0\r\n",
        "                and (\r\n",
        "                    (( -.01 + '||l||' ) < c17 or c17 is null)\r\n",
        "                    and (( -.01 + '||b||' ) < c18 or c18 is null)\r\n",
        "                    and (( -.01 + '||h||' ) < c19 or c19 is null)\r\n",
        "                    and (( -1 + '||totaalgewicht||' ) < c20 or c20 is null)\r\n",
        "                    and (( -1 + '||aslast||' ) < c21 or c21 is null)\r\n",
        "                    and ((c01 < 1) or c01 is null)\r\n",
        "                    -- Voertuigbeperking\r\n",
        "                    and (\r\n",
        "                        -- auto\r\n",
        "                        c06 < 1\r\n",
        "                        or '||vehicle||' != ''auto''\r\n",
        "                    )\r\n",
        "                    and (\r\n",
        "                        -- vrachtwagen\r\n",
        "                        (c07 < 1 and c07b < 1)\r\n",
        "                        or '||vehicle||' != ''vrachtwagen''\r\n",
        "                        or '||totaalgewicht||' <= 3500\r\n",
        "                    )\r\n",
        "                    and (\r\n",
        "                        -- bus\r\n",
        "                        (c07a < 1 and c07b < 1)\r\n",
        "                        or '||vehicle||' != ''bus''\r\n",
        "                    )\r\n",
        "                    and (\r\n",
        "                        -- trekker\r\n",
        "                        (c08 < 1 and c09 < 1)\r\n",
        "                        or '||vehicle||' != ''trekker''\r\n",
        "                    )\r\n",
        "                    and (\r\n",
        "                        -- aanhanger\r\n",
        "                        c10 < 1\r\n",
        "                        or '||aanhanger||' is false\r\n",
        "                    )\r\n",
        "                )',\r\n",
        "                startPoint,\r\n",
        "                array(\r\n",
        "                    select node\r\n",
        "                    from prd_ndw_wegen.nwb_wegvakken_nodes\r\n",
        "                )\r\n",
        "            ) as pgr_cost\r\n",
        "        ) as routing on n.source = routing.target\r\n",
        "\r\n",
        "        left join prd_ndw_borden.nwb_wegvakken_bebording AS g\r\n",
        "            on abs(n.id) = g.id\r\n",
        "            where abs(n.id) in (\r\n",
        "                select id from prd_ndw_borden.nwb_wegvakken_bebording\r\n",
        "                where id > 0\r\n",
        "            )\r\n",
        "            and n.cost > 0\r\n",
        "\r\n",
        "        group by abs(n.id), g.geom\r\n",
        "        order by abs(n.id)\r\n",
        "    ) AS v\r\n",
        "    where v.bereikbaar_status_code <> 999;\r\n",
        "$$ LANGUAGE SQL;'''\r\n",
        "cur.execute(sql)"
      ],
      "attachments": null,
      "outputs": [],
      "execution_count": 2
    },
    {
      "cell_type": "markdown",
      "metadata": {
        "nteract": {
          "transient": {
            "deleting": false
          }
        }
      },
      "source": [
        "## Onbereikbaarheid per geisoleerde wegwerkzaamheid\r\n",
        "De tabel vehicles bevat een aantal standaardvoertuigen die de standaardruimte aan verschillen in voertuigen zo goed mogelijk afdekken. De (on)bereikbaarheid als gevolg van een wegafzetting wordt afzonderlijk voor elk van deze voertuigen doorgerekend.\r\n",
        "\r\n",
        "De _aanvullende_ (on)bereikbaarheid per wegwerkzaamheid wordt opgeslagen. De totale onbereikbaarheid per wegwerkzaamheid voor een specifiek voertuig is te achterhalen als de union van de onbereikbaarheid per wegwerkzaamheid en de standaard onbereikbaarheid voor dat voertuig (uit de tabel vehicles_default_bereikbaarheid)."
      ],
      "attachments": null,
      "outputs": []
    },
    {
      "cell_type": "code",
      "metadata": {
        "jupyter": {
          "source_hidden": false,
          "outputs_hidden": false
        },
        "nteract": {
          "transient": {
            "deleting": false
          }
        }
      },
      "source": [
        "sql=f'''DROP TABLE IF EXISTS int_conflicten.vehicles_default_bereikbaarheid;\r\n",
        "CREATE TABLE int_conflicten.vehicles_default_bereikbaarheid AS (\r\n",
        "    SELECT veh.id AS vehicle_id, roads.*\r\n",
        "    FROM stg_conflicten.vehicles AS veh,\r\n",
        "    LATERAL (\r\n",
        "        SELECT default_full.id\r\n",
        "        FROM prd_conflicten.ST_Bereikbaarheid(veh.v_type,veh.trailer,veh.v_length::float,veh.v_width::float,veh.v_height::float,veh.v_axleload::float,veh.v_weight::float,{wellconnectednode},000000) as default_full --intentionally non-matching ID\r\n",
        "    ) AS roads\r\n",
        ");'''\r\n",
        "cur.execute(sql)"
      ],
      "attachments": null,
      "outputs": [],
      "execution_count": 3
    },
    {
      "cell_type": "code",
      "metadata": {
        "jupyter": {
          "source_hidden": false,
          "outputs_hidden": false
        },
        "nteract": {
          "transient": {
            "deleting": false
          }
        }
      },
      "source": [
        "# Output: additionele wegsegmenten die onbereikbaar worden vanwege wegwerkzaamheid\r\n",
        "# Runs for all rows in the vehicles table\r\n",
        "sql='''DROP FUNCTION IF EXISTS ST_Bereikbaarheid_vehicle_melvinid;\r\n",
        "CREATE FUNCTION ST_Bereikbaarheid_vehicle_melvinid (\r\n",
        "    startpoint INT, -- DEFAULT 254441013\r\n",
        "    melvinid INT\r\n",
        ")\r\n",
        "RETURNS TABLE(vehicleid INT, roadid int, statuscode INT, geom GEOMETRY) AS $$\r\n",
        "    SELECT veh.id, roads.*\r\n",
        "    FROM stg_conflicten.vehicles AS veh,\r\n",
        "    -- CROSS JOIN LATERAL (\r\n",
        "    LATERAL (\r\n",
        "        SELECT *\r\n",
        "        FROM ST_Bereikbaarheid(veh.v_type,veh.trailer,veh.v_length,veh.v_width,veh.v_height,veh.v_axleload,veh.v_weight,startpoint,melvinid) as roadworks_full \r\n",
        "        WHERE roadworks_full.id NOT IN (\r\n",
        "            SELECT default_full.id\r\n",
        "            FROM int_conflicten.vehicles_default_bereikbaarheid as default_full\r\n",
        "            WHERE default_full.vehicle_id = veh.id\r\n",
        "        )\r\n",
        "    ) AS roads;\r\n",
        "$$ LANGUAGE SQL;'''\r\n",
        "cur.execute(sql)"
      ],
      "attachments": null,
      "outputs": [],
      "execution_count": 4
    },
    {
      "cell_type": "code",
      "metadata": {
        "jupyter": {
          "source_hidden": false,
          "outputs_hidden": false
        },
        "nteract": {
          "transient": {
            "deleting": false
          }
        }
      },
      "source": [
        "# sql=f'''DROP TABLE IF EXISTS int_conflicten.onbereikbaar_melvinid;\r\n",
        "# CREATE TABLE int_conflicten.onbereikbaar_melvinid AS (\r\n",
        "#     SELECT melvin.melvin_id, onbereikbaarheid.*\r\n",
        "#     from (\r\n",
        "#         --Als er meerdere wegsegmenten in 1x worden afgesloten, staat dezelfde melvin_id meerdere keren in de tabel\r\n",
        "#         SELECT DISTINCT melvin_id\r\n",
        "#         FROM int_conflicten.ndw_wegvakken_werkzaamheden\r\n",
        "#     ) AS melvin,\r\n",
        "#     LATERAL ST_Bereikbaarheid_vehicle_melvinid({wellconnectednode},melvin.melvin_id) AS onbereikbaarheid\r\n",
        "# );'''\r\n",
        "# cur.execute(sql)"
      ],
      "attachments": null,
      "outputs": [],
      "execution_count": 5
    },
    {
      "cell_type": "code",
      "metadata": {
        "jupyter": {
          "source_hidden": false,
          "outputs_hidden": false
        },
        "nteract": {
          "transient": {
            "deleting": false
          }
        }
      },
      "source": [
        "sql_lookup=f'''\r\n",
        "SELECT DISTINCT melvin_id\r\n",
        "FROM int_conflicten.ndw_wegvakken_werkzaamheden\r\n",
        "ORDER BY melvin_id'''\r\n",
        "cur.execute(sql_lookup)\r\n",
        "data=cur.fetchall()\r\n",
        "melvin_ids = [item for sublist in data for item in sublist]\r\n",
        "\r\n",
        "sql_create=f'''DROP TABLE IF EXISTS int_conflicten.onbereikbaar_melvinid;\r\n",
        "CREATE TABLE int_conflicten.onbereikbaar_melvinid (\r\n",
        "    melvin_id INT,\r\n",
        "\tvehicleid INT,\r\n",
        "    roadid int,\r\n",
        "    statuscode INT,\r\n",
        "    geom GEOMETRY\r\n",
        ");'''\r\n",
        "cur.execute(sql_create)\r\n",
        "\r\n",
        "for melvin in melvin_ids:\r\n",
        "    # print(melvin)\r\n",
        "    sql_insert=f'''INSERT INTO int_conflicten.onbereikbaar_melvinid(melvin_id,vehicleid,roadid,statuscode,geom)\r\n",
        "        SELECT {melvin} as melvin_id, onbereikbaarheid.*\r\n",
        "        FROM ST_Bereikbaarheid_vehicle_melvinid({wellconnectednode},{melvin}) AS onbereikbaarheid'''\r\n",
        "    cur.execute(sql_insert)"
      ],
      "attachments": null,
      "outputs": [],
      "execution_count": 26
    },
    {
      "cell_type": "markdown",
      "metadata": {
        "nteract": {
          "transient": {
            "deleting": false
          }
        }
      },
      "source": [
        "## Conflicten\r\n",
        "Conflicten ontstaan als meerdere wegwerkzaamheden samen een groter effect op de bereikbaarheid hebben dan de wegwerkzaamheden afzonderlijk\r\n",
        "\r\n",
        "Dit is bijna volledig een kopie van ST_bereikbaarheid, maar gebruikt een conflictid ipv melvinid.\r\n",
        "\r\n",
        "Het is netter als deze 2 functies nog samengevoegd worden"
      ],
      "attachments": null,
      "outputs": []
    },
    {
      "cell_type": "code",
      "metadata": {
        "jupyter": {
          "source_hidden": false,
          "outputs_hidden": false
        },
        "nteract": {
          "transient": {
            "deleting": false
          }
        }
      },
      "source": [
        "# conflictid wordt gebruikt om (via tabel int_conflicten.conflict_potential) op te zoeken welke melvinid bij welk conflictid horen en zo de bereikbaarheid van gekoppelde wegwerkzaamheden te berekenen\r\n",
        "sql='''DROP FUNCTION IF EXISTS ST_Bereikbaarheid_conflict;\r\n",
        "CREATE FUNCTION ST_Bereikbaarheid_conflict (\r\n",
        "    vehicle VARCHAR,\r\n",
        "    aanhanger BOOLEAN,\r\n",
        "    l FLOAT,\r\n",
        "    b FLOAT,\r\n",
        "    h FLOAT,\r\n",
        "    aslast FLOAT,\r\n",
        "    totaalgewicht FLOAT,\r\n",
        "    startpoint INT,\r\n",
        "    conflictid INT\r\n",
        ")\r\n",
        "RETURNS TABLE(id int, statuscode INT, geom GEOMETRY) AS $$\r\n",
        "    select v.id,\r\n",
        "        v.bereikbaar_status_code,\r\n",
        "        v.geom \r\n",
        "    from (\r\n",
        "        select\r\n",
        "            abs(n.id) as id,\r\n",
        "            max(case\r\n",
        "                when n.cost is NULL then 333  --Eenrichtingsverkeer?\r\n",
        "                when routing.agg_cost is null then 222 --Onbereikbaar via andere links?\r\n",
        "                -- Wegvak niet begaanbaar voor dit voertuig?\r\n",
        "                when \r\n",
        "                    -- verbod voor dit voertuigtype\r\n",
        "                    CASE\r\n",
        "                        WHEN vehicle = 'auto' AND n.c06 > 0 THEN TRUE\r\n",
        "                        WHEN vehicle = 'vrachtauto' AND n.c07 > 0 OR n.c07b > 0 THEN TRUE\r\n",
        "                        WHEN vehicle = 'bus' AND n.c07a > 0 OR n.c07b > 0 THEN TRUE\r\n",
        "                        WHEN vehicle = 'trekker' AND n.c08 > 0 OR n.c09 > 0 THEN TRUE\r\n",
        "                        ELSE false\r\n",
        "                    END = true\r\n",
        "                    or n.c10 > 0 and aanhanger = true\r\n",
        "                    or n.c01 is not null\r\n",
        "                    or n.c17 < l\r\n",
        "                    or n.c18 < b\r\n",
        "                    or n.c19 < h\r\n",
        "                    or n.c20 < totaalgewicht\r\n",
        "                    or n.c21 < aslast\r\n",
        "                then 222\r\n",
        "                else 999\r\n",
        "            end\r\n",
        "        ) as bereikbaar_status_code,\r\n",
        "            g.geom as geom\r\n",
        "        -- In plaats van de gewone bebording tabel, gebruik een aangepaste tabel\r\n",
        "        -- from prd_ndw_borden.nwb_wegvakken_bebording AS n\r\n",
        "        from (\r\n",
        "            SELECT id,source,target,spd,cost,c01,c06,c07,c07a,c07b,c08,c09,c10,c11,c12,c17,c18,c19,c20,c21,geom\r\n",
        "            FROM prd_ndw_borden.nwb_wegvakken_bebording\r\n",
        "            -- Negeer wegsegmenten met werkzaamheden\r\n",
        "            WHERE id NOT IN (\r\n",
        "                SELECT id\r\n",
        "                FROM int_conflicten.ndw_wegvakken_werkzaamheden\r\n",
        "                WHERE melvin_id IN (SELECT melvin_id::int FROM int_conflicten.conflict_potential AS cp WHERE cp.conflict_id=conflictid)\r\n",
        "            )\r\n",
        "            -- Voeg de nieuwe/tijdelijke situatie van wegvakken met werkzaamheden toe\r\n",
        "            UNION\r\n",
        "            SELECT id,source,target,spd,cost,c01,c06,c07,c07a,c07b,c08,c09,c10,c11,c12,c17,c18,c19,c20,c21,geom\r\n",
        "            FROM int_conflicten.ndw_wegvakken_werkzaamheden\r\n",
        "            WHERE melvin_id IN (SELECT melvin_id::int FROM int_conflicten.conflict_potential AS cp WHERE cp.conflict_id=conflictid)\r\n",
        "        ) AS n\r\n",
        "        left join (\r\n",
        "            SELECT start_vid as source,\r\n",
        "                end_vid as target,\r\n",
        "                agg_cost\r\n",
        "            FROM pgr_dijkstraCost('\r\n",
        "                select id, source, target, cost\r\n",
        "                from (\r\n",
        "                    SELECT id,source,target,spd,cost,c01,c06,c07,c07a,c07b,c08,c09,c10,c11,c12,c17,c18,c19,c20,c21,geom\r\n",
        "                    FROM prd_ndw_borden.nwb_wegvakken_bebording\r\n",
        "                    WHERE id NOT IN (\r\n",
        "                        SELECT id\r\n",
        "                        FROM int_conflicten.ndw_wegvakken_werkzaamheden\r\n",
        "                        WHERE melvin_id IN (SELECT melvin_id::int FROM int_conflicten.conflict_potential AS cp WHERE cp.conflict_id='||conflictid||')\r\n",
        "                    ) \r\n",
        "                    UNION\r\n",
        "                    SELECT id,source,target,spd,cost,c01,c06,c07,c07a,c07b,c08,c09,c10,c11,c12,c17,c18,c19,c20,c21,geom\r\n",
        "                    FROM int_conflicten.ndw_wegvakken_werkzaamheden\r\n",
        "                    WHERE melvin_id IN (SELECT melvin_id::int FROM int_conflicten.conflict_potential AS cp WHERE cp.conflict_id='||conflictid||')\r\n",
        "                ) as borden\r\n",
        "                where cost > 0\r\n",
        "                and (\r\n",
        "                    (( -.01 + '||l||' ) < c17 or c17 is null)\r\n",
        "                    and (( -.01 + '||b||' ) < c18 or c18 is null)\r\n",
        "                    and (( -.01 + '||h||' ) < c19 or c19 is null)\r\n",
        "                    and (( -1 + '||totaalgewicht||' ) < c20 or c20 is null)\r\n",
        "                    and (( -1 + '||aslast||' ) < c21 or c21 is null)\r\n",
        "                    and ((c01 < 1) or c01 is null)\r\n",
        "                    -- Voertuigbeperking\r\n",
        "                    and (\r\n",
        "                        -- auto\r\n",
        "                        c06 < 1\r\n",
        "                        or '||vehicle||' != ''auto''\r\n",
        "                    )\r\n",
        "                    and (\r\n",
        "                        -- vrachtwagen\r\n",
        "                        (c07 < 1 and c07b < 1)\r\n",
        "                        or '||vehicle||' != ''vrachtwagen''\r\n",
        "                        or '||totaalgewicht||' <= 3500\r\n",
        "                    )\r\n",
        "                    and (\r\n",
        "                        -- bus\r\n",
        "                        (c07a < 1 and c07b < 1)\r\n",
        "                        or '||vehicle||' != ''bus''\r\n",
        "                    )\r\n",
        "                    and (\r\n",
        "                        -- trekker\r\n",
        "                        (c08 < 1 and c09 < 1)\r\n",
        "                        or '||vehicle||' != ''trekker''\r\n",
        "                    )\r\n",
        "                    and (\r\n",
        "                        -- aanhanger\r\n",
        "                        c10 < 1\r\n",
        "                        or '||aanhanger||' is false\r\n",
        "                    )\r\n",
        "                )',\r\n",
        "                startPoint,\r\n",
        "                array(\r\n",
        "                    select node\r\n",
        "                    from prd_ndw_wegen.nwb_wegvakken_nodes\r\n",
        "                )\r\n",
        "            ) as pgr_cost\r\n",
        "        ) as routing on n.source = routing.target\r\n",
        "\r\n",
        "        left join prd_ndw_borden.nwb_wegvakken_bebording AS g\r\n",
        "            on abs(n.id) = g.id\r\n",
        "            where abs(n.id) in (\r\n",
        "                select id from prd_ndw_borden.nwb_wegvakken_bebording\r\n",
        "                where id > 0\r\n",
        "            )\r\n",
        "            and n.cost > 0\r\n",
        "\r\n",
        "        group by abs(n.id), g.geom\r\n",
        "        order by abs(n.id)\r\n",
        "    ) AS v\r\n",
        "    where v.bereikbaar_status_code <> 999;\r\n",
        "$$ LANGUAGE SQL;'''\r\n",
        "cur.execute(sql)"
      ],
      "attachments": null,
      "outputs": []
    },
    {
      "cell_type": "code",
      "metadata": {
        "jupyter": {
          "source_hidden": false,
          "outputs_hidden": false
        },
        "nteract": {
          "transient": {
            "deleting": false
          }
        }
      },
      "source": [
        "# Output: additionele wegsegmenten die onbereikbaar worden vanwege _combinatie_ van wegwerkzaamheden (aangeduidt met een conflictid)\r\n",
        "# Runs for all rows in the vehicles table\r\n",
        "sql='''DROP FUNCTION IF EXISTS ST_Bereikbaarheid_vehicle_conflictid;\r\n",
        "CREATE FUNCTION ST_Bereikbaarheid_vehicle_conflictid (\r\n",
        "    startpoint INT, -- DEFAULT 254441013\r\n",
        "    conflictid INT\r\n",
        ")\r\n",
        "RETURNS TABLE(vehicleid INT, roadid int, statuscode INT, geom GEOMETRY) AS $$\r\n",
        "    SELECT veh.id as vehicle, roads.*\r\n",
        "    FROM stg_conflicten.vehicles AS veh,\r\n",
        "    LATERAL (\r\n",
        "        SELECT *\r\n",
        "        FROM ST_Bereikbaarheid_conflict(veh.v_type,veh.trailer,veh.v_length,veh.v_width,veh.v_height,veh.v_axleload,veh.v_weight,startpoint,conflictid) as roadworks_full \r\n",
        "        WHERE roadworks_full.id NOT IN (\r\n",
        "            -- onbereikbaar voor dit voertuig ongeacht wegwerkzaamheid\r\n",
        "            SELECT default_full.id::int\r\n",
        "            FROM int_conflicten.vehicles_default_bereikbaarheid as default_full\r\n",
        "            WHERE default_full.vehicle_id = veh.id\r\n",
        "            UNION\r\n",
        "            -- onbereikbaar door 1 v/d losse wegwerkzaamheden\r\n",
        "            SELECT roadid::int\r\n",
        "            FROM int_conflicten.onbereikbaar_melvinid as individual_roadworks\r\n",
        "            WHERE (melvin_id::int) IN (SELECT melvin_id::int FROM int_conflicten.conflict_potential AS cp WHERE cp.conflict_id=conflictid)\r\n",
        "                and individual_roadworks.vehicleid = veh.id\r\n",
        "        )\r\n",
        "    ) AS roads;\r\n",
        "$$ LANGUAGE SQL;'''\r\n",
        "cur.execute(sql)"
      ],
      "attachments": null,
      "outputs": []
    },
    {
      "cell_type": "markdown",
      "metadata": {
        "nteract": {
          "transient": {
            "deleting": false
          }
        }
      },
      "source": [
        "## Potentiele conflicten\r\n",
        "\r\n",
        "Wegwerkzaamheden intelligent koppelen als potentieel conflictueus: als ze zowel in ruimte als tijd in elkaars buurt liggen"
      ],
      "attachments": null,
      "outputs": []
    },
    {
      "cell_type": "code",
      "metadata": {
        "jupyter": {
          "source_hidden": false,
          "outputs_hidden": false
        },
        "nteract": {
          "transient": {
            "deleting": false
          }
        }
      },
      "source": [
        "sql='''-- create timeintervals in which to check for conflicts\r\n",
        "DROP TABLE IF EXISTS int_conflicten.intervaltable;\r\n",
        "CREATE TABLE int_conflicten.intervaltable AS (\r\n",
        "    SELECT time, \r\n",
        "        CASE \r\n",
        "            WHEN (SELECT count(*) FROM int_conflicten.onbereikbaar_conflictid_history) = 0 THEN row_number() OVER(ORDER BY time)::INT\r\n",
        "            ELSE (SELECT MAX(conflict_id) FROM int_conflicten.onbereikbaar_conflictid_history)+row_number() OVER(ORDER BY time)::INT\r\n",
        "        END AS interval_id\r\n",
        "    FROM (\r\n",
        "        SELECT (timeperiod_startDate) as time \r\n",
        "        FROM int_conflicten.ndw_werkzaamheden_wvid_cleaned \r\n",
        "        UNION \r\n",
        "        SELECT (timeperiod_endDate+'7 days'::interval) as time \r\n",
        "        FROM int_conflicten.ndw_werkzaamheden_wvid_cleaned\r\n",
        "    ) as t\r\n",
        ");'''\r\n",
        "cur.execute(sql)"
      ],
      "attachments": null,
      "outputs": []
    },
    {
      "cell_type": "code",
      "metadata": {
        "jupyter": {
          "source_hidden": false,
          "outputs_hidden": false
        },
        "nteract": {
          "transient": {
            "deleting": false
          }
        }
      },
      "source": [
        "sql='''-- join intervals to the melvin_ids that occupy that interval\r\n",
        "DROP TABLE IF EXISTS int_conflicten.conflict_potential;\r\n",
        "CREATE TABLE int_conflicten.conflict_potential AS (\r\n",
        "    SELECT \r\n",
        "        i.time AS startDate\r\n",
        "        ,j.time as endDate\r\n",
        "        ,i.interval_id AS conflict_id\r\n",
        "        ,melvin.melvin_id\r\n",
        "    FROM int_conflicten.intervaltable AS i\r\n",
        "    ,LATERAL (\r\n",
        "        SELECT time\r\n",
        "        FROM int_conflicten.intervaltable AS jt\r\n",
        "        WHERE jt.time>i.time \r\n",
        "        ORDER BY jt.time ASC \r\n",
        "        LIMIT 1\r\n",
        "    ) AS j\r\n",
        "    ,LATERAL (\r\n",
        "        SELECT DISTINCT melvin_id \r\n",
        "        FROM int_conflicten.ndw_werkzaamheden_wvid_cleaned  \r\n",
        "        WHERE (timeperiod_startDate)<=j.time\r\n",
        "        and (timeperiod_endDate+'7 days'::interval)>=i.time\r\n",
        "    ) as melvin\r\n",
        "    ORDER BY i.time\r\n",
        ");'''\r\n",
        "cur.execute(sql)"
      ],
      "attachments": null,
      "outputs": []
    },
    {
      "cell_type": "code",
      "metadata": {
        "jupyter": {
          "source_hidden": false,
          "outputs_hidden": false
        },
        "nteract": {
          "transient": {
            "deleting": false
          }
        }
      },
      "source": [
        "# # for each interval, run the ST_Bereikbaarheid_vehicle_conflictid\r\n",
        "# # create table containing all onbereikbaar links, for all vehicle types, for all roadworks/melvinIDs\r\n",
        "# sql=f'''DROP TABLE IF EXISTS int_conflicten.onbereikbaar_conflictid;\r\n",
        "# CREATE TABLE int_conflicten.onbereikbaar_conflictid AS (\r\n",
        "#     SELECT cp.conflict_id::int, onbereikbaarheid.*\r\n",
        "#     from (\r\n",
        "#         SELECT DISTINCT conflict_id::int\r\n",
        "#         FROM int_conflicten.conflict_potential\r\n",
        "#     ) AS cp,\r\n",
        "#     LATERAL ST_Bereikbaarheid_vehicle_conflictid({wellconnectednode},cp.conflict_id::INT) AS onbereikbaarheid\r\n",
        "# );'''\r\n",
        "# cur.execute(sql)"
      ],
      "attachments": null,
      "outputs": []
    },
    {
      "cell_type": "code",
      "metadata": {
        "jupyter": {
          "source_hidden": false,
          "outputs_hidden": false
        },
        "nteract": {
          "transient": {
            "deleting": false
          }
        }
      },
      "source": [
        "sql_lookup=f'''\r\n",
        "SELECT DISTINCT conflict_id::int\r\n",
        "FROM int_conflicten.conflict_potential'''\r\n",
        "cur.execute(sql_lookup)\r\n",
        "data=cur.fetchall()\r\n",
        "conflict_ids = [item for sublist in data for item in sublist]\r\n",
        "\r\n",
        "sql_create=f'''DROP TABLE IF EXISTS int_conflicten.onbereikbaar_conflictid;\r\n",
        "CREATE TABLE int_conflicten.onbereikbaar_conflictid (\r\n",
        "    conflict_id INT,\r\n",
        "\tvehicleid INT,\r\n",
        "    roadid int,\r\n",
        "    statuscode INT,\r\n",
        "    geom GEOMETRY\r\n",
        ");'''\r\n",
        "cur.execute(sql_create)\r\n",
        "\r\n",
        "for conflict in conflict_ids:\r\n",
        "    print(conflict)\r\n",
        "    sql_insert=f'''INSERT INTO int_conflicten.onbereikbaar_conflictid(conflict_id,vehicleid,roadid,statuscode,geom)\r\n",
        "        SELECT {conflict} as conflict_id, onbereikbaarheid.*\r\n",
        "        FROM ST_Bereikbaarheid_vehicle_conflictid({wellconnectednode},{conflict}) AS onbereikbaarheid'''\r\n",
        "    cur.execute(sql_insert)"
      ],
      "attachments": null,
      "outputs": []
    },
    {
      "cell_type": "code",
      "metadata": {
        "jupyter": {
          "source_hidden": false,
          "outputs_hidden": false
        },
        "nteract": {
          "transient": {
            "deleting": false
          }
        }
      },
      "source": [
        "# # Compare onbereikbaar_conflictid to known conflicts\r\n",
        "# # Ignore cases of partical overlap for now\r\n",
        "# sql='''DROP FUNCTION IF EXISTS ST_check_history;\r\n",
        "# CREATE FUNCTION ST_check_history(c_id INT, vehicle INT) RETURNS void AS $$\r\n",
        "#     DECLARE\r\n",
        "#         var_melvin_id_array INT[] := ARRAY(\r\n",
        "#             SELECT melvin_id\r\n",
        "#             FROM int_conflicten.conflict_potential AS cp\r\n",
        "#             WHERE cp.conflict_id=c_id\r\n",
        "#         );\r\n",
        "#         var_c_id INT;\r\n",
        "#         var_time timestamp;\r\n",
        "#     BEGIN\r\n",
        "#         SELECT cp.startDate\r\n",
        "#         FROM int_conflicten.conflict_potential AS cp\r\n",
        "#         INTO var_time\r\n",
        "#         WHERE cp.conflict_id=c_id;\r\n",
        "\r\n",
        "#         SELECT och.conflict_id\r\n",
        "#         FROM int_conflicten.onbereikbaar_conflictid_history AS och\r\n",
        "#         INTO var_c_id\r\n",
        "#         WHERE och.melvin_id_array = var_melvin_id_array;\r\n",
        "\r\n",
        "#         if not found then\r\n",
        "#             INSERT INTO int_conflicten.onbereikbaar_conflictid_history\r\n",
        "#             VALUES(var_time,c_id,var_melvin_id_array,vehicle,'new');\r\n",
        "#         -- else\r\n",
        "#         --     raise notice '';\r\n",
        "#         end if;\r\n",
        "#     END;\r\n",
        "# $$ LANGUAGE plpgsql;'''\r\n",
        "# cur.execute(sql)"
      ],
      "attachments": null,
      "outputs": []
    },
    {
      "cell_type": "code",
      "metadata": {
        "jupyter": {
          "source_hidden": false,
          "outputs_hidden": false
        },
        "nteract": {
          "transient": {
            "deleting": false
          }
        }
      },
      "source": [
        "# # Compare onbereikbaar_conflictid to known conflicts\r\n",
        "# # Ignore cases of partical overlap for now\r\n",
        "# sql='''DROP FUNCTION IF EXISTS ST_check_current;\r\n",
        "# CREATE FUNCTION ST_check_current(conflict_id INT,var_melvin_id_array INT[]) RETURNS void AS $$\r\n",
        "#     DECLARE\r\n",
        "#         var_melvin_id_array INT[] := ARRAY(\r\n",
        "#             SELECT melvin_id\r\n",
        "#             FROM int_conflicten.conflict_potential AS cp\r\n",
        "#             WHERE cp.conflict_id=conflict_id\r\n",
        "#         );\r\n",
        "#         var_conflict_id INT;\r\n",
        "#         var_time timestamp;\r\n",
        "#     BEGIN\r\n",
        "#         -- make Temp table for melvin_id_array lookup\r\n",
        "#         DROP TABLE IF EXISTS int_conflicten.conflict_potential_array_tempTable;\r\n",
        "#         CREATE TABLE int_conflicten.conflict_potential_array_tempTable AS (\r\n",
        "#             SELECT cp.conflict_id, \r\n",
        "#                 ARRAY(\r\n",
        "#                     SELECT melvin_id\r\n",
        "#                     FROM int_conflicten.conflict_potential AS cp2\r\n",
        "#                     WHERE cp2.conflict_id=cp.conflict_id\r\n",
        "#                 ) as melvin_id_array\r\n",
        "#             from (\r\n",
        "#                 SELECT DISTINCT cp3.conflict_id\r\n",
        "#                 FROM int_conflicten.conflict_potential as cp3\r\n",
        "#             ) AS cp\r\n",
        "#         );\r\n",
        "\r\n",
        "#         SELECT och.conflict_id\r\n",
        "#         FROM int_conflicten.conflict_potential_array_tempTable AS oc\r\n",
        "#         INTO var_conflict_id\r\n",
        "#         WHERE oc.melvin_id_array = var_melvin_id_array;\r\n",
        "\r\n",
        "#         if not found then\r\n",
        "#             UPDATE int_conflicten.onbereikbaar_conflictid_history as hist\r\n",
        "#             SET hist.statuscode = 'solved in source (Melvin)'\r\n",
        "#             WHERE hist.conflict_id = conflict_id;\r\n",
        "#         -- else\r\n",
        "#         --     raise notice '';\r\n",
        "#         end if;\r\n",
        "#     END;\r\n",
        "# $$ LANGUAGE plpgsql;'''\r\n",
        "# cur.execute(sql)"
      ],
      "attachments": null,
      "outputs": []
    },
    {
      "cell_type": "markdown",
      "metadata": {
        "nteract": {
          "transient": {
            "deleting": false
          }
        }
      },
      "source": [
        "## Queries to display results in WebApp"
      ],
      "attachments": null,
      "outputs": []
    },
    {
      "cell_type": "code",
      "metadata": {
        "jupyter": {
          "source_hidden": false,
          "outputs_hidden": false
        },
        "nteract": {
          "transient": {
            "deleting": false
          }
        }
      },
      "source": [
        "# Seperate roadworks\r\n",
        "sql='''DROP TABLE IF EXISTS prd_conflicten.displayTable_melvin;\r\n",
        "CREATE TABLE prd_conflicten.displayTable_melvin AS (\r\n",
        "    SELECT om.melvin_id AS id, v.v_type as prototype_vehicle, roadid, m.city, m.roadname, m.roadauthority, s.source, m.timeperiod_startDate AS startdate, m.timeperiod_endDate as enddate, geom\r\n",
        "    FROM int_conflicten.onbereikbaar_melvinid AS om\r\n",
        "    LEFT JOIN stg_conflicten.vehicles AS v\r\n",
        "    ON om.vehicleid=v.id\r\n",
        "    -- add time information\r\n",
        "    LEFT JOIN (\r\n",
        "        SELECT *, row_number() over (partition by melvin_id order by road_id) as rn\r\n",
        "        FROM int_conflicten.ndw_werkzaamheden_wvid_cleaned\r\n",
        "    ) AS m\r\n",
        "    ON om.melvin_id=(m.melvin_id::int)\r\n",
        "    AND m.rn=1\r\n",
        "    -- source column\r\n",
        "    LEFT JOIN (\r\n",
        "        SELECT road_id, 'melvin' AS source\r\n",
        "        from int_conflicten.ndw_werkzaamheden_wvid_cleaned AS m2\r\n",
        "        UNION\r\n",
        "        SELECT roadid as road_id, 'query' AS source\r\n",
        "        FROM int_conflicten.onbereikbaar_melvinid AS om2\r\n",
        "        WHERE om2.roadid NOT IN (SELECT road_id FROM int_conflicten.ndw_werkzaamheden_wvid_cleaned)\r\n",
        "    ) as s\r\n",
        "    ON roadid = s.road_id\r\n",
        "    ORDER BY m.timeperiod_startDate, om.melvin_id, om.roadid, v.v_type\r\n",
        ");'''\r\n",
        "cur.execute(sql)"
      ],
      "attachments": null,
      "outputs": []
    },
    {
      "cell_type": "code",
      "metadata": {
        "jupyter": {
          "source_hidden": false,
          "outputs_hidden": false
        },
        "nteract": {
          "transient": {
            "deleting": false
          }
        }
      },
      "source": [
        "# conflicts\r\n",
        "sql='''DROP TABLE IF EXISTS prd_conflicten.displayTable_conflict;\r\n",
        "CREATE TABLE prd_conflicten.displayTable_conflict AS (\r\n",
        "    SELECT DISTINCT oc.conflict_id AS id, oc.roadid, w.geom\r\n",
        "                    ,cp.source, cp.startdate, cp.enddate\r\n",
        "                    ,v.v_type as prototype_vehicle\r\n",
        "                    ,ws.wvk_id as road_id, ws.wegbehnaam as roadauthority\r\n",
        "    FROM int_conflicten.onbereikbaar_conflictid AS oc\r\n",
        "    LEFT JOIN stg_conflicten.vehicles AS v\r\n",
        "    ON oc.vehicleid=v.id\r\n",
        "    LEFT JOIN (\r\n",
        "        SELECT cp1.conflict_id, cp1.startdate, cp1.enddate, 'conflict' AS source, row_number() over (partition by conflict_id order by melvin_id) as rn\r\n",
        "        FROM int_conflicten.conflict_potential as cp1\r\n",
        "        UNION\r\n",
        "        (\r\n",
        "            SELECT cp2.conflict_id, cp2.startdate, cp2.enddate, 'component' AS source, 1 as rn\r\n",
        "            FROM int_conflicten.conflict_potential as cp2\r\n",
        "        )\r\n",
        "    ) AS cp\r\n",
        "    ON oc.conflict_id=cp.conflict_id AND cp.rn=1\r\n",
        "    LEFT JOIN prd_ndw_borden.nwb_wegvakken_bebording as w\r\n",
        "    ON oc.roadid=w.id\r\n",
        "    LEFT JOIN stg_ndw_wegen.nwb_raw_subselection as ws\r\n",
        "    ON oc.roadid=ws.wvk_id\r\n",
        "    ORDER BY cp.startdate, oc.conflict_id, oc.roadid, prototype_vehicle\r\n",
        ");'''\r\n",
        "cur.execute(sql)"
      ],
      "attachments": null,
      "outputs": []
    },
    {
      "cell_type": "code",
      "metadata": {
        "jupyter": {
          "source_hidden": false,
          "outputs_hidden": false
        },
        "nteract": {
          "transient": {
            "deleting": false
          }
        }
      },
      "source": [
        "# status\r\n",
        "sql='''DROP TABLE IF EXISTS prd_conflicten.displayTable_conflict_status;\r\n",
        "CREATE TABLE prd_conflicten.displayTable_conflict_status AS (\r\n",
        "    SELECT statuscode, count(*)\r\n",
        "    FROM int_conflicten.onbereikbaar_conflictid_history\r\n",
        "    GROUP BY statuscode\r\n",
        ");'''\r\n",
        "cur.execute(sql)"
      ],
      "attachments": null,
      "outputs": []
    }
  ],
  "entityState": null,
  "renameOperationDetails": null,
  "targetSparkConfiguration": null
}
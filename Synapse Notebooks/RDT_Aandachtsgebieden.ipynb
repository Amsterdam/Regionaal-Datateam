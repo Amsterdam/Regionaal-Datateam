{
  "description": null,
  "sessionProperties": {
    "driverMemory": "28g",
    "driverCores": 4,
    "executorMemory": "28g",
    "executorCores": 4,
    "numExecutors": 2
  },
  "metadata": {
    "kernelspec": {
      "name": "synapse_pyspark",
      "display_name": "Synapse PySpark"
    },
    "language_info": {
      "name": "python",
      "codemirror_mode": null
    },
    "a365ComputeOptions": {
      "id": "/subscriptions/00000000-0000-0000-0000-000000000000/resourceGroups/rg-redacted/providers/Microsoft.Synapse/workspaces/redacted/bigDataPools/redacted",
      "name": "redacted",
      "type": "Spark",
      "endpoint": "https://redacted.dev.azuresynapse.net/livyApi/versions/2019-11-01-preview/sparkPools/redacted",
      "auth": {
        "type": "AAD",
        "authResource": "https://dev.azuresynapse.net",
        "authHeader": null
      },
      "sparkVersion": "3.1",
      "nodeCount": 10,
      "cores": 4,
      "memory": 28,
      "extraHeader": null
    },
    "sessionKeepAliveTimeout": 30,
    "saveOutput": true,
    "enableDebugMode": false
  },
  "nbformat": 4,
  "nbformat_minor": 2,
  "cells": [
    {
      "cell_type": "markdown",
      "metadata": {
        "nteract": {
          "transient": {
            "deleting": false
          }
        }
      },
      "source": [
        "# Beschermde gebieden: inzichtelijk maken van berijden door zwaar vrachtverkeer van kwetsbare assets\r\n",
        "Op basis van de bereikbaarheidscasus (verkeersborden) kunnen we gebieden aanwijzen waar een gewichtsbeperking (totaal of aslast) geldt. De aanname is dat deze beperking een kwetsbaarheid in het wegdeel impliceert, bijvoorbeeld een kade of brug. Vrachtverkeer dat aan deze beperkingen voeldoet is toegestaan, maar nog steeds niet wenselijk gezien het kan leiden tot extra onderhoud. \r\n",
        "\r\n",
        "Inputs voor deze casus zijn:\r\n",
        "- Alle wegdelen (met ID)\r\n",
        "- (ID van) kwetsbare wegdelen\r\n",
        "- GPS locaties van waar vrachtverkeer heeft gereden (op basis van Bridgestone data)\r\n",
        "## Nog te doen\r\n",
        "- Koppeling van traces is nu in absolute counts van distinct sessionIDs, niet genormaliseerd naar weglengte\r\n",
        "- Korte wegdelen hebben daardoor een onder-represented intensity, omdat de kans klein is dat de vrachtwagen gelogd is"
      ],
      "attachments": null,
      "outputs": []
    },
    {
      "cell_type": "code",
      "metadata": {},
      "source": [
        "import psycopg2\r\n",
        "try:\r\n",
        "    postgres_pw = TokenLibrary.getSecret(\"redacted\", \"redacted\", \"redacted\")\r\n",
        "    conn = psycopg2.connect(dbname=\"rdt_dev\",user=\"redacted\",host=\"redacted\",password=postgres_pw)\r\n",
        "    conn.autocommit = True\r\n",
        "    cur=conn.cursor()\r\n",
        "    print(\"Database connected\")\r\n",
        "except:\r\n",
        "    print(\"I am unable to connect to the database\")"
      ],
      "attachments": null,
      "outputs": [],
      "execution_count": 1
    },
    {
      "cell_type": "markdown",
      "metadata": {
        "nteract": {
          "transient": {
            "deleting": false
          }
        }
      },
      "source": [
        "## Identificeren kwetsbare wegdelen.\r\n",
        "Als er een gewichtsbeperking (aslast of lading) geldt, dan impliceert dit mogelijk een kwetbaar wegdeel. Dit kan bijvoorbeeld een brug of kade zijn.\r\n",
        "\r\n",
        "Berekenen kan door het bereikbaarheidsalgoritme te runnen, maar waar voertuigtype en lengte/breedte/hoogte wordt genegeerd"
      ],
      "attachments": null,
      "outputs": []
    },
    {
      "cell_type": "code",
      "metadata": {
        "jupyter": {
          "source_hidden": false,
          "outputs_hidden": false
        },
        "nteract": {
          "transient": {
            "deleting": false
          }
        }
      },
      "source": [
        "# Changing the Geom of kwetsbare wegdelen\r\n",
        "sql='''drop table if exists stg_aandachtsgebieden.ndw_kwetsbarewegdelen;\r\n",
        "CREATE TABLE stg_aandachtsgebieden.ndw_kwetsbarewegdelen\r\n",
        "AS (\r\n",
        "select v.id,\r\n",
        "    CASE \r\n",
        "        when v.bereikbaar_status_code = 333 then 333\r\n",
        "        when v.bereikbaar_status_code = 222 then 222\r\n",
        "        else 999\r\n",
        "    end as bereikbaar_status_code,\r\n",
        "    -- ST_AsGeoJson(ST_AsText(ST_Transform(v.geom, 4326), 6)) as geom\r\n",
        "    v.geom as geom\r\n",
        "from (\r\n",
        "    select abs(n.id) as id,\r\n",
        "        max(case\r\n",
        "                when n.cost is NULL then 333  --Eenrichtingsverkeer?\r\n",
        "                when routing.agg_cost is null then 222 --Onbereikbaar via andere links?\r\n",
        "                -- Wegvak niet begaanbaar voor dit voertuig?\r\n",
        "                when \r\n",
        "                    n.c01 is not null -- verboden in te rijden\r\n",
        "                    or n.c20 is not null -- gewichtsbeperking\r\n",
        "                    or n.c21 is not null -- gewichtsbeperking\r\n",
        "                then 222\r\n",
        "                else 999\r\n",
        "            end\r\n",
        "        ) as bereikbaar_status_code,\r\n",
        "        g.geom as geom\r\n",
        "    from prd_ndw_borden.nwb_wegvakken_bebording AS n\r\n",
        "    left join (\r\n",
        "        SELECT start_vid as source,\r\n",
        "            end_vid as target,\r\n",
        "            agg_cost\r\n",
        "        FROM pgr_dijkstraCost('\r\n",
        "            select id, source, target, cost\r\n",
        "            from prd_ndw_borden.nwb_wegvakken_bebording\r\n",
        "            where cost > 0\r\n",
        "            and (\r\n",
        "                -- Alleen links zonder gewichtsbeperking gebruiken\r\n",
        "                c20 is null\r\n",
        "                and c21 is null\r\n",
        "                and ((c01 < 1) or c01 is null)\r\n",
        "            )',\r\n",
        "            208419012,\r\n",
        "            array(\r\n",
        "                select node\r\n",
        "                from prd_ndw_wegen.nwb_wegvakken_nodes\r\n",
        "            )\r\n",
        "        )\r\n",
        "    ) as routing on n.source = routing.target\r\n",
        "\r\n",
        "    left join prd_ndw_borden.nwb_wegvakken_bebording AS g\r\n",
        "        on abs(n.id) = g.id\r\n",
        "        where abs(n.id) in (\r\n",
        "            select id from prd_ndw_borden.nwb_wegvakken_bebording\r\n",
        "            where id > 0\r\n",
        "        )\r\n",
        "        and n.cost > 0\r\n",
        "\r\n",
        "    group by abs(n.id), g.geom\r\n",
        "    order by abs(n.id)\r\n",
        ") AS v\r\n",
        "where v.bereikbaar_status_code <> 999\r\n",
        ");'''\r\n",
        "cur.execute(sql)\r\n",
        "sql_meta='''CALL update_metadata('rdt_dev'::VARCHAR,'stg_aandachtsgebieden'::VARCHAR,'ndw_kwetsbarewegdelen'::VARCHAR,NOW(),'RDT_aandachtsgebieden'::VARCHAR,'calculation'::VARCHAR);'''\r\n",
        "cur.execute(sql_meta)"
      ],
      "attachments": null,
      "outputs": [],
      "execution_count": 8
    },
    {
      "cell_type": "code",
      "metadata": {
        "jupyter": {
          "source_hidden": false,
          "outputs_hidden": false
        },
        "nteract": {
          "transient": {
            "deleting": false
          }
        }
      },
      "source": [
        "# Changing the Geom of kwetsbare wegdelen\r\n",
        "sql='''DROP TABLE IF EXISTS int_aandachtsgebieden.ndw_kwetsbarewegdelen_28992 CASCADE;\r\n",
        "CREATE TABLE int_aandachtsgebieden.ndw_kwetsbarewegdelen_28992\r\n",
        "AS (\r\n",
        "    select  id, ST_TRANSFORM(geom, 28992) as geom\r\n",
        "    from stg_aandachtsgebieden.ndw_kwetsbarewegdelen\r\n",
        ");'''\r\n",
        "cur.execute(sql)\r\n",
        "sql_meta='''CALL update_metadata('rdt_dev'::VARCHAR,'int_aandachtsgebieden'::VARCHAR,'ndw_kwetsbarewegdelen_28992'::VARCHAR,NOW(),'RDT_aandachtsgebieden'::VARCHAR,'calculation'::VARCHAR);'''\r\n",
        "cur.execute(sql_meta)"
      ],
      "attachments": null,
      "outputs": [],
      "execution_count": 9
    },
    {
      "cell_type": "markdown",
      "metadata": {
        "nteract": {
          "transient": {
            "deleting": false
          }
        }
      },
      "source": [
        "## Koppelen van Bridgestone vrachtverkeer data aan wegdelen\r\n",
        "Tabel ndw_bereikbaarheid.traces_truck_raw bevat alleen data binnen 10 meter rondom een kwetsbaar wegdeel en bevat lon/lat maar geen geometry"
      ],
      "attachments": null,
      "outputs": []
    },
    {
      "cell_type": "code",
      "metadata": {
        "jupyter": {
          "source_hidden": false,
          "outputs_hidden": false
        },
        "nteract": {
          "transient": {
            "deleting": false
          }
        }
      },
      "source": [
        "# Create bbox for use in traces subselection\r\n",
        "sql='''DROP TABLE IF EXISTS int_aandachtsgebieden.ndw_kwetsbarewegdelen_bbox CASCADE;\r\n",
        "CREATE TABLE int_aandachtsgebieden.ndw_kwetsbarewegdelen_bbox\r\n",
        "AS (\r\n",
        "    SELECT id,\r\n",
        "        ROUND(SPLIT_PART(coords,' ',1)::float*10^6)::int as ll_lon,\r\n",
        "        ROUND(SPLIT_PART(coords,' ',2)::float*10^6)::int as ll_lat,\r\n",
        "        ROUND(SPLIT_PART(coords,' ',3)::float*10^6)::int as ur_lon,\r\n",
        "        ROUND(SPLIT_PART(coords,' ',4)::float*10^6)::int as ur_lat,\r\n",
        "        ST_MakeEnvelope(SPLIT_PART(coords,' ',1)::float,SPLIT_PART(coords,' ',2)::float,SPLIT_PART(coords,' ',3)::float,SPLIT_PART(coords,' ',4)::float,4326) as geom\r\n",
        "    FROM (\r\n",
        "        select id, REPLACE(SUBSTRING(box, 5, length(box)-5),',',' ') as coords\r\n",
        "        FROM (\r\n",
        "            SELECT id, ST_Extent(ST_TRANSFORM(ST_Buffer(geom,10),4326))::varchar as box\r\n",
        "            from int_aandachtsgebieden.ndw_kwetsbarewegdelen_28992\r\n",
        "            GROUP BY id\r\n",
        "        ) d\r\n",
        "    ) c\r\n",
        "    -- Texel uit data halen omdat het een los wegennetwerk is\r\n",
        "    WHERE   ROUND(SPLIT_PART(coords,' ',2)::float*10^6)::int < 52980000\r\n",
        "    OR     ROUND(SPLIT_PART(coords,' ',1)::float*10^6)::int > 4915000\r\n",
        ");'''\r\n",
        "cur.execute(sql)\r\n",
        "sql_meta='''CALL update_metadata('rdt_dev'::VARCHAR,'int_aandachtsgebieden'::VARCHAR,'ndw_kwetsbarewegdelen_bbox'::VARCHAR,NOW(),'RDT_aandachtsgebieden'::VARCHAR,'calculation'::VARCHAR);'''\r\n",
        "cur.execute(sql_meta)"
      ],
      "attachments": null,
      "outputs": [],
      "execution_count": 5
    },
    {
      "cell_type": "code",
      "metadata": {
        "jupyter": {
          "source_hidden": false,
          "outputs_hidden": false
        },
        "nteract": {
          "transient": {
            "deleting": false
          }
        }
      },
      "source": [
        "%run RDT/RDT_traces_vrachtverkeer_NH"
      ],
      "attachments": null,
      "outputs": [],
      "execution_count": 11
    },
    {
      "cell_type": "code",
      "metadata": {
        "jupyter": {
          "source_hidden": false,
          "outputs_hidden": false
        },
        "nteract": {
          "transient": {
            "deleting": false
          }
        }
      },
      "source": [
        "# Truck traces contain latitude longitude, but not a geometry.\r\n",
        "# Geometry can be constructed from latlong\r\n",
        "sql='''DROP TABLE IF EXISTS int_aandachtsgebieden.traces_truck_raw_geom CASCADE;\r\n",
        "CREATE TABLE int_aandachtsgebieden.traces_truck_raw_geom\r\n",
        "AS (\r\n",
        "    SELECT traces.*, ST_Transform(ST_SetSRID(ST_MakePoint(round(longitude/1E6, 7)::float, round(latitude/1E6, 7)::float), 4326), 28992) as geom\r\n",
        "    FROM stg_aandachtsgebieden.traces_truck_raw as traces\r\n",
        ");'''\r\n",
        "cur.execute(sql)\r\n",
        "sql_meta='''CALL update_metadata('rdt_dev'::VARCHAR,'int_aandachtsgebieden'::VARCHAR,'traces_truck_raw_geom'::VARCHAR,NOW(),'RDT_aandachtsgebieden'::VARCHAR,'calculation'::VARCHAR);'''\r\n",
        "cur.execute(sql_meta)"
      ],
      "attachments": null,
      "outputs": [],
      "execution_count": 2
    },
    {
      "cell_type": "markdown",
      "metadata": {
        "nteract": {
          "transient": {
            "deleting": false
          }
        }
      },
      "source": [
        "Selecteer alleen de wegdelen binnen 10m vanaf een kwetsbaar wegdeel. Dit versnelt de query waarbij traces aan een wegdeel worden gekoppeld.\r\n",
        "\r\n",
        "De buffer van 10m is nodig omdat de traces ook in een buffer rondom de wegdelen zijn genomen."
      ],
      "attachments": null,
      "outputs": []
    },
    {
      "cell_type": "code",
      "metadata": {
        "jupyter": {
          "source_hidden": false,
          "outputs_hidden": false
        },
        "nteract": {
          "transient": {
            "deleting": false
          }
        }
      },
      "source": [
        "# Create table with roads close to Kwetsbare wegdelen\r\n",
        "sql='''DROP TABLE IF EXISTS int_aandachtsgebieden.ndw_kwetsbarewegdelen_buffer10m_28992 CASCADE;\r\n",
        "CREATE TABLE int_aandachtsgebieden.ndw_kwetsbarewegdelen_buffer10m_28992\r\n",
        "AS (\r\n",
        "    SELECT id, geom\r\n",
        "    FROM (\r\n",
        "        SELECT id, ST_Transform(geom,28992) as geom\r\n",
        "        FROM prd_ndw_wegen.nwb_wegvakken_directed as r\r\n",
        "    ) as roads\r\n",
        "    WHERE ST_DWithin(roads.geom, (\r\n",
        "        -- Get closest KwetsbaarWegdeel to current road\r\n",
        "        SELECT roads_kwetsbaar.geom\r\n",
        "        FROM int_aandachtsgebieden.ndw_kwetsbarewegdelen_28992 as roads_kwetsbaar\r\n",
        "        ORDER BY roads_kwetsbaar.geom <-> roads.geom\r\n",
        "        LIMIT 1)\r\n",
        "    ,10) -- 10m\r\n",
        ");'''\r\n",
        "cur.execute(sql)\r\n",
        "sql_meta='''CALL update_metadata('rdt_dev'::VARCHAR,'int_aandachtsgebieden'::VARCHAR,'ndw_kwetsbarewegdelen_buffer10m_28992'::VARCHAR,NOW(),'RDT_aandachtsgebieden'::VARCHAR,'calculation'::VARCHAR);'''\r\n",
        "cur.execute(sql_meta)"
      ],
      "attachments": null,
      "outputs": [],
      "execution_count": 3
    },
    {
      "cell_type": "markdown",
      "metadata": {
        "nteract": {
          "transient": {
            "deleting": false
          }
        }
      },
      "source": [
        "Elke trace wordt gekoppeld aan een road_id"
      ],
      "attachments": null,
      "outputs": []
    },
    {
      "cell_type": "code",
      "metadata": {
        "jupyter": {
          "source_hidden": false,
          "outputs_hidden": false
        },
        "nteract": {
          "transient": {
            "deleting": false
          }
        }
      },
      "source": [
        "# Find ID of closest road and add it to the trace data\r\n",
        "sql='''DROP TABLE IF EXISTS int_aandachtsgebieden.traces_truck_raw_roadid CASCADE;\r\n",
        "CREATE TABLE int_aandachtsgebieden.traces_truck_raw_roadid\r\n",
        "AS (\r\n",
        "    SELECT traces.*, roads_closest.id\r\n",
        "    FROM int_aandachtsgebieden.traces_truck_raw_geom as traces\r\n",
        "    CROSS JOIN LATERAL (\r\n",
        "        SELECT roads_selection.id, roads_selection.geom, roads_selection.geom <-> traces.geom AS dist\r\n",
        "        FROM int_aandachtsgebieden.ndw_kwetsbarewegdelen_buffer10m_28992 as roads_selection\r\n",
        "        ORDER BY dist\r\n",
        "        LIMIT 1\r\n",
        "    ) as roads_closest\r\n",
        ");'''\r\n",
        "cur.execute(sql)\r\n",
        "sql_meta='''CALL update_metadata('rdt_dev'::VARCHAR,'int_aandachtsgebieden'::VARCHAR,'traces_truck_raw_roadid'::VARCHAR,NOW(),'RDT_aandachtsgebieden'::VARCHAR,'calculation'::VARCHAR);'''\r\n",
        "cur.execute(sql_meta)"
      ],
      "attachments": null,
      "outputs": [],
      "execution_count": 4
    },
    {
      "cell_type": "markdown",
      "metadata": {
        "nteract": {
          "transient": {
            "deleting": false
          }
        }
      },
      "source": [
        "Tel het aantal unieke traces per wegsegment (met een ID dat ook in kwetsbare wegdelen voorkomt) => intensiteit"
      ],
      "attachments": null,
      "outputs": []
    },
    {
      "cell_type": "code",
      "metadata": {
        "jupyter": {
          "source_hidden": false,
          "outputs_hidden": false
        },
        "nteract": {
          "transient": {
            "deleting": false
          }
        }
      },
      "source": [
        "sql='''DROP TABLE IF EXISTS int_aandachtsgebieden.traces_truck_merged CASCADE;\r\n",
        "CREATE TABLE int_aandachtsgebieden.traces_truck_merged\r\n",
        "AS (\r\n",
        "    SELECT merge_roads.intensity, merge_roads.id, merge_roads.month, roads_kwetsbaar.geom\r\n",
        "    FROM (\r\n",
        "        SELECT SUM(raw_merge.intensity) as intensity, id, month\r\n",
        "        FROM (\r\n",
        "            SELECT count(distinct(session_id)) as intensity, ABS(id) as id, to_char(timestamp, 'YYYY-MM') as month\r\n",
        "            FROM int_aandachtsgebieden.traces_truck_raw_roadid\r\n",
        "            GROUP BY ABS(id), to_char(timestamp, 'YYYY-MM')\r\n",
        "            ) as raw_merge\r\n",
        "        GROUP BY raw_merge.id, month\r\n",
        "    ) as merge_roads\r\n",
        "    INNER JOIN stg_aandachtsgebieden.ndw_kwetsbarewegdelen as roads_kwetsbaar\r\n",
        "    ON roads_kwetsbaar.id=merge_roads.id\r\n",
        "    ORDER BY merge_roads.intensity DESC\r\n",
        ");'''\r\n",
        "cur.execute(sql)\r\n",
        "sql_meta='''CALL update_metadata('rdt_dev'::VARCHAR,'int_aandachtsgebieden'::VARCHAR,'traces_truck_merged'::VARCHAR,NOW(),'RDT_aandachtsgebieden'::VARCHAR,'calculation'::VARCHAR);'''\r\n",
        "cur.execute(sql_meta)"
      ],
      "attachments": null,
      "outputs": [],
      "execution_count": 5
    },
    {
      "cell_type": "code",
      "metadata": {
        "jupyter": {
          "source_hidden": false,
          "outputs_hidden": false
        },
        "nteract": {
          "transient": {
            "deleting": false
          }
        }
      },
      "source": [
        "# Data to display as WFS layer\r\n",
        "sql='''DROP TABLE IF EXISTS prd_aandachtsgebieden.displayTable_infra;\r\n",
        "CREATE TABLE prd_aandachtsgebieden.displayTable_infra AS (\r\n",
        "    SELECT  ttm.*, ST_length(ST_TRANSFORM(ttm.geom, 28992)) as weglengte\r\n",
        "            ,roads_closest.straatnaam, roads_closest.rvv_modelnummer, roads_closest.tekst_waarde\r\n",
        "            ,ws.wvk_id as road_id, ws.wegbehnaam as roadauthority\r\n",
        "    FROM int_aandachtsgebieden.traces_truck_merged as ttm\r\n",
        "    CROSS JOIN LATERAL (\r\n",
        "        SELECT bv3.*, ST_TRANSFORM(bv3.geom, 28992) <-> ST_TRANSFORM(ttm.geom, 28992) AS dist\r\n",
        "        FROM prd_ndw_borden.ndw_bebording_verrijkt_3 as bv3\r\n",
        "        ORDER BY dist\r\n",
        "        LIMIT 1\r\n",
        "    ) as roads_closest\r\n",
        "    LEFT JOIN stg_ndw_wegen.nwb_raw_subselection as ws\r\n",
        "    ON ttm.id=ws.wvk_id\r\n",
        "    ORDER BY ttm.intensity DESC\r\n",
        ");'''\r\n",
        "cur.execute(sql)\r\n",
        "sql_meta='''CALL update_metadata('rdt_dev'::VARCHAR,'prd_aandachtsgebieden'::VARCHAR,'displayTable_infra'::VARCHAR,NOW(),'RDT_aandachtsgebieden'::VARCHAR,'calculation'::VARCHAR);'''\r\n",
        "cur.execute(sql_meta)"
      ],
      "attachments": null,
      "outputs": [],
      "execution_count": 7
    }
  ],
  "entityState": null,
  "renameOperationDetails": null,
  "targetSparkConfiguration": null
}